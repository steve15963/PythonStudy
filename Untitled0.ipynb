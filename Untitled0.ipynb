{
  "nbformat": 4,
  "nbformat_minor": 0,
  "metadata": {
    "colab": {
      "provenance": [],
      "authorship_tag": "ABX9TyNrTA0tfYUCcYLHABWXpYYL",
      "include_colab_link": true
    },
    "kernelspec": {
      "name": "python3",
      "display_name": "Python 3"
    },
    "language_info": {
      "name": "python"
    }
  },
  "cells": [
    {
      "cell_type": "markdown",
      "metadata": {
        "id": "view-in-github",
        "colab_type": "text"
      },
      "source": [
        "<a href=\"https://colab.research.google.com/github/steve15963/PythonStudy/blob/main/Untitled0.ipynb\" target=\"_parent\"><img src=\"https://colab.research.google.com/assets/colab-badge.svg\" alt=\"Open In Colab\"/></a>"
      ]
    },
    {
      "cell_type": "code",
      "execution_count": 3,
      "metadata": {
        "colab": {
          "base_uri": "https://localhost:8080/"
        },
        "id": "eaEa6X-zk29X",
        "outputId": "7fe6f9c0-7599-4fdd-d2d8-3629f2d3ff62"
      },
      "outputs": [
        {
          "output_type": "stream",
          "name": "stdout",
          "text": [
            "123\n",
            "테스트1번 1번과 연결되는 문자는 공백입니다.\n",
            "테스트2번-1번과 연결되는 문자는 sep에 따라서 -로 변경되었습니다. \n",
            "테스트3번-끝나는 줄 개행을 -으로 변경하여 하나의 줄에 출력이 됩니다.\n"
          ]
        }
      ],
      "source": [
        "print(123)\n",
        "\n",
        "print(\"테스트1번\", \"1번과 연결되는 문자는 공백입니다.\")\n",
        "\n",
        "print(\"테스트2번\" , \"1번과 연결되는 문자는 sep에 따라서 -로 변경되었습니다. \", sep='-')\n",
        "\n",
        "print(\"테스트3번\", end='-')\n",
        "print(\"끝나는 줄 개행을 -으로 변경하여 하나의 줄에 출력이 됩니다.\")\n",
        "\n"
      ]
    },
    {
      "cell_type": "code",
      "source": [
        "a = input(\"입력 : \")\n",
        "print(a)\n"
      ],
      "metadata": {
        "colab": {
          "base_uri": "https://localhost:8080/"
        },
        "id": "FP4tkgxUlKyM",
        "outputId": "3b6f9e1c-4417-41e5-d919-8c093d24ec76"
      },
      "execution_count": 5,
      "outputs": [
        {
          "output_type": "stream",
          "name": "stdout",
          "text": [
            "입력 : 테스트\n",
            "테스트\n"
          ]
        }
      ]
    },
    {
      "cell_type": "code",
      "source": [
        "#연산\n",
        "x = 10\n",
        "y = 3\n",
        "\n",
        "print(x + y)\n",
        "\n",
        "print(x - y)\n",
        "\n",
        "print(x * y)\n",
        "\n",
        "#실수 나누기\n",
        "print(x / y)\n",
        "\n",
        "#정수 나누기\n",
        "print(x // y)\n",
        "\n",
        "print(x % y)"
      ],
      "metadata": {
        "colab": {
          "base_uri": "https://localhost:8080/"
        },
        "id": "zD4JaLI7y_01",
        "outputId": "9a059953-e2d8-4f71-aa02-fd45c14a096d"
      },
      "execution_count": 12,
      "outputs": [
        {
          "output_type": "stream",
          "name": "stdout",
          "text": [
            "13\n",
            "7\n",
            "30\n",
            "3.3333333333333335\n",
            "3\n",
            "1\n"
          ]
        }
      ]
    },
    {
      "cell_type": "code",
      "source": [
        "x = -10\n",
        "\n",
        "print(-x)\n",
        "print(+x)\n",
        "\n",
        "print( abs (x) )"
      ],
      "metadata": {
        "colab": {
          "base_uri": "https://localhost:8080/"
        },
        "id": "6t0QFCiwz-6U",
        "outputId": "71b79c04-163c-4870-cedd-e3f0031b4918"
      },
      "execution_count": 13,
      "outputs": [
        {
          "output_type": "stream",
          "name": "stdout",
          "text": [
            "10\n",
            "-10\n"
          ]
        }
      ]
    },
    {
      "cell_type": "code",
      "source": [
        "inData = input(\"입력 : \")\n",
        "\n",
        "integer = int(inData)\n",
        "\n",
        "x = 10\n",
        "\n",
        "\n",
        "print(x + integer)\n",
        "#에러 발생\n",
        "print(x + inData)\n",
        "\n"
      ],
      "metadata": {
        "colab": {
          "base_uri": "https://localhost:8080/",
          "height": 276
        },
        "id": "7gjUkmQx0JCk",
        "outputId": "3bce59c8-22b3-45b3-92b9-fc9d8cd5db5b"
      },
      "execution_count": 17,
      "outputs": [
        {
          "output_type": "stream",
          "name": "stdout",
          "text": [
            "입력 : 5\n",
            "15\n"
          ]
        },
        {
          "output_type": "error",
          "ename": "TypeError",
          "evalue": "unsupported operand type(s) for +: 'int' and 'str'",
          "traceback": [
            "\u001b[0;31m---------------------------------------------------------------------------\u001b[0m",
            "\u001b[0;31mTypeError\u001b[0m                                 Traceback (most recent call last)",
            "\u001b[0;32m<ipython-input-17-a3c205391974>\u001b[0m in \u001b[0;36m<cell line: 10>\u001b[0;34m()\u001b[0m\n\u001b[1;32m      8\u001b[0m \u001b[0mprint\u001b[0m\u001b[0;34m(\u001b[0m\u001b[0mx\u001b[0m \u001b[0;34m+\u001b[0m \u001b[0minteger\u001b[0m\u001b[0;34m)\u001b[0m\u001b[0;34m\u001b[0m\u001b[0;34m\u001b[0m\u001b[0m\n\u001b[1;32m      9\u001b[0m \u001b[0;31m#에러 발생\u001b[0m\u001b[0;34m\u001b[0m\u001b[0;34m\u001b[0m\u001b[0m\n\u001b[0;32m---> 10\u001b[0;31m \u001b[0mprint\u001b[0m\u001b[0;34m(\u001b[0m\u001b[0mx\u001b[0m \u001b[0;34m+\u001b[0m \u001b[0minData\u001b[0m\u001b[0;34m)\u001b[0m\u001b[0;34m\u001b[0m\u001b[0;34m\u001b[0m\u001b[0m\n\u001b[0m\u001b[1;32m     11\u001b[0m \u001b[0;34m\u001b[0m\u001b[0m\n",
            "\u001b[0;31mTypeError\u001b[0m: unsupported operand type(s) for +: 'int' and 'str'"
          ]
        }
      ]
    },
    {
      "cell_type": "code",
      "source": [
        "x = 10\n",
        "y= 3\n",
        "\n",
        "a,b = divmod(10,3)\n",
        "\n",
        "#몫\n",
        "print(a)\n",
        "#나머지\n",
        "print(b)"
      ],
      "metadata": {
        "colab": {
          "base_uri": "https://localhost:8080/"
        },
        "id": "BaKEWj_y0uku",
        "outputId": "4377bf87-8717-46ab-d0a7-7ee3ea1fa931"
      },
      "execution_count": 21,
      "outputs": [
        {
          "output_type": "stream",
          "name": "stdout",
          "text": [
            "3\n",
            "1\n"
          ]
        }
      ]
    },
    {
      "cell_type": "code",
      "source": [
        "# 제곱\n",
        "x = 10\n",
        "y = 3\n",
        "z = pow(x,y)\n",
        "print(z)\n",
        "\n",
        "z = x ** y\n",
        "print(z)"
      ],
      "metadata": {
        "colab": {
          "base_uri": "https://localhost:8080/"
        },
        "id": "wivTjR7p1Pm3",
        "outputId": "b1aa36a5-2d24-4828-b342-e1c6cad2be26"
      },
      "execution_count": 23,
      "outputs": [
        {
          "output_type": "stream",
          "name": "stdout",
          "text": [
            "1000\n",
            "1000\n"
          ]
        }
      ]
    },
    {
      "cell_type": "code",
      "source": [
        "one = int(input(\"입력 : \"))\n",
        "two = int(input(\"입력 : \"))\n",
        "\n",
        "print(\"합 : \" , one + two)\n",
        "print(\"차 : \" , one - two)\n",
        "print(\"곱 : \" , one * two)\n",
        "print(\"목 : \" , one % two)"
      ],
      "metadata": {
        "colab": {
          "base_uri": "https://localhost:8080/"
        },
        "id": "S6Fi1pC_1Vck",
        "outputId": "e2f03755-fddb-4ed0-c10b-6102ebf423bd"
      },
      "execution_count": 28,
      "outputs": [
        {
          "output_type": "stream",
          "name": "stdout",
          "text": [
            "입력 : 10\n",
            "입력 : 2\n",
            "합 :  12\n",
            "차 :  8\n",
            "곱 :  20\n",
            "목 :  0\n"
          ]
        }
      ]
    },
    {
      "cell_type": "code",
      "source": [
        "one = int(input())\n",
        "two = int(input())\n",
        "\n",
        "print(f\"{one/two:.2f}\")"
      ],
      "metadata": {
        "colab": {
          "base_uri": "https://localhost:8080/"
        },
        "id": "rhJxqccIFo21",
        "outputId": "52777f24-8bfa-4974-afb6-7d02728ff034"
      },
      "execution_count": 109,
      "outputs": [
        {
          "output_type": "stream",
          "name": "stdout",
          "text": [
            "10\n",
            "3\n",
            "3.33\n"
          ]
        }
      ]
    },
    {
      "cell_type": "code",
      "source": [
        "a = '\"안녕하세요\"'\n",
        "\n",
        "print(a)\n",
        "\n",
        "#\"을 출력하고 싶다면 '으로 감싸거나\n",
        "a = \"안녕하세요\"\n",
        "print(a)\n",
        "\n",
        "# \"\"\"으로 감싼다.\n",
        "a= \"\"\"\n",
        "테스\"트\"입니다.\n",
        "\"\"\"\n",
        "print(a)\n"
      ],
      "metadata": {
        "colab": {
          "base_uri": "https://localhost:8080/"
        },
        "id": "jN5ZnsWK6HtF",
        "outputId": "cbe68e41-be6d-4e50-ce32-c6318e91dbbb"
      },
      "execution_count": 30,
      "outputs": [
        {
          "output_type": "stream",
          "name": "stdout",
          "text": [
            "\"안녕하세요\"\n",
            "안녕하세요\n",
            "\n",
            "테스\"트\"입니다.\n",
            "\n"
          ]
        }
      ]
    },
    {
      "cell_type": "code",
      "source": [
        "a = \"abcdefg\"\n",
        "\n",
        "for char in a:\n",
        "  print(char,end='')\n",
        "\n",
        "# a가 아닌 이유 인덱스는 0부터임.\n",
        "print(a[1],end='\\n')\n",
        "\n",
        "\n"
      ],
      "metadata": {
        "colab": {
          "base_uri": "https://localhost:8080/"
        },
        "id": "8agNM_G66X3w",
        "outputId": "52bd1fb0-23f3-4ce0-8941-1ca448e1adde"
      },
      "execution_count": 35,
      "outputs": [
        {
          "output_type": "stream",
          "name": "stdout",
          "text": [
            "abcdefgb\n"
          ]
        }
      ]
    },
    {
      "cell_type": "code",
      "source": [
        "a = 'abcdefg'\n",
        "\n",
        "#전체\n",
        "print(a[:])\n",
        "\n",
        "print(a[1:3])\n",
        "\n",
        "print(a[3:])\n",
        "\n",
        "print(a[:5])\n",
        "\n",
        "#2칸씩\n",
        "print(a[1:4:2])"
      ],
      "metadata": {
        "colab": {
          "base_uri": "https://localhost:8080/"
        },
        "id": "C5AFvvbd7Itd",
        "outputId": "999b1f52-13ad-47d9-f0cc-104aeb2ad33b"
      },
      "execution_count": 42,
      "outputs": [
        {
          "output_type": "stream",
          "name": "stdout",
          "text": [
            "abcdefg\n",
            "bc\n",
            "defg\n",
            "abcde\n",
            "bd\n"
          ]
        }
      ]
    },
    {
      "cell_type": "code",
      "source": [
        "print(\"ABC\" + \"DEF\")"
      ],
      "metadata": {
        "colab": {
          "base_uri": "https://localhost:8080/"
        },
        "id": "VbWWdBcL7b38",
        "outputId": "0aa18f9b-94ca-4ea0-e815-d73f1462c4db"
      },
      "execution_count": 43,
      "outputs": [
        {
          "output_type": "stream",
          "name": "stdout",
          "text": [
            "ABCDEF\n"
          ]
        }
      ]
    },
    {
      "cell_type": "code",
      "source": [
        "str = \"가나다라마바사\"\n",
        "\n",
        "str2 = str[3:6]\n",
        "\n",
        "print(str)\n",
        "\n",
        "print(str2)"
      ],
      "metadata": {
        "colab": {
          "base_uri": "https://localhost:8080/"
        },
        "id": "vAcvXIMr8JaN",
        "outputId": "3eb80d83-86d0-4156-caa6-6cb2cc3fa78b"
      },
      "execution_count": 47,
      "outputs": [
        {
          "output_type": "stream",
          "name": "stdout",
          "text": [
            "가나다라마바사\n",
            "라마바\n"
          ]
        }
      ]
    },
    {
      "cell_type": "code",
      "source": [
        "s = \"hello world\"\n",
        "\n",
        "newS = s.capitalize()\n",
        "\n",
        "print(s)\n",
        "#첫 문자 대문자화\n",
        "print(newS)\n",
        "\n",
        "sCount = s.count('l')\n",
        "#문자 카운트\n",
        "print(sCount)\n",
        "\n",
        "sCount = s.count('hello')\n",
        "#문자열 카운트\n",
        "print(sCount)\n",
        "\n",
        "#특정 문자열로 시작하는지\n",
        "print(\"특정 문자열로 시작하는지\")\n",
        "print( s.startswith('h') )\n",
        "print( s.startswith(\"hello\") )\n",
        "\n",
        "\n",
        "\n",
        "#특정 문자열 끝나는지\n",
        "print(\"특정 문자열로 끝나는\")\n",
        "print( s.endswith('d') )\n",
        "print( s.endswith(\"world\"))\n",
        "\n",
        "#대소문자도 구별하는지.\n",
        "print(\"대소문자도 구별하는지\")\n",
        "print( s.startswith('hello') )\n",
        "print( s.startswith('Hello') )\n",
        "print( s.endswith(\"world\"))\n",
        "print( s.endswith(\"World\"))\n",
        "\n",
        "\n",
        "#문자열 찾기\n",
        "print( s.find(\"e\") )\n",
        "print( s.find(\"wor\") )\n",
        "print( s.index(\"e\") )\n",
        "#에러 발생\n",
        "#print( s.index(\"z\") )\n",
        "#find는 -1 반환 , index는 에러 발생."
      ],
      "metadata": {
        "colab": {
          "base_uri": "https://localhost:8080/"
        },
        "id": "8pOW993L8T7k",
        "outputId": "1a67ea7d-9f56-44cd-8e6b-0029a48b69f7"
      },
      "execution_count": 59,
      "outputs": [
        {
          "output_type": "stream",
          "name": "stdout",
          "text": [
            "hello world\n",
            "Hello world\n",
            "3\n",
            "1\n",
            "특정 문자열로 시작하는지\n",
            "True\n",
            "True\n",
            "특정 문자열로 끝나는\n",
            "True\n",
            "True\n",
            "대소문자도 구별하는지\n",
            "True\n",
            "False\n",
            "True\n",
            "False\n",
            "1\n",
            "6\n",
            "1\n"
          ]
        }
      ]
    },
    {
      "cell_type": "code",
      "source": [
        "slower = s.lower();\n",
        "\n",
        "print(slower);\n",
        "\n",
        "ulower = s.upper();\n",
        "\n",
        "print(ulower);"
      ],
      "metadata": {
        "colab": {
          "base_uri": "https://localhost:8080/"
        },
        "id": "D_P5lb8I81Yu",
        "outputId": "b6e52c31-d8b4-4014-fc2c-59bda794bfea"
      },
      "execution_count": 61,
      "outputs": [
        {
          "output_type": "stream",
          "name": "stdout",
          "text": [
            "hello world\n",
            "HELLO WORLD\n"
          ]
        }
      ]
    },
    {
      "cell_type": "code",
      "source": [
        "copys = s.replace('world',\"replace\")\n",
        "\n",
        "print(copys)"
      ],
      "metadata": {
        "colab": {
          "base_uri": "https://localhost:8080/"
        },
        "id": "U_UQZKlb_7kl",
        "outputId": "d9156637-0cc0-4b01-8153-88aef0f19ea6"
      },
      "execution_count": 62,
      "outputs": [
        {
          "output_type": "stream",
          "name": "stdout",
          "text": [
            "hello replace\n"
          ]
        }
      ]
    },
    {
      "cell_type": "code",
      "source": [
        "splitS = s.split()\n",
        "\n",
        "print(splitS)\n",
        "\n",
        "splitS2 = s.split('o')\n",
        "\n",
        "print(splitS2)\n",
        "\n",
        "splitS3 = s.split(\"ll\")\n",
        "\n",
        "print(splitS3)"
      ],
      "metadata": {
        "colab": {
          "base_uri": "https://localhost:8080/"
        },
        "id": "-UhUU5t9AGZE",
        "outputId": "0e591173-0251-4f03-f593-236b7fbfc347"
      },
      "execution_count": 70,
      "outputs": [
        {
          "output_type": "stream",
          "name": "stdout",
          "text": [
            "['hello', 'world']\n",
            "['hell', ' w', 'rld']\n",
            "['he', 'o world']\n"
          ]
        }
      ]
    },
    {
      "cell_type": "code",
      "source": [
        "one, two ,three = map(int,input(\"입력\").split())\n",
        "\n",
        "print(one + two + three)"
      ],
      "metadata": {
        "colab": {
          "base_uri": "https://localhost:8080/"
        },
        "id": "uZJqZjuUAz9l",
        "outputId": "6bc34a54-78c5-4510-dd31-65102f4474d9"
      },
      "execution_count": 77,
      "outputs": [
        {
          "output_type": "stream",
          "name": "stdout",
          "text": [
            "입력1 2 3\n",
            "6\n"
          ]
        }
      ]
    },
    {
      "cell_type": "code",
      "source": [
        "print(\"내 이름은 %s입니다. 나이는 %d입니다. 키는 %f입니다.\"%(\"점점점\", 1, 123.123))\n",
        "\n",
        "print(\"내 이름은 {2}입니다. 나이는 {0}입니다. 키는 {1}입니다.\".format(\"점점점\",20,123.123))\n",
        "\n",
        "print(\"내 이름은 {name}입니다. 나이는 {age}입니다. 키는 {heigth}입니다.\".format(name=\"점점점\",age=20,heigth=123.123))\n",
        "\n",
        "name = \"점점점\"\n",
        "age = 10\n",
        "\n",
        "print( f\"{name}의 나이는 {age}살 입니다.\" )\n",
        "\n",
        "\n",
        "print(\"==%s==\"%\"hello\")\n",
        "print(\"==%10s==\"%\"hello\")\n",
        "print(\"==%-10s==\"%\"hello\")\n",
        "\n",
        "print(\"=={:10}==\".format(\"hello\"))\n",
        "print(\"=={:>10}==\".format(\"hello\"))\n",
        "print(\"=={:<10}==\".format(\"hello\"))\n",
        "print(\"=={:^10}==\".format(\"hello\"))\n",
        "print( f\"=={name:10}==의 나이는 {age}살 입니다.\" )\n",
        "print( f\"=={name:>10}==의 나이는 {age}살 입니다.\" )\n",
        "\n",
        "print(\"%.f\"%(10/3))\n",
        "print(\"%.2f\"%(10/3))\n",
        "\n",
        "print( \"=={:.4f}==\".format(10/3) )\n",
        "\n",
        "print( \"{:,}\".format(999999) )"
      ],
      "metadata": {
        "colab": {
          "base_uri": "https://localhost:8080/"
        },
        "id": "J9ZAvxXaCn-G",
        "outputId": "e70a4668-862f-44bc-c3e6-3858022e87d0"
      },
      "execution_count": 112,
      "outputs": [
        {
          "output_type": "stream",
          "name": "stdout",
          "text": [
            "내 이름은 점점점입니다. 나이는 1입니다. 키는 123.123000입니다.\n",
            "내 이름은 123.123입니다. 나이는 점점점입니다. 키는 20입니다.\n",
            "내 이름은 점점점입니다. 나이는 20입니다. 키는 123.123입니다.\n",
            "점점점의 나이는 10살 입니다.\n",
            "==hello==\n",
            "==     hello==\n",
            "==hello     ==\n",
            "==hello     ==\n",
            "==     hello==\n",
            "==hello     ==\n",
            "==  hello   ==\n",
            "==점점점       ==의 나이는 10살 입니다.\n",
            "==       점점점==의 나이는 10살 입니다.\n",
            "3\n",
            "3.33\n",
            "==3.3333==\n",
            "999,999\n"
          ]
        }
      ]
    },
    {
      "cell_type": "code",
      "source": [
        "num = int(input())\n",
        "\n",
        "print(num//10000%10,\"TTHO\",end=\" \",sep='')\n",
        "print(num//1000%10,\"THO\",end=\" \",sep='')\n",
        "print(num//100%10,\"HUN\",end=\" \",sep='')\n",
        "print(num//10%10,\"TEN\",end=\" \",sep='')\n",
        "print(num%10)"
      ],
      "metadata": {
        "colab": {
          "base_uri": "https://localhost:8080/"
        },
        "id": "OjJuIvQoG3kb",
        "outputId": "a8baef23-cf4a-433c-a468-ea9ae7d463d9"
      },
      "execution_count": 117,
      "outputs": [
        {
          "output_type": "stream",
          "name": "stdout",
          "text": [
            "01234\n",
            "0TTHO 1THO 2HUN 3TEN 4\n"
          ]
        }
      ]
    },
    {
      "cell_type": "code",
      "source": [
        "num = int(input(\"입력 : \"))\n",
        "\n",
        "two = num % 2 == 0\n",
        "three = num % 3 == 0\n",
        "five = num % 5 == 0\n",
        "\n",
        "if two and three and five:\n",
        "  print(\"A\")\n",
        "elif two and three:\n",
        "  print(\"B\")\n",
        "elif three and five:\n",
        "  print(\"C\")\n",
        "elif two and five:\n",
        "  print(\"D\")\n",
        "elif two or three or five:\n",
        "  print(\"E\")\n",
        "else:\n",
        "  print(\"F\")\n"
      ],
      "metadata": {
        "colab": {
          "base_uri": "https://localhost:8080/"
        },
        "id": "zaT2U7RSC2E8",
        "outputId": "9f152e61-b7a2-408b-eba0-e7cee7e80301"
      },
      "execution_count": 120,
      "outputs": [
        {
          "output_type": "stream",
          "name": "stdout",
          "text": [
            "입력 : 1\n",
            "F\n"
          ]
        }
      ]
    },
    {
      "cell_type": "code",
      "source": [
        "for i in range(5):\n",
        "  print(i)\n",
        "print(\"===========\")\n",
        "for i in range(1,3):\n",
        "  print(i)\n",
        "print(\"===========\")\n",
        "for i in range(0,10,2):\n",
        "  print(i)\n",
        "print(\"===========\")\n",
        "inputlist = map(int, input(\"입력\").split())\n",
        "\n",
        "for i in inputlist:\n",
        "  print(i)"
      ],
      "metadata": {
        "colab": {
          "base_uri": "https://localhost:8080/"
        },
        "id": "MOAJxL_BOg-m",
        "outputId": "4565cb9b-33d7-49a8-a933-a7a129ef272b"
      },
      "execution_count": 128,
      "outputs": [
        {
          "output_type": "stream",
          "name": "stdout",
          "text": [
            "0\n",
            "1\n",
            "2\n",
            "3\n",
            "4\n",
            "===========\n",
            "1\n",
            "2\n",
            "===========\n",
            "0\n",
            "2\n",
            "4\n",
            "6\n",
            "8\n",
            "===========\n",
            "입력123\n",
            "123\n"
          ]
        }
      ]
    },
    {
      "cell_type": "code",
      "source": [
        "a = [1,2,3,4,5]\n",
        "print(a)\n",
        "\n",
        "b = [6,7,8,9,0]\n",
        "\n",
        "print(a+b)\n",
        "\n",
        "c = a * 3\n",
        "\n",
        "print(c)\n",
        "\n",
        "al = len(a)\n",
        "print(al)\n",
        "\n",
        "b[4] = 10\n",
        "\n",
        "li = [1,2,3,4,5]\n",
        "\n",
        "del li[1]\n",
        "\n",
        "print(li)\n",
        "\n",
        "print(1 in [1,2,3])\n",
        "\n",
        "print( 10 in li )"
      ],
      "metadata": {
        "colab": {
          "base_uri": "https://localhost:8080/"
        },
        "id": "aJ2oVFi0Rdd4",
        "outputId": "af807da8-af04-4868-fa9f-4df6c1db1740"
      },
      "execution_count": 137,
      "outputs": [
        {
          "output_type": "stream",
          "name": "stdout",
          "text": [
            "[1, 2, 3, 4, 5]\n",
            "[1, 2, 3, 4, 5, 6, 7, 8, 9, 0]\n",
            "[1, 2, 3, 4, 5, 1, 2, 3, 4, 5, 1, 2, 3, 4, 5]\n",
            "5\n",
            "[1, 3, 4, 5]\n",
            "True\n",
            "False\n"
          ]
        }
      ]
    },
    {
      "cell_type": "code",
      "source": [
        "li = [1,2,3]\n",
        "li.append(4)\n",
        "\n",
        "print(li)\n",
        "\n",
        "#요소로 리스트가\n",
        "li = [ 1, 2, 3 ]\n",
        "li.append([4,5,6])\n",
        "print(li)\n",
        "\n",
        "#리스트에 요소를 넣는다.\n",
        "li = [ 1, 2, 3 ]\n",
        "li.extend([4,5,6])\n",
        "print(li)\n",
        "\n",
        "#특정 인덱스에 요소를 넣는다.\n",
        "li = [ 1, 2, 3 ]\n",
        "li.insert(2,10)\n",
        "print(li)\n",
        "\n",
        "#리스트에서 일치하는 요소의 수를 카운트\n",
        "li = [ 1, 2, 3,1,2,3,4,1,23,4,56,1,2]\n",
        "print(li.count(1))\n",
        "\n",
        "#리스트에서 특정값에 해당하는 요소를 찾지만 찾지 못하면 에러가 터진다.\n",
        "#앞에서 부터 탐색\n",
        "li = [ 1, 2, 3, 2, 1]\n",
        "print(li.index(1))\n",
        "\n",
        "#정렬\n",
        "li = [ 2, 1, 3 ]\n",
        "li.sort()\n",
        "print(li)\n",
        "li.sort(reverse=True)\n",
        "print(li)\n",
        "\n",
        "#뒤집기\n",
        "li = [ 3, 2 ,1]\n",
        "li.reverse()\n",
        "print(li)\n",
        "\n",
        "#삭제 단 중복 요소가 여러개라도 첫번재 요소만(왼쪽부터 오른족으로)\n",
        "li = [ 3, 2 ,1, 3]\n",
        "li.remove(3)\n",
        "print(li)\n",
        "\n",
        "#스택 POP\n",
        "li = [1,1,2,3,3]\n",
        "popData = li.pop()\n",
        "print(li,popData)\n",
        "\n",
        "\n",
        "#최대값, 최소값, 합계\n",
        "li = [1,2,3,4,5,6,7,8,9,1111,1235]\n",
        "print(max(li), min(li), sum(li))\n",
        "\n",
        "# range(10)은 객체\n",
        "# list(range(10))는 리스트\n",
        "print(range(10))\n",
        "print(list(range(10)))\n"
      ],
      "metadata": {
        "colab": {
          "base_uri": "https://localhost:8080/"
        },
        "id": "mKhckHrlTyYY",
        "outputId": "404f44c5-ece0-497c-e34a-840ba2729fe0"
      },
      "execution_count": 154,
      "outputs": [
        {
          "output_type": "stream",
          "name": "stdout",
          "text": [
            "[1, 2, 3, 4]\n",
            "[1, 2, 3, [4, 5, 6]]\n",
            "[1, 2, 3, 4, 5, 6]\n",
            "[1, 2, 10, 3]\n",
            "4\n",
            "0\n",
            "[1, 2, 3]\n",
            "[3, 2, 1]\n",
            "[1, 2, 3]\n",
            "[2, 1, 3]\n",
            "[1, 1, 2, 3] 3\n",
            "1235 1 2391\n",
            "range(0, 10)\n"
          ]
        }
      ]
    },
    {
      "cell_type": "code",
      "source": [
        "#튜플\n",
        "t = ()\n",
        "t = (1,)\n",
        "t2 = (1, 2, 3)\n",
        "#튜플은 소괄호 생략가능\n",
        "t = 1, 2, 3, 4\n",
        "#튜플은 변경 불가\n",
        "#t[0] = 2\n",
        "print(len(t))\n",
        "\n",
        "print(t.count(1))\n",
        "\n",
        "print(t * 3)\n",
        "\n",
        "print(t + t2)\n",
        "\n",
        "print(min(t), max(t), sum(t))\n",
        "\n",
        "print(t[2:3])\n"
      ],
      "metadata": {
        "colab": {
          "base_uri": "https://localhost:8080/"
        },
        "id": "OYLcPOdoTLPF",
        "outputId": "de17f1c1-6a3e-4215-b8b2-af5621e826ba"
      },
      "execution_count": 158,
      "outputs": [
        {
          "output_type": "stream",
          "name": "stdout",
          "text": [
            "4\n",
            "1\n",
            "(1, 2, 3, 4, 1, 2, 3, 4, 1, 2, 3, 4)\n",
            "(1, 2, 3, 4, 1, 2, 3)\n",
            "1 4 10\n",
            "(3,)\n"
          ]
        }
      ]
    },
    {
      "cell_type": "code",
      "source": [
        "#집합.\n",
        "s = {1,2,3}\n",
        "print(s)\n",
        "\n",
        "#중복 불가\n",
        "s = {1,2,3,1,2,3}\n",
        "print(s)\n",
        "\n",
        "s = set(\"hello\")\n",
        "print(s)\n",
        "\n",
        "\n",
        "s1 = set([1,2,3,4,5])\n",
        "s2 = set([3,4,5])\n",
        "\n",
        "#교집합\n",
        "print(s1 & s2)\n",
        "\n",
        "#합집합\n",
        "print(s1 | s2)\n",
        "\n",
        "#차집합\n",
        "print(s1 - s2)\n",
        "\n",
        "#부분집합 -> s2의 모든 요소가 s1에 있는가?\n",
        "print(s1 >= s2)\n",
        "print(s1.issuperset(s2))\n",
        "#부분집합 -> s1의 모든 요소가 s2에 있는가?\n",
        "print(s1 <= s2)\n",
        "print(s2.issuperset(s1))\n",
        "\n",
        "#공집합 -> s1과 s2가 겹치는 것이 없는가?\n",
        "print(s1.isdisjoint(s2))\n",
        "\n",
        "s1 = set([1,2,3])\n",
        "s1.add(4)\n",
        "print(s1)\n",
        "\n",
        "s1 = set([1,2,3])\n",
        "s1.update([4,5,6])\n",
        "print(s1)\n",
        "\n",
        "s1 = set([1,2,3])\n",
        "#1이라느 요소 삭제\n",
        "s1.remove(1)\n",
        "#없는거 삭제시 에러 발생\n",
        "#s1.remove(4)\n",
        "print(s1)\n",
        "\n",
        "s1 = set([1,2,3])\n",
        "#1요소 삭제\n",
        "s1.discard(1)\n",
        "#4라는 없는 요소 삭제시 에러가 발생하지 않음.\n",
        "s1.discard(4)\n",
        "print(s1)\n",
        "\n",
        "s1 = set([1,2,3])\n",
        "num = s1.pop()\n",
        "print(s1)\n",
        "print(num)\n",
        "\n",
        "\n",
        "\n",
        "s1 = set([1,2,3])\n",
        "print(min(s1), max(s1), sum(s1))"
      ],
      "metadata": {
        "colab": {
          "base_uri": "https://localhost:8080/"
        },
        "id": "4q_fsgaYZXj-",
        "outputId": "3dd01d0f-d345-4dfa-d6ae-1d3f766c2ce6"
      },
      "execution_count": 172,
      "outputs": [
        {
          "output_type": "stream",
          "name": "stdout",
          "text": [
            "{1, 2, 3}\n",
            "{1, 2, 3}\n",
            "{'e', 'h', 'o', 'l'}\n",
            "{3, 4, 5}\n",
            "{1, 2, 3, 4, 5}\n",
            "{1, 2}\n",
            "True\n",
            "True\n",
            "False\n",
            "False\n",
            "False\n",
            "{1, 2, 3, 4}\n",
            "{1, 2, 3, 4, 5, 6}\n",
            "{2, 3}\n",
            "{2, 3}\n",
            "{2, 3}\n",
            "1\n",
            "1 3 6\n"
          ]
        }
      ]
    },
    {
      "cell_type": "code",
      "source": [
        "dic = {\n",
        "    \"name\" : \"철수\",\n",
        "    \"몸무게\" : 123,\n",
        "    \"키\" : 123.123\n",
        "}\n",
        "print(dic['name'])\n",
        "print(dic.get('키'))\n",
        "\n",
        "#추가\n",
        "dic['나이'] = 20\n",
        "print(dic)\n",
        "\n",
        "del dic['name']\n",
        "print(dic)\n",
        "\n",
        "#모든 키 출력\n",
        "print(dic.keys())\n",
        "\n",
        "#모든 값 출력\n",
        "print(dic.values())\n",
        "\n",
        "#모든 사전 요소를 튜플 리스트로 반환\n",
        "print(dic.items())\n",
        "\n",
        "#모든 요소 삭제\n",
        "dic.clear()\n",
        "print(dic)\n",
        "\n",
        "dic = {\n",
        "    \"name\" : \"철수\",\n",
        "    \"몸무게\" : 123,\n",
        "    \"키\" : 123.123\n",
        "}\n",
        "\n",
        "#모든 요소의 수\n",
        "print(len(dic))\n",
        "\n",
        "#사전 복사\n",
        "#얕은 복사\n",
        "dic2 = dic\n",
        "#깊은 복사\n",
        "dic2 = dict(dic)\n",
        "dic2 = dic.copy()\n",
        "\n",
        "dic = { 1 : \"철수\", 2 : \"철희\", 3 : \"민희\"}\n",
        "#키값에 대한 연산\n",
        "print( min(dic), max(dic), sum(dic) )\n"
      ],
      "metadata": {
        "colab": {
          "base_uri": "https://localhost:8080/"
        },
        "id": "2K0_rr8Jasmx",
        "outputId": "49e3c639-d7f7-4825-bcf3-e3a0b240bb4a"
      },
      "execution_count": 180,
      "outputs": [
        {
          "output_type": "stream",
          "name": "stdout",
          "text": [
            "철수\n",
            "123.123\n",
            "{'name': '철수', '몸무게': 123, '키': 123.123, '나이': 20}\n",
            "{'몸무게': 123, '키': 123.123, '나이': 20}\n",
            "dict_keys(['몸무게', '키', '나이'])\n",
            "dict_values([123, 123.123, 20])\n",
            "dict_items([('몸무게', 123), ('키', 123.123), ('나이', 20)])\n",
            "{}\n",
            "3\n",
            "1 3 6\n"
          ]
        }
      ]
    },
    {
      "cell_type": "code",
      "source": [
        "def ArgsSum(*args):\n",
        "  s = 0\n",
        "  for i in args:\n",
        "    s += i\n",
        "  return s\n",
        "\n",
        "total = ArgsSum(1,2,3,4,5)\n",
        "print(total)"
      ],
      "metadata": {
        "colab": {
          "base_uri": "https://localhost:8080/"
        },
        "id": "7nfdGJJYgMBH",
        "outputId": "174e158e-8e53-4083-c720-5adfeec6361c"
      },
      "execution_count": 181,
      "outputs": [
        {
          "output_type": "stream",
          "name": "stdout",
          "text": [
            "15\n"
          ]
        }
      ]
    },
    {
      "cell_type": "code",
      "source": [
        "#덮어 씌우기\n",
        "fp = open('file.txt', 'w')\n",
        "fp.write(\"hello \\n\");\n",
        "fp.write('world \\n');\n",
        "fp.close()"
      ],
      "metadata": {
        "id": "7vzXqC2ZhdqI"
      },
      "execution_count": 199,
      "outputs": []
    },
    {
      "cell_type": "code",
      "source": [
        "#이어 쓰기\n",
        "fp = open('file.txt', 'a')\n",
        "fp.write(\"hello \\n\");\n",
        "fp.close()"
      ],
      "metadata": {
        "id": "-BQYBzFHiOsg"
      },
      "execution_count": 201,
      "outputs": []
    },
    {
      "cell_type": "code",
      "source": [
        "#한줄씩 쓰기\n",
        "fp = open('file.txt', 'r')\n",
        "\n",
        "while True:\n",
        "  line = fp.readline()\n",
        "  if not line:\n",
        "    break\n",
        "  print(line)\n",
        "fp.close()"
      ],
      "metadata": {
        "colab": {
          "base_uri": "https://localhost:8080/"
        },
        "id": "JmVp40ptigmY",
        "outputId": "c1f52ce5-382a-4194-a9c9-d4006699116f"
      },
      "execution_count": 202,
      "outputs": [
        {
          "output_type": "stream",
          "name": "stdout",
          "text": [
            "hello \n",
            "\n",
            "world \n",
            "\n",
            "hello \n",
            "\n"
          ]
        }
      ]
    },
    {
      "cell_type": "code",
      "source": [
        "#한번에 모두 읽기\n",
        "fp = open('file.txt', 'r')\n",
        "lines = fp.readlines()\n",
        "print(lines)\n",
        "fp.close()\n",
        "\n",
        "fp = open('file.txt', 'r')\n",
        "lines = fp.read()\n",
        "print(lines)\n",
        "fp.close()\n",
        "\n"
      ],
      "metadata": {
        "colab": {
          "base_uri": "https://localhost:8080/"
        },
        "id": "ZaYiIWuni_uI",
        "outputId": "0a8a6b91-6221-45a4-e4cb-010c7fa7c34e"
      },
      "execution_count": 203,
      "outputs": [
        {
          "output_type": "stream",
          "name": "stdout",
          "text": [
            "['hello \\n', 'world \\n', 'hello \\n']\n",
            "hello \n",
            "world \n",
            "hello \n",
            "\n"
          ]
        }
      ]
    },
    {
      "cell_type": "code",
      "source": [
        "with open('file.txt','a') as f:\n",
        "  f.write(\"with is god!!\")\n",
        "#파일 확인하기"
      ],
      "metadata": {
        "id": "ofprVql8jnnC"
      },
      "execution_count": 204,
      "outputs": []
    },
    {
      "cell_type": "code",
      "source": [
        "#지능형 리스트\n",
        "l1 = list(range(10))\n",
        "print(l1)\n",
        "\n",
        "\n",
        "l2 = [ i for i in range(10) ]\n",
        "print(l2)\n",
        "\n",
        "l3 = [ f'{i} x {j} = { i * j }' for i in range(2,10) for j in range(1,10) ]\n",
        "print(l3)\n",
        "\n",
        "l4 = [(1,10),(2,20),(3,30),(4,40)]\n",
        "\n",
        "for i in l4:\n",
        "  print(i)\n",
        "\n",
        "print(\"===================\")\n",
        "\n",
        "for i,j in l4:\n",
        "  print(i, j)\n"
      ],
      "metadata": {
        "colab": {
          "base_uri": "https://localhost:8080/"
        },
        "id": "j_cjUW4maEl-",
        "outputId": "f5b8a3b1-9e7f-46d1-85a7-9ae8f5afe9c2"
      },
      "execution_count": 7,
      "outputs": [
        {
          "output_type": "stream",
          "name": "stdout",
          "text": [
            "[0, 1, 2, 3, 4, 5, 6, 7, 8, 9]\n",
            "[0, 1, 2, 3, 4, 5, 6, 7, 8, 9]\n",
            "['2 x 1 = 2', '2 x 2 = 4', '2 x 3 = 6', '2 x 4 = 8', '2 x 5 = 10', '2 x 6 = 12', '2 x 7 = 14', '2 x 8 = 16', '2 x 9 = 18', '3 x 1 = 3', '3 x 2 = 6', '3 x 3 = 9', '3 x 4 = 12', '3 x 5 = 15', '3 x 6 = 18', '3 x 7 = 21', '3 x 8 = 24', '3 x 9 = 27', '4 x 1 = 4', '4 x 2 = 8', '4 x 3 = 12', '4 x 4 = 16', '4 x 5 = 20', '4 x 6 = 24', '4 x 7 = 28', '4 x 8 = 32', '4 x 9 = 36', '5 x 1 = 5', '5 x 2 = 10', '5 x 3 = 15', '5 x 4 = 20', '5 x 5 = 25', '5 x 6 = 30', '5 x 7 = 35', '5 x 8 = 40', '5 x 9 = 45', '6 x 1 = 6', '6 x 2 = 12', '6 x 3 = 18', '6 x 4 = 24', '6 x 5 = 30', '6 x 6 = 36', '6 x 7 = 42', '6 x 8 = 48', '6 x 9 = 54', '7 x 1 = 7', '7 x 2 = 14', '7 x 3 = 21', '7 x 4 = 28', '7 x 5 = 35', '7 x 6 = 42', '7 x 7 = 49', '7 x 8 = 56', '7 x 9 = 63', '8 x 1 = 8', '8 x 2 = 16', '8 x 3 = 24', '8 x 4 = 32', '8 x 5 = 40', '8 x 6 = 48', '8 x 7 = 56', '8 x 8 = 64', '8 x 9 = 72', '9 x 1 = 9', '9 x 2 = 18', '9 x 3 = 27', '9 x 4 = 36', '9 x 5 = 45', '9 x 6 = 54', '9 x 7 = 63', '9 x 8 = 72', '9 x 9 = 81']\n",
            "<generator object <genexpr> at 0x7be979733df0>\n"
          ]
        }
      ]
    },
    {
      "cell_type": "code",
      "source": [
        "for i,j in enumerate(range(100,1000,1000), 1):\n",
        "  print(i,j)\n",
        "  # pass는 아무 작업도 하지 않는다.\n",
        "  # 에러가 안나도록 할경우 사용한다.\n",
        "  # 즉 다음에 작성할 예정인 경우 사용하면 좋다.\n",
        "  pass\n",
        "\n"
      ],
      "metadata": {
        "colab": {
          "base_uri": "https://localhost:8080/"
        },
        "id": "MPV63GhVcKOy",
        "outputId": "005104e4-2629-4f40-fa7d-e8d792ec839b"
      },
      "execution_count": 12,
      "outputs": [
        {
          "output_type": "stream",
          "name": "stdout",
          "text": [
            "1 100\n"
          ]
        }
      ]
    },
    {
      "cell_type": "code",
      "source": [
        "for i in range(3):\n",
        "  print(i)\n",
        "else:\n",
        "  print(\"end job\")\n",
        "\n",
        "for i in range(3):\n",
        "  print(i)\n",
        "  if( i == 2 ):\n",
        "   break;\n",
        "else:\n",
        "  # 정상종료가 아니므로 실행되지 않음.\n",
        "  print(\"end job\")"
      ],
      "metadata": {
        "colab": {
          "base_uri": "https://localhost:8080/"
        },
        "id": "LhdjRZw_bgdH",
        "outputId": "2fbe7b28-a74c-47c9-977e-bde9f18dbc0e"
      },
      "execution_count": 6,
      "outputs": [
        {
          "output_type": "stream",
          "name": "stdout",
          "text": [
            "0\n",
            "1\n",
            "2\n",
            "end job\n",
            "0\n",
            "1\n",
            "2\n"
          ]
        }
      ]
    },
    {
      "cell_type": "code",
      "source": [
        "class Car(object):\n",
        "  maxSpeed = 300\n",
        "  maxPeople = 5\n",
        "  def start(self):\n",
        "    print('출발')\n",
        "  def stop(self):\n",
        "    print('정지')\n",
        "  def __str__(self):\n",
        "    return '여기는 toString'\n",
        "  def __init__(self):\n",
        "    print(\"여기는 생성자\")\n",
        "\n",
        "class Hybrid(Car):\n",
        "  battery = 1000\n",
        "  batteryKM = 300\n",
        "\n",
        "k9 = Car()\n",
        "print(k9.start())\n",
        "print(Car.maxSpeed)"
      ],
      "metadata": {
        "colab": {
          "base_uri": "https://localhost:8080/"
        },
        "id": "k3I3ogm4fZk1",
        "outputId": "64a7dd13-b79b-4263-db92-7ff4bc76a7a6"
      },
      "execution_count": 16,
      "outputs": [
        {
          "output_type": "stream",
          "name": "stdout",
          "text": [
            "출발\n",
            "None\n",
            "300\n"
          ]
        }
      ]
    },
    {
      "cell_type": "code",
      "source": [
        "class DiyRange:\n",
        "    def __init__(self, end_value,):\n",
        "        self.start_value = 0\n",
        "        self.end_value = end_value\n",
        "        self.current_value = 0\n",
        "        self.step = 1\n",
        "\n",
        "    def __iter__(self):\n",
        "        return self\n",
        "\n",
        "    def __next__(self):\n",
        "        if self.current_value < self.end_value:\n",
        "            temp = self.current_value\n",
        "            self.current_value += self.step\n",
        "            return temp\n",
        "        else:\n",
        "            self.current_value = 0\n",
        "            # 카운터가 최대값에 도달하면 StopAsyncIteration 예외를 발생시켜 이터레이션을 종료합니다.\n",
        "            raise StopIteration\n",
        "\n",
        "\n",
        "def DiyList(range):\n",
        "    li = []\n",
        "    itertor = iter(range)\n",
        "    try:\n",
        "        while True:\n",
        "            li.append(next(itertor))\n",
        "    except StopIteration:\n",
        "        pass\n",
        "    return li\n",
        "\n",
        "print(DiyList(DiyRange(5)))\n",
        "\n",
        "print(list(range(5)))"
      ],
      "metadata": {
        "colab": {
          "base_uri": "https://localhost:8080/"
        },
        "id": "YwItYJE8f3jw",
        "outputId": "6e87f52a-5598-4554-9f76-ae5a379fd4d2"
      },
      "execution_count": 19,
      "outputs": [
        {
          "output_type": "stream",
          "name": "stdout",
          "text": [
            "[0, 1, 2, 3, 4]\n",
            "[0, 1, 2, 3, 4]\n"
          ]
        }
      ]
    },
    {
      "cell_type": "code",
      "source": [
        "import numpy as np\n",
        "data1 = [[1,2,3],[4,5,6],[7,8,9]]\n",
        "data2 = [[1,2,3.0],[4,5,6],[7,8,9]]\n",
        "\n",
        "a1 = np.array(data1)\n",
        "a2 = np.array(data2)\n",
        "\n",
        "print(a1)\n",
        "\n",
        "# type 내장 함수로는 재대로 보이지 않음\n",
        "print(type(a1))\n",
        "\n",
        "# 타입 보기\n",
        "print(a1.dtype)\n",
        "print(a2.dtype)\n",
        "\n",
        "#타입 변경하기\n",
        "a2.astype(np.int32)\n"
      ],
      "metadata": {
        "colab": {
          "base_uri": "https://localhost:8080/"
        },
        "id": "poBe4dAi7NyN",
        "outputId": "a788d216-fee5-4c75-9b09-38f087599e94"
      },
      "execution_count": 30,
      "outputs": [
        {
          "output_type": "stream",
          "name": "stdout",
          "text": [
            "<class 'numpy.ndarray'>\n",
            "[[1 2 3]\n",
            " [4 5 6]\n",
            " [7 8 9]]\n",
            "int64\n",
            "float64\n"
          ]
        }
      ]
    },
    {
      "cell_type": "code",
      "source": [
        "# 1차원\n",
        "print(np.arange(5))\n",
        "print(np.arange(1,5))\n",
        "print(np.arange(0,5,2))"
      ],
      "metadata": {
        "colab": {
          "base_uri": "https://localhost:8080/"
        },
        "id": "BfOcvJie9fOu",
        "outputId": "70702d03-26c4-4b21-f620-d139ce393123"
      },
      "execution_count": 36,
      "outputs": [
        {
          "output_type": "stream",
          "name": "stdout",
          "text": [
            "[0 1 2 3 4]\n",
            "[1 2 3 4]\n",
            "[0 2 4]\n"
          ]
        }
      ]
    },
    {
      "cell_type": "code",
      "source": [
        "# n차원\n",
        "\n",
        "print(np.arange(1,10).reshape(3,3))\n",
        "\n",
        "print(\"===============================\")\n",
        "# 요소의 수가 틀리면 에러 발생\n",
        "#print(np.arange(1,10).reshape(3,4))\n",
        "# print(\"===============================\")\n",
        "print(np.arange(1,13).reshape(3,2,2))\n",
        "print(\"===============================\")"
      ],
      "metadata": {
        "colab": {
          "base_uri": "https://localhost:8080/"
        },
        "id": "L12EVpmb99Un",
        "outputId": "1a7243e8-6c83-440a-9320-d1c4bccc3244"
      },
      "execution_count": 42,
      "outputs": [
        {
          "output_type": "stream",
          "name": "stdout",
          "text": [
            "[[1 2 3]\n",
            " [4 5 6]\n",
            " [7 8 9]]\n",
            "===============================\n",
            "[[[ 1  2]\n",
            "  [ 3  4]]\n",
            "\n",
            " [[ 5  6]\n",
            "  [ 7  8]]\n",
            "\n",
            " [[ 9 10]\n",
            "  [11 12]]]\n",
            "===============================\n"
          ]
        }
      ]
    },
    {
      "cell_type": "code",
      "source": [
        "#행렬 연산\n",
        "data = np.arange(1,10).reshape(3,3)\n",
        "print(data)\n",
        "print(\"===============================\")\n",
        "\n",
        "# 행렬 합\n",
        "print(\n",
        "    data + data\n",
        ")\n",
        "print(\"===============================\")\n",
        "\n",
        "# 행렬 차\n",
        "print(\n",
        "    data - data\n",
        ")\n",
        "print(\"===============================\")\n",
        "\n",
        "# 행렬 곱\n",
        "print(\n",
        "    data * data\n",
        ")\n",
        "## 재대로 나오지 않음.\n",
        "print(\n",
        "    np.dot(data, data)\n",
        ")\n",
        "# 또는\n",
        "print(\n",
        "    data@data\n",
        ")\n",
        "print(\"===============================\")\n",
        "\n",
        "# 행렬 나누기\n",
        "print(\n",
        "    data / data\n",
        ")\n",
        "print(\"===============================\")"
      ],
      "metadata": {
        "colab": {
          "base_uri": "https://localhost:8080/"
        },
        "id": "ZqnFnsOG76PZ",
        "outputId": "987f6b91-eb9c-4e62-94c6-d2d735c773fc"
      },
      "execution_count": 48,
      "outputs": [
        {
          "output_type": "stream",
          "name": "stdout",
          "text": [
            "[[1 2 3]\n",
            " [4 5 6]\n",
            " [7 8 9]]\n",
            "===============================\n",
            "[[ 2  4  6]\n",
            " [ 8 10 12]\n",
            " [14 16 18]]\n",
            "===============================\n",
            "[[0 0 0]\n",
            " [0 0 0]\n",
            " [0 0 0]]\n",
            "===============================\n",
            "[[ 1  4  9]\n",
            " [16 25 36]\n",
            " [49 64 81]]\n",
            "[[ 30  36  42]\n",
            " [ 66  81  96]\n",
            " [102 126 150]]\n",
            "[[ 30  36  42]\n",
            " [ 66  81  96]\n",
            " [102 126 150]]\n",
            "===============================\n",
            "[[1. 1. 1.]\n",
            " [1. 1. 1.]\n",
            " [1. 1. 1.]]\n",
            "===============================\n"
          ]
        }
      ]
    },
    {
      "cell_type": "code",
      "source": [
        "#차원\n",
        "\n",
        "#0차원\n",
        "d0 = np.array(1)\n",
        "print(d0)\n",
        "print(d0.shape)\n",
        "print(d0.ndim)\n",
        "print(\"===============================\")\n",
        "\n",
        "#1차원\n",
        "d1 = np.array([1,2,3,4,5])\n",
        "print(d1)\n",
        "print(d1.shape)\n",
        "print(d1.ndim)\n",
        "print(\"===============================\")\n",
        "\n",
        "#2차원\n",
        "d2 = np.array([[1,2,3],[4,5,6]])\n",
        "print(d2)\n",
        "print(d2.shape)\n",
        "print(d2.ndim)\n",
        "print(\"===============================\")\n",
        "\n",
        "#3차원\n",
        "d3 = np.array([[[1,2],[3,4],[5,6]],[[7,8],[9,10],[11,12]],[[13,14],[15,16],[17,18]]])\n",
        "print(d3)\n",
        "print(d3.shape)\n",
        "print(d3.ndim)\n",
        "print(\"===============================\")"
      ],
      "metadata": {
        "colab": {
          "base_uri": "https://localhost:8080/"
        },
        "id": "PMWtH7jdCHgV",
        "outputId": "e8975c0e-93ea-4d39-c1f1-838a6d61f0a0"
      },
      "execution_count": 55,
      "outputs": [
        {
          "output_type": "stream",
          "name": "stdout",
          "text": [
            "1\n",
            "()\n",
            "0\n",
            "===============================\n",
            "[1 2 3 4 5]\n",
            "(5,)\n",
            "1\n",
            "===============================\n",
            "[[1 2 3]\n",
            " [4 5 6]]\n",
            "(2, 3)\n",
            "2\n",
            "===============================\n",
            "[[[ 1  2]\n",
            "  [ 3  4]\n",
            "  [ 5  6]]\n",
            "\n",
            " [[ 7  8]\n",
            "  [ 9 10]\n",
            "  [11 12]]\n",
            "\n",
            " [[13 14]\n",
            "  [15 16]\n",
            "  [17 18]]]\n",
            "(3, 3, 2)\n",
            "3\n",
            "===============================\n"
          ]
        }
      ]
    },
    {
      "cell_type": "code",
      "source": [
        "a = np.arange(12)\n",
        "print(a)\n",
        "a = a.reshape(2,3,2)\n",
        "print(a)"
      ],
      "metadata": {
        "colab": {
          "base_uri": "https://localhost:8080/"
        },
        "id": "-Tfc67u_As5R",
        "outputId": "bbc3b11a-622d-449a-fd19-4e99ffd653c3"
      },
      "execution_count": 58,
      "outputs": [
        {
          "output_type": "stream",
          "name": "stdout",
          "text": [
            "[ 0  1  2  3  4  5  6  7  8  9 10 11]\n",
            "[[[ 0  1]\n",
            "  [ 2  3]\n",
            "  [ 4  5]]\n",
            "\n",
            " [[ 6  7]\n",
            "  [ 8  9]\n",
            "  [10 11]]]\n"
          ]
        }
      ]
    },
    {
      "cell_type": "code",
      "source": [
        "b = np.ones(12)\n",
        "print(b)\n",
        "b = b.reshape(2,3,2)\n",
        "print(b)"
      ],
      "metadata": {
        "colab": {
          "base_uri": "https://localhost:8080/"
        },
        "id": "cmcAWa4tD7mo",
        "outputId": "32871a15-b07b-444a-82d2-c69d6f8b4c65"
      },
      "execution_count": 63,
      "outputs": [
        {
          "output_type": "stream",
          "name": "stdout",
          "text": [
            "[1. 1. 1. 1. 1. 1. 1. 1. 1. 1. 1. 1.]\n",
            "[[[1. 1.]\n",
            "  [1. 1.]\n",
            "  [1. 1.]]\n",
            "\n",
            " [[1. 1.]\n",
            "  [1. 1.]\n",
            "  [1. 1.]]]\n"
          ]
        }
      ]
    },
    {
      "cell_type": "code",
      "source": [
        "c = np.zeros(12)\n",
        "print(c)\n",
        "c = c.reshape(2,3,2)\n",
        "print(c)"
      ],
      "metadata": {
        "colab": {
          "base_uri": "https://localhost:8080/"
        },
        "id": "ykrizCraEGBf",
        "outputId": "ceaa15f1-21bf-4709-c798-fad7bb5ee7e8"
      },
      "execution_count": 62,
      "outputs": [
        {
          "output_type": "stream",
          "name": "stdout",
          "text": [
            "[0. 0. 0. 0. 0. 0. 0. 0. 0. 0. 0. 0.]\n",
            "[[[0. 0.]\n",
            "  [0. 0.]\n",
            "  [0. 0.]]\n",
            "\n",
            " [[0. 0.]\n",
            "  [0. 0.]\n",
            "  [0. 0.]]]\n"
          ]
        }
      ]
    },
    {
      "cell_type": "code",
      "source": [
        "d = np.eye(3)\n",
        "print(d)"
      ],
      "metadata": {
        "colab": {
          "base_uri": "https://localhost:8080/"
        },
        "id": "B2KH2FaoE15b",
        "outputId": "a37569c2-1cad-41ac-c2ad-bd68f4706a91"
      },
      "execution_count": 64,
      "outputs": [
        {
          "output_type": "stream",
          "name": "stdout",
          "text": [
            "[[1. 0. 0.]\n",
            " [0. 1. 0.]\n",
            " [0. 0. 1.]]\n"
          ]
        }
      ]
    },
    {
      "cell_type": "code",
      "source": [
        "e = np.zeros([3,4])\n",
        "print(e)"
      ],
      "metadata": {
        "colab": {
          "base_uri": "https://localhost:8080/"
        },
        "id": "-dGg2fOiFAik",
        "outputId": "f46af099-2713-44ae-e5e5-632f7822678e"
      },
      "execution_count": 65,
      "outputs": [
        {
          "output_type": "stream",
          "name": "stdout",
          "text": [
            "[[0. 0. 0. 0.]\n",
            " [0. 0. 0. 0.]\n",
            " [0. 0. 0. 0.]]\n"
          ]
        }
      ]
    },
    {
      "cell_type": "code",
      "source": [
        "f = np.zeros([3,4,2])\n",
        "print(e)"
      ],
      "metadata": {
        "colab": {
          "base_uri": "https://localhost:8080/"
        },
        "id": "uNkl6H0cFYbZ",
        "outputId": "46b8b613-94b2-4727-f301-f1ff5109e170"
      },
      "execution_count": 66,
      "outputs": [
        {
          "output_type": "stream",
          "name": "stdout",
          "text": [
            "[[0. 0. 0. 0.]\n",
            " [0. 0. 0. 0.]\n",
            " [0. 0. 0. 0.]]\n"
          ]
        }
      ]
    },
    {
      "cell_type": "code",
      "source": [
        "g = np.empty([2,3])\n",
        "print(g)"
      ],
      "metadata": {
        "colab": {
          "base_uri": "https://localhost:8080/"
        },
        "id": "DiVDaCNLFb_x",
        "outputId": "332fe3e5-32ff-49af-b3ba-dff6405bac21"
      },
      "execution_count": 67,
      "outputs": [
        {
          "output_type": "stream",
          "name": "stdout",
          "text": [
            "[[4.9e-324 9.9e-324 1.5e-323]\n",
            " [2.0e-323 2.5e-323 3.0e-323]]\n"
          ]
        }
      ]
    },
    {
      "cell_type": "code",
      "source": [
        "h = np.full((3,4),1000)\n",
        "print(h)"
      ],
      "metadata": {
        "colab": {
          "base_uri": "https://localhost:8080/"
        },
        "id": "yYpIKF45FiaJ",
        "outputId": "9262a865-4487-40a1-ef1d-dbf74a102514"
      },
      "execution_count": 68,
      "outputs": [
        {
          "output_type": "stream",
          "name": "stdout",
          "text": [
            "[[1000 1000 1000 1000]\n",
            " [1000 1000 1000 1000]\n",
            " [1000 1000 1000 1000]]\n"
          ]
        }
      ]
    },
    {
      "cell_type": "code",
      "source": [
        "# 2부터 10 사이에 6번을 동등한 간격으로 생성\n",
        "i = np.linspace(2,10,6)\n",
        "print(i)"
      ],
      "metadata": {
        "colab": {
          "base_uri": "https://localhost:8080/"
        },
        "id": "SMnerJbQGAPA",
        "outputId": "b3b95ae4-5281-456f-a098-debe16e640a2"
      },
      "execution_count": 70,
      "outputs": [
        {
          "output_type": "stream",
          "name": "stdout",
          "text": [
            "[ 2.   3.6  5.2  6.8  8.4 10. ]\n"
          ]
        }
      ]
    },
    {
      "cell_type": "code",
      "source": [
        "a = np.arange(10). reshape(2,5)\n",
        "print(a)\n",
        "print(\"===============================\")\n",
        "\n",
        "a[0][0] = 100\n",
        "a[0,1] = 1000\n",
        "\n",
        "print(a)\n",
        "\n",
        "print(\"===============================\")\n",
        "\n",
        "#평균\n",
        "print(np.mean(a))\n",
        "print(\"===============================\")\n",
        "#중앙값\n",
        "print(np.median(a))\n",
        "print(\"===============================\")\n",
        "#표준 편차\n",
        "print(np.std(a))\n",
        "print(\"===============================\")\n",
        "#분산\n",
        "print(np.var(a))\n",
        "print(\"===============================\")\n",
        "#전체 합계\n",
        "print(np.sum(a))\n",
        "print(\"===============================\")\n",
        "\n",
        "#행 열 합계\n",
        "#내장 함수 호출시 열 합계 출력\n",
        "print(a.sum())\n",
        "print(sum(a))\n",
        "print(\"-------------------------------\")\n",
        "#열 합계\n",
        "print(np.sum(a, axis=0))\n",
        "print(a.sum(axis=0))\n",
        "print(\"-------------------------------\")\n",
        "#행 합계\n",
        "print(np.sum(a, axis=1))\n",
        "print(a.sum(axis=1))\n",
        "print(\"-------------------------------\")\n",
        "print(\"===============================\")\n",
        "\n",
        "#행 열 최대 값(최소값도 동일함)\n",
        "#에러 발생함.. 주의할것\n",
        "#print(max(a))\n",
        "print(a.max())\n",
        "print(\"-------------------------------\")\n",
        "print(a.max(axis=0))\n",
        "print(np.max(a, axis=0))\n",
        "print(\"-------------------------------\")\n",
        "print(a.max(axis=1))\n",
        "print(np.max(a, axis=1))\n",
        "print(\"-------------------------------\")\n",
        "print(\"===============================\")\n",
        "\n"
      ],
      "metadata": {
        "colab": {
          "base_uri": "https://localhost:8080/"
        },
        "id": "c5qUQsYJGMwB",
        "outputId": "fdbbea4c-3428-4c0c-c44d-427121caddaf"
      },
      "execution_count": 82,
      "outputs": [
        {
          "output_type": "stream",
          "name": "stdout",
          "text": [
            "[[0 1 2 3 4]\n",
            " [5 6 7 8 9]]\n",
            "===============================\n",
            "[[ 100 1000    2    3    4]\n",
            " [   5    6    7    8    9]]\n",
            "===============================\n",
            "114.4\n",
            "===============================\n",
            "6.5\n",
            "===============================\n",
            "296.5485457728633\n",
            "===============================\n",
            "87941.04\n",
            "===============================\n",
            "1144\n",
            "===============================\n",
            "1144\n",
            "[ 105 1006    9   11   13]\n",
            "-------------------------------\n",
            "[ 105 1006    9   11   13]\n",
            "[ 105 1006    9   11   13]\n",
            "-------------------------------\n",
            "[1109   35]\n",
            "[1109   35]\n",
            "-------------------------------\n",
            "===============================\n",
            "1000\n",
            "-------------------------------\n",
            "[ 100 1000    7    8    9]\n",
            "[ 100 1000    7    8    9]\n",
            "-------------------------------\n",
            "[1000    9]\n",
            "[1000    9]\n",
            "-------------------------------\n",
            "===============================\n"
          ]
        }
      ]
    },
    {
      "cell_type": "code",
      "source": [
        "import pandas as pd\n",
        "import numpy as np\n",
        "\n",
        "data = np.arange(0,50,10)\n",
        "print(data)\n",
        "\n",
        "print(\"===============================\")\n",
        "# 명시적 인덱스\n",
        "a = pd.Series(data,index=['a','b','c','d','e'])\n",
        "print(a)\n",
        "print(\"===============================\")\n",
        "# 암묵적 인덱스\n",
        "b = pd.Series(data)\n",
        "print(b)\n",
        "print(\"===============================\")\n",
        "print(a['a'])\n",
        "# loc = location\n",
        "print(a.loc['b'])\n",
        "print(\"-------------------------------\")\n",
        "# iloc = index location\n",
        "print(a.iloc[1])\n",
        "print(\"-------------------------------\")\n",
        "print(\"===============================\")\n",
        "# 명시적 인덱스를 선언하지 않았다면 사용 불가능.\n",
        "#print(b.loc(1))\n"
      ],
      "metadata": {
        "colab": {
          "base_uri": "https://localhost:8080/"
        },
        "id": "lDfqNEjOGhaz",
        "outputId": "fecdd60c-a13c-4bdf-d484-990ea25140e1"
      },
      "execution_count": 105,
      "outputs": [
        {
          "output_type": "stream",
          "name": "stdout",
          "text": [
            "[ 0 10 20 30 40]\n",
            "===============================\n",
            "a     0\n",
            "b    10\n",
            "c    20\n",
            "d    30\n",
            "e    40\n",
            "dtype: int64\n",
            "===============================\n",
            "0     0\n",
            "1    10\n",
            "2    20\n",
            "3    30\n",
            "4    40\n",
            "dtype: int64\n",
            "===============================\n",
            "0\n",
            "10\n",
            "-------------------------------\n",
            "10\n",
            "-------------------------------\n",
            "===============================\n"
          ]
        }
      ]
    },
    {
      "cell_type": "code",
      "source": [
        "data = np.arange(0,50,10)\n",
        "print(data)\n",
        "it = ['a','b','c','d','e']\n",
        "# a = pd.Series(data,index=['a','b','c','d','e'])\n",
        "a = pd.Series(data,index=it)\n",
        "print(a)\n",
        "print(\"===============================\")\n",
        "#덧셈\n",
        "print(a + 10)\n",
        "print(\"-------------------------------\")\n",
        "print(a.add(10))\n",
        "print(\"===============================\")\n",
        "#뺄셈\n",
        "print(a - 10)\n",
        "print(\"-------------------------------\")\n",
        "print(a.sub(10))\n",
        "print(\"===============================\")\n",
        "#나눗셈\n",
        "print(a / 10)\n",
        "print(\"-------------------------------\")\n",
        "print(a.div(10))\n",
        "print(\"-------------------------------\")\n",
        "print(a // 10)\n",
        "print(\"-------------------------------\")\n",
        "print(\"===============================\")\n",
        "\n",
        "#곱셈\n",
        "print(a * 10)\n",
        "print(\"-------------------------------\")\n",
        "print(a.mul(10))\n",
        "print(\"===============================\")\n",
        "#제곱\n",
        "print(a ** 10)\n",
        "print(\"-------------------------------\")\n",
        "print(a.pow(10))\n",
        "print(\"===============================\")\n",
        "#나머지\n",
        "print( a % 2 )\n",
        "print(\"-------------------------------\")\n",
        "print(a.mod(10))\n",
        "print(\"===============================\")\n",
        "#조건식\n",
        "print( a > 15 )\n",
        "print(\"-------------------------------\")\n",
        "print( a % 2 == 0)\n",
        "print(\"===============================\")\n",
        "\n",
        "#최소값\n",
        "print(a.min())\n",
        "\n",
        "#최대값\n",
        "print(a.max())\n",
        "\n",
        "#합계\n",
        "print(a.sum())\n",
        "\n",
        "#평균\n",
        "print(a.mean())\n",
        "\n",
        "#중앙값\n",
        "print(a.median())\n",
        "\n",
        "#표준편차\n",
        "print(a.std())\n",
        "\n",
        "#분산\n",
        "print(a.var())"
      ],
      "metadata": {
        "colab": {
          "base_uri": "https://localhost:8080/"
        },
        "id": "7yLnjunyLvOx",
        "outputId": "b265f3e5-6a05-4142-fbac-ce8bf3800753"
      },
      "execution_count": 128,
      "outputs": [
        {
          "output_type": "stream",
          "name": "stdout",
          "text": [
            "[ 0 10 20 30 40]\n",
            "a     0\n",
            "b    10\n",
            "c    20\n",
            "d    30\n",
            "e    40\n",
            "dtype: int64\n",
            "===============================\n",
            "a    10\n",
            "b    20\n",
            "c    30\n",
            "d    40\n",
            "e    50\n",
            "dtype: int64\n",
            "-------------------------------\n",
            "a    10\n",
            "b    20\n",
            "c    30\n",
            "d    40\n",
            "e    50\n",
            "dtype: int64\n",
            "===============================\n",
            "a   -10\n",
            "b     0\n",
            "c    10\n",
            "d    20\n",
            "e    30\n",
            "dtype: int64\n",
            "-------------------------------\n",
            "a   -10\n",
            "b     0\n",
            "c    10\n",
            "d    20\n",
            "e    30\n",
            "dtype: int64\n",
            "===============================\n",
            "a    0.0\n",
            "b    1.0\n",
            "c    2.0\n",
            "d    3.0\n",
            "e    4.0\n",
            "dtype: float64\n",
            "-------------------------------\n",
            "a    0.0\n",
            "b    1.0\n",
            "c    2.0\n",
            "d    3.0\n",
            "e    4.0\n",
            "dtype: float64\n",
            "-------------------------------\n",
            "a    0\n",
            "b    1\n",
            "c    2\n",
            "d    3\n",
            "e    4\n",
            "dtype: int64\n",
            "-------------------------------\n",
            "===============================\n",
            "a      0\n",
            "b    100\n",
            "c    200\n",
            "d    300\n",
            "e    400\n",
            "dtype: int64\n",
            "-------------------------------\n",
            "a      0\n",
            "b    100\n",
            "c    200\n",
            "d    300\n",
            "e    400\n",
            "dtype: int64\n",
            "===============================\n",
            "a                    0\n",
            "b          10000000000\n",
            "c       10240000000000\n",
            "d      590490000000000\n",
            "e    10485760000000000\n",
            "dtype: int64\n",
            "-------------------------------\n",
            "a                    0\n",
            "b          10000000000\n",
            "c       10240000000000\n",
            "d      590490000000000\n",
            "e    10485760000000000\n",
            "dtype: int64\n",
            "===============================\n",
            "a    0\n",
            "b    0\n",
            "c    0\n",
            "d    0\n",
            "e    0\n",
            "dtype: int64\n",
            "-------------------------------\n",
            "a    0\n",
            "b    0\n",
            "c    0\n",
            "d    0\n",
            "e    0\n",
            "dtype: int64\n",
            "===============================\n",
            "a    False\n",
            "b    False\n",
            "c     True\n",
            "d     True\n",
            "e     True\n",
            "dtype: bool\n",
            "-------------------------------\n",
            "a    True\n",
            "b    True\n",
            "c    True\n",
            "d    True\n",
            "e    True\n",
            "dtype: bool\n",
            "===============================\n",
            "0\n",
            "40\n",
            "100\n",
            "20.0\n",
            "20.0\n",
            "15.811388300841896\n",
            "250.0\n"
          ]
        }
      ]
    },
    {
      "cell_type": "code",
      "source": [
        "#Boolean Index\n",
        "data = np.arange(4,99999,1)\n",
        "print(data)\n",
        "print(\"===============================\")\n",
        "a = pd.Series(data)\n",
        "print(a)\n",
        "print(\"===============================\")\n",
        "print(a[ a < 10 ])\n",
        "print(\"-------------------------------\")\n",
        "print(a[ (a % 2 == 0) & (a % 3 == 0) ])\n"
      ],
      "metadata": {
        "colab": {
          "base_uri": "https://localhost:8080/"
        },
        "id": "BZxib4cRM9dK",
        "outputId": "b38bf3ce-990e-43e4-cfc5-462f0b94f6b3"
      },
      "execution_count": 120,
      "outputs": [
        {
          "output_type": "stream",
          "name": "stdout",
          "text": [
            "[    4     5     6 ... 99996 99997 99998]\n",
            "===============================\n",
            "0            4\n",
            "1            5\n",
            "2            6\n",
            "3            7\n",
            "4            8\n",
            "         ...  \n",
            "99990    99994\n",
            "99991    99995\n",
            "99992    99996\n",
            "99993    99997\n",
            "99994    99998\n",
            "Length: 99995, dtype: int64\n",
            "===============================\n",
            "0    4\n",
            "1    5\n",
            "2    6\n",
            "3    7\n",
            "4    8\n",
            "5    9\n",
            "dtype: int64\n",
            "-------------------------------\n",
            "2            6\n",
            "8           12\n",
            "14          18\n",
            "20          24\n",
            "26          30\n",
            "         ...  \n",
            "99968    99972\n",
            "99974    99978\n",
            "99980    99984\n",
            "99986    99990\n",
            "99992    99996\n",
            "Length: 16666, dtype: int64\n"
          ]
        }
      ]
    },
    {
      "cell_type": "code",
      "source": [
        "rawData = np.random.randint(50,100, size=(4,3))\n",
        "\n",
        "print(rawData)\n",
        "\n",
        "ban = [ '1반', '2반' ] * 2\n",
        "domain = ['국','영','수']\n",
        "\n",
        "df = pd.DataFrame(rawData,index=ban,columns=domain)\n",
        "\n",
        "print(df)\n",
        "print(\"===============================\")\n",
        "\n",
        "print(df['국'])\n",
        "\n",
        "print(\"===============================\")\n",
        "\n",
        "# 에러 발생\n",
        "#print(df[0])\n",
        "\n",
        "df['평균'] = round( (df['국'] + df['영'] + df['수']) / 3, 2)\n",
        "print(df)\n",
        "\n",
        "print(\"===============================\")\n",
        "\n",
        "print(df[df.평균 > 75])\n",
        "print(\"===============================\")\n",
        "\n",
        "print(df.drop(['평균','수'], axis='columns'))\n",
        "\n",
        "print(\"===============================\")\n"
      ],
      "metadata": {
        "colab": {
          "base_uri": "https://localhost:8080/",
          "height": 854
        },
        "id": "pMEc1GprS4vp",
        "outputId": "247ba887-4e43-4bb8-c507-f2f6ebdd8c8a"
      },
      "execution_count": 150,
      "outputs": [
        {
          "output_type": "stream",
          "name": "stdout",
          "text": [
            "[[91 87 62]\n",
            " [89 56 63]\n",
            " [61 67 80]\n",
            " [98 84 94]]\n",
            "     국   영   수\n",
            "1반  91  87  62\n",
            "2반  89  56  63\n",
            "1반  61  67  80\n",
            "2반  98  84  94\n",
            "===============================\n",
            "1반    91\n",
            "2반    89\n",
            "1반    61\n",
            "2반    98\n",
            "Name: 국, dtype: int64\n",
            "===============================\n",
            "     국   영   수     평균\n",
            "1반  91  87  62  80.00\n",
            "2반  89  56  63  69.33\n",
            "1반  61  67  80  69.33\n",
            "2반  98  84  94  92.00\n",
            "===============================\n",
            "     국   영   수    평균\n",
            "1반  91  87  62  80.0\n",
            "2반  98  84  94  92.0\n",
            "===============================\n",
            "     국   영\n",
            "1반  91  87\n",
            "2반  89  56\n",
            "1반  61  67\n",
            "2반  98  84\n",
            "===============================\n"
          ]
        },
        {
          "output_type": "stream",
          "name": "stderr",
          "text": [
            "<ipython-input-150-f3c168826e26>:32: SettingWithCopyWarning: \n",
            "A value is trying to be set on a copy of a slice from a DataFrame\n",
            "\n",
            "See the caveats in the documentation: https://pandas.pydata.org/pandas-docs/stable/user_guide/indexing.html#returning-a-view-versus-a-copy\n",
            "  df['수'][2] = np.nan\n"
          ]
        },
        {
          "output_type": "execute_result",
          "data": {
            "text/plain": [
              "     국   영     수     평균\n",
              "1반  91  87  62.0  80.00\n",
              "2반  89  56  63.0  69.33\n",
              "1반  61  67   NaN  69.33\n",
              "2반  98  84  94.0  92.00"
            ],
            "text/html": [
              "\n",
              "  <div id=\"df-20785cf5-1736-46f9-a920-837075addefa\" class=\"colab-df-container\">\n",
              "    <div>\n",
              "<style scoped>\n",
              "    .dataframe tbody tr th:only-of-type {\n",
              "        vertical-align: middle;\n",
              "    }\n",
              "\n",
              "    .dataframe tbody tr th {\n",
              "        vertical-align: top;\n",
              "    }\n",
              "\n",
              "    .dataframe thead th {\n",
              "        text-align: right;\n",
              "    }\n",
              "</style>\n",
              "<table border=\"1\" class=\"dataframe\">\n",
              "  <thead>\n",
              "    <tr style=\"text-align: right;\">\n",
              "      <th></th>\n",
              "      <th>국</th>\n",
              "      <th>영</th>\n",
              "      <th>수</th>\n",
              "      <th>평균</th>\n",
              "    </tr>\n",
              "  </thead>\n",
              "  <tbody>\n",
              "    <tr>\n",
              "      <th>1반</th>\n",
              "      <td>91</td>\n",
              "      <td>87</td>\n",
              "      <td>62.0</td>\n",
              "      <td>80.00</td>\n",
              "    </tr>\n",
              "    <tr>\n",
              "      <th>2반</th>\n",
              "      <td>89</td>\n",
              "      <td>56</td>\n",
              "      <td>63.0</td>\n",
              "      <td>69.33</td>\n",
              "    </tr>\n",
              "    <tr>\n",
              "      <th>1반</th>\n",
              "      <td>61</td>\n",
              "      <td>67</td>\n",
              "      <td>NaN</td>\n",
              "      <td>69.33</td>\n",
              "    </tr>\n",
              "    <tr>\n",
              "      <th>2반</th>\n",
              "      <td>98</td>\n",
              "      <td>84</td>\n",
              "      <td>94.0</td>\n",
              "      <td>92.00</td>\n",
              "    </tr>\n",
              "  </tbody>\n",
              "</table>\n",
              "</div>\n",
              "    <div class=\"colab-df-buttons\">\n",
              "\n",
              "  <div class=\"colab-df-container\">\n",
              "    <button class=\"colab-df-convert\" onclick=\"convertToInteractive('df-20785cf5-1736-46f9-a920-837075addefa')\"\n",
              "            title=\"Convert this dataframe to an interactive table.\"\n",
              "            style=\"display:none;\">\n",
              "\n",
              "  <svg xmlns=\"http://www.w3.org/2000/svg\" height=\"24px\" viewBox=\"0 -960 960 960\">\n",
              "    <path d=\"M120-120v-720h720v720H120Zm60-500h600v-160H180v160Zm220 220h160v-160H400v160Zm0 220h160v-160H400v160ZM180-400h160v-160H180v160Zm440 0h160v-160H620v160ZM180-180h160v-160H180v160Zm440 0h160v-160H620v160Z\"/>\n",
              "  </svg>\n",
              "    </button>\n",
              "\n",
              "  <style>\n",
              "    .colab-df-container {\n",
              "      display:flex;\n",
              "      gap: 12px;\n",
              "    }\n",
              "\n",
              "    .colab-df-convert {\n",
              "      background-color: #E8F0FE;\n",
              "      border: none;\n",
              "      border-radius: 50%;\n",
              "      cursor: pointer;\n",
              "      display: none;\n",
              "      fill: #1967D2;\n",
              "      height: 32px;\n",
              "      padding: 0 0 0 0;\n",
              "      width: 32px;\n",
              "    }\n",
              "\n",
              "    .colab-df-convert:hover {\n",
              "      background-color: #E2EBFA;\n",
              "      box-shadow: 0px 1px 2px rgba(60, 64, 67, 0.3), 0px 1px 3px 1px rgba(60, 64, 67, 0.15);\n",
              "      fill: #174EA6;\n",
              "    }\n",
              "\n",
              "    .colab-df-buttons div {\n",
              "      margin-bottom: 4px;\n",
              "    }\n",
              "\n",
              "    [theme=dark] .colab-df-convert {\n",
              "      background-color: #3B4455;\n",
              "      fill: #D2E3FC;\n",
              "    }\n",
              "\n",
              "    [theme=dark] .colab-df-convert:hover {\n",
              "      background-color: #434B5C;\n",
              "      box-shadow: 0px 1px 3px 1px rgba(0, 0, 0, 0.15);\n",
              "      filter: drop-shadow(0px 1px 2px rgba(0, 0, 0, 0.3));\n",
              "      fill: #FFFFFF;\n",
              "    }\n",
              "  </style>\n",
              "\n",
              "    <script>\n",
              "      const buttonEl =\n",
              "        document.querySelector('#df-20785cf5-1736-46f9-a920-837075addefa button.colab-df-convert');\n",
              "      buttonEl.style.display =\n",
              "        google.colab.kernel.accessAllowed ? 'block' : 'none';\n",
              "\n",
              "      async function convertToInteractive(key) {\n",
              "        const element = document.querySelector('#df-20785cf5-1736-46f9-a920-837075addefa');\n",
              "        const dataTable =\n",
              "          await google.colab.kernel.invokeFunction('convertToInteractive',\n",
              "                                                    [key], {});\n",
              "        if (!dataTable) return;\n",
              "\n",
              "        const docLinkHtml = 'Like what you see? Visit the ' +\n",
              "          '<a target=\"_blank\" href=https://colab.research.google.com/notebooks/data_table.ipynb>data table notebook</a>'\n",
              "          + ' to learn more about interactive tables.';\n",
              "        element.innerHTML = '';\n",
              "        dataTable['output_type'] = 'display_data';\n",
              "        await google.colab.output.renderOutput(dataTable, element);\n",
              "        const docLink = document.createElement('div');\n",
              "        docLink.innerHTML = docLinkHtml;\n",
              "        element.appendChild(docLink);\n",
              "      }\n",
              "    </script>\n",
              "  </div>\n",
              "\n",
              "\n",
              "<div id=\"df-5c442645-4dcb-4cfa-b916-e1272a5cdd25\">\n",
              "  <button class=\"colab-df-quickchart\" onclick=\"quickchart('df-5c442645-4dcb-4cfa-b916-e1272a5cdd25')\"\n",
              "            title=\"Suggest charts\"\n",
              "            style=\"display:none;\">\n",
              "\n",
              "<svg xmlns=\"http://www.w3.org/2000/svg\" height=\"24px\"viewBox=\"0 0 24 24\"\n",
              "     width=\"24px\">\n",
              "    <g>\n",
              "        <path d=\"M19 3H5c-1.1 0-2 .9-2 2v14c0 1.1.9 2 2 2h14c1.1 0 2-.9 2-2V5c0-1.1-.9-2-2-2zM9 17H7v-7h2v7zm4 0h-2V7h2v10zm4 0h-2v-4h2v4z\"/>\n",
              "    </g>\n",
              "</svg>\n",
              "  </button>\n",
              "\n",
              "<style>\n",
              "  .colab-df-quickchart {\n",
              "      --bg-color: #E8F0FE;\n",
              "      --fill-color: #1967D2;\n",
              "      --hover-bg-color: #E2EBFA;\n",
              "      --hover-fill-color: #174EA6;\n",
              "      --disabled-fill-color: #AAA;\n",
              "      --disabled-bg-color: #DDD;\n",
              "  }\n",
              "\n",
              "  [theme=dark] .colab-df-quickchart {\n",
              "      --bg-color: #3B4455;\n",
              "      --fill-color: #D2E3FC;\n",
              "      --hover-bg-color: #434B5C;\n",
              "      --hover-fill-color: #FFFFFF;\n",
              "      --disabled-bg-color: #3B4455;\n",
              "      --disabled-fill-color: #666;\n",
              "  }\n",
              "\n",
              "  .colab-df-quickchart {\n",
              "    background-color: var(--bg-color);\n",
              "    border: none;\n",
              "    border-radius: 50%;\n",
              "    cursor: pointer;\n",
              "    display: none;\n",
              "    fill: var(--fill-color);\n",
              "    height: 32px;\n",
              "    padding: 0;\n",
              "    width: 32px;\n",
              "  }\n",
              "\n",
              "  .colab-df-quickchart:hover {\n",
              "    background-color: var(--hover-bg-color);\n",
              "    box-shadow: 0 1px 2px rgba(60, 64, 67, 0.3), 0 1px 3px 1px rgba(60, 64, 67, 0.15);\n",
              "    fill: var(--button-hover-fill-color);\n",
              "  }\n",
              "\n",
              "  .colab-df-quickchart-complete:disabled,\n",
              "  .colab-df-quickchart-complete:disabled:hover {\n",
              "    background-color: var(--disabled-bg-color);\n",
              "    fill: var(--disabled-fill-color);\n",
              "    box-shadow: none;\n",
              "  }\n",
              "\n",
              "  .colab-df-spinner {\n",
              "    border: 2px solid var(--fill-color);\n",
              "    border-color: transparent;\n",
              "    border-bottom-color: var(--fill-color);\n",
              "    animation:\n",
              "      spin 1s steps(1) infinite;\n",
              "  }\n",
              "\n",
              "  @keyframes spin {\n",
              "    0% {\n",
              "      border-color: transparent;\n",
              "      border-bottom-color: var(--fill-color);\n",
              "      border-left-color: var(--fill-color);\n",
              "    }\n",
              "    20% {\n",
              "      border-color: transparent;\n",
              "      border-left-color: var(--fill-color);\n",
              "      border-top-color: var(--fill-color);\n",
              "    }\n",
              "    30% {\n",
              "      border-color: transparent;\n",
              "      border-left-color: var(--fill-color);\n",
              "      border-top-color: var(--fill-color);\n",
              "      border-right-color: var(--fill-color);\n",
              "    }\n",
              "    40% {\n",
              "      border-color: transparent;\n",
              "      border-right-color: var(--fill-color);\n",
              "      border-top-color: var(--fill-color);\n",
              "    }\n",
              "    60% {\n",
              "      border-color: transparent;\n",
              "      border-right-color: var(--fill-color);\n",
              "    }\n",
              "    80% {\n",
              "      border-color: transparent;\n",
              "      border-right-color: var(--fill-color);\n",
              "      border-bottom-color: var(--fill-color);\n",
              "    }\n",
              "    90% {\n",
              "      border-color: transparent;\n",
              "      border-bottom-color: var(--fill-color);\n",
              "    }\n",
              "  }\n",
              "</style>\n",
              "\n",
              "  <script>\n",
              "    async function quickchart(key) {\n",
              "      const quickchartButtonEl =\n",
              "        document.querySelector('#' + key + ' button');\n",
              "      quickchartButtonEl.disabled = true;  // To prevent multiple clicks.\n",
              "      quickchartButtonEl.classList.add('colab-df-spinner');\n",
              "      try {\n",
              "        const charts = await google.colab.kernel.invokeFunction(\n",
              "            'suggestCharts', [key], {});\n",
              "      } catch (error) {\n",
              "        console.error('Error during call to suggestCharts:', error);\n",
              "      }\n",
              "      quickchartButtonEl.classList.remove('colab-df-spinner');\n",
              "      quickchartButtonEl.classList.add('colab-df-quickchart-complete');\n",
              "    }\n",
              "    (() => {\n",
              "      let quickchartButtonEl =\n",
              "        document.querySelector('#df-5c442645-4dcb-4cfa-b916-e1272a5cdd25 button');\n",
              "      quickchartButtonEl.style.display =\n",
              "        google.colab.kernel.accessAllowed ? 'block' : 'none';\n",
              "    })();\n",
              "  </script>\n",
              "</div>\n",
              "    </div>\n",
              "  </div>\n"
            ]
          },
          "metadata": {},
          "execution_count": 150
        }
      ]
    },
    {
      "cell_type": "code",
      "source": [
        "#nan값 처리\n",
        "\n",
        "rawData = np.random.randint(50,100, size=(4,3))\n",
        "\n",
        "print(rawData)\n",
        "\n",
        "ban = [ '1반', '2반' ] * 2\n",
        "domain = ['국','영','수']\n",
        "\n",
        "df = pd.DataFrame(rawData,index=ban,columns=domain)\n",
        "print(df)\n",
        "print(\"===============================\")\n",
        "\n",
        "df['수'][2] = np.nan\n",
        "print(df)\n",
        "print(\"===============================\")\n",
        "\n",
        "print(df.dropna(axis=0))\n",
        "print(\"===============================\")\n",
        "# 그러므로 대입연산을 통해서 변경이 필요함을 명심하자.\n",
        "#df = df.dropna(axis=0)\n",
        "#print(df)\n",
        "# 또는 옵션값에 inplace을 true로 준다면 원본이 변경됨을 명심하자.\n",
        "#df.dropna(axis=0, inplace=True)\n",
        "#print(df)\n",
        "\n",
        "print(df.dropna(axis=1))\n",
        "print(\"===============================\")\n",
        "\n",
        "print(df.fillna(0))\n",
        "print(\"===============================\")\n",
        "\n",
        "print(df.fillna(df.mean()))\n",
        "print(\"===============================\")\n"
      ],
      "metadata": {
        "colab": {
          "base_uri": "https://localhost:8080/"
        },
        "id": "-AT9yi27OhnB",
        "outputId": "53814561-e6a1-4bc6-ab44-05aa121e4fa9"
      },
      "execution_count": 168,
      "outputs": [
        {
          "output_type": "stream",
          "name": "stdout",
          "text": [
            "[[91 56 74]\n",
            " [51 87 52]\n",
            " [73 51 76]\n",
            " [75 85 79]]\n",
            "     국   영   수\n",
            "1반  91  56  74\n",
            "2반  51  87  52\n",
            "1반  73  51  76\n",
            "2반  75  85  79\n",
            "===============================\n",
            "     국   영     수\n",
            "1반  91  56  74.0\n",
            "2반  51  87  52.0\n",
            "1반  73  51   NaN\n",
            "2반  75  85  79.0\n",
            "===============================\n",
            "     국   영     수\n",
            "1반  91  56  74.0\n",
            "2반  51  87  52.0\n",
            "2반  75  85  79.0\n",
            "===============================\n",
            "     국   영\n",
            "1반  91  56\n",
            "2반  51  87\n",
            "1반  73  51\n",
            "2반  75  85\n",
            "===============================\n",
            "     국   영     수\n",
            "1반  91  56  74.0\n",
            "2반  51  87  52.0\n",
            "1반  73  51   0.0\n",
            "2반  75  85  79.0\n",
            "===============================\n",
            "     국   영          수\n",
            "1반  91  56  74.000000\n",
            "2반  51  87  52.000000\n",
            "1반  73  51  68.333333\n",
            "2반  75  85  79.000000\n",
            "===============================\n"
          ]
        }
      ]
    },
    {
      "cell_type": "code",
      "source": [
        "rawData = np.random.randint(50,100, size=(4,3))\n",
        "\n",
        "print(rawData)\n",
        "print(\"===============================\")\n",
        "\n",
        "ban = [['1학년','1학년','2학년', '2학년'],[ '1반', '2반' ] * 2 ]\n",
        "domain = [['언어','언어','수리'],['국','영','수']]\n",
        "df = pd.DataFrame(rawData,index=ban,columns=domain)\n",
        "print(df)\n",
        "print(\"===============================\")\n",
        "\n",
        "print(df['언어']['국'])\n",
        "print(\"===============================\")\n",
        "\n",
        "print(df['언어']['국'] > 80)\n",
        "print(\"===============================\")\n",
        "\n",
        "print(df.iloc[0])\n",
        "print(\"===============================\")\n",
        "\n",
        "print(df.loc['1학년'])\n",
        "print(\"-------------------------------\")\n",
        "print(df.loc['1학년'].loc['1반'])\n",
        "print(\"===============================\")"
      ],
      "metadata": {
        "colab": {
          "base_uri": "https://localhost:8080/"
        },
        "id": "1i60DHj3erOb",
        "outputId": "cc4264a8-29aa-4421-9832-e885752fae99"
      },
      "execution_count": 205,
      "outputs": [
        {
          "output_type": "stream",
          "name": "stdout",
          "text": [
            "[[98 53 82]\n",
            " [67 79 58]\n",
            " [94 93 67]\n",
            " [81 99 78]]\n",
            "===============================\n",
            "        언어      수리\n",
            "         국   영   수\n",
            "1학년 1반  98  53  82\n",
            "    2반  67  79  58\n",
            "2학년 1반  94  93  67\n",
            "    2반  81  99  78\n",
            "===============================\n",
            "1학년  1반    98\n",
            "     2반    67\n",
            "2학년  1반    94\n",
            "     2반    81\n",
            "Name: 국, dtype: int64\n",
            "===============================\n",
            "1학년  1반     True\n",
            "     2반    False\n",
            "2학년  1반     True\n",
            "     2반     True\n",
            "Name: 국, dtype: bool\n",
            "===============================\n",
            "언어  국    98\n",
            "    영    53\n",
            "수리  수    82\n",
            "Name: (1학년, 1반), dtype: int64\n",
            "===============================\n",
            "    언어      수리\n",
            "     국   영   수\n",
            "1반  98  53  82\n",
            "2반  67  79  58\n",
            "-------------------------------\n",
            "언어  국    98\n",
            "    영    53\n",
            "수리  수    82\n",
            "Name: 1반, dtype: int64\n",
            "===============================\n"
          ]
        }
      ]
    },
    {
      "cell_type": "code",
      "source": [
        "#데이터 분석\n",
        "print(df.info())\n",
        "print(\"===============================\")\n",
        "# 체크용도의 메소드\n",
        "#앞에 5개 체크\n",
        "print(df.head())\n",
        "print(\"-------------------------------\")\n",
        "#뒤에 5개 체크\n",
        "print(df.tail())\n",
        "print(\"===============================\")\n",
        "#자료의 타입\n",
        "print(df.dtypes)\n",
        "print(\"===============================\")\n",
        "#데이터 정리\n",
        "print(df.describe())\n",
        "print(\"-------------------------------\")\n",
        "#T를 통해서 row column을 전치(transpose)하여 통계 자료 출력\n",
        "print(df.T.describe())\n",
        "print(\"===============================\")\n",
        "#null이면 true를 반환\n",
        "print(df.isnull())\n",
        "print(\"-------------------------------\")\n",
        "#isNull과 sum을 인덱스, 컬럼별 null을 카운트 할 수 있다.\n",
        "#True = 1취급 False = 0 취급\n",
        "print(df.isnull().sum()) #null의 수\n",
        "print(df.isnull().count()) #null이 아닌 수\n",
        "\n"
      ],
      "metadata": {
        "colab": {
          "base_uri": "https://localhost:8080/"
        },
        "id": "HqtSb_0PhmQr",
        "outputId": "a3b52af4-365b-47b0-d9de-3c450790e5ab"
      },
      "execution_count": 221,
      "outputs": [
        {
          "output_type": "stream",
          "name": "stdout",
          "text": [
            "<class 'pandas.core.frame.DataFrame'>\n",
            "MultiIndex: 4 entries, ('1학년', '1반') to ('2학년', '2반')\n",
            "Data columns (total 3 columns):\n",
            " #   Column   Non-Null Count  Dtype\n",
            "---  ------   --------------  -----\n",
            " 0   (언어, 국)  4 non-null      int64\n",
            " 1   (언어, 영)  4 non-null      int64\n",
            " 2   (수리, 수)  4 non-null      int64\n",
            "dtypes: int64(3)\n",
            "memory usage: 384.0+ bytes\n",
            "None\n",
            "===============================\n",
            "        언어      수리\n",
            "         국   영   수\n",
            "1학년 1반  98  53  82\n",
            "    2반  67  79  58\n",
            "2학년 1반  94  93  67\n",
            "    2반  81  99  78\n",
            "-------------------------------\n",
            "        언어      수리\n",
            "         국   영   수\n",
            "1학년 1반  98  53  82\n",
            "    2반  67  79  58\n",
            "2학년 1반  94  93  67\n",
            "    2반  81  99  78\n",
            "===============================\n",
            "언어  국    int64\n",
            "    영    int64\n",
            "수리  수    int64\n",
            "dtype: object\n",
            "===============================\n",
            "              언어                    수리\n",
            "               국          영          수\n",
            "count   4.000000   4.000000   4.000000\n",
            "mean   85.000000  81.000000  71.250000\n",
            "std    14.023789  20.461346  10.874282\n",
            "min    67.000000  53.000000  58.000000\n",
            "25%    77.500000  72.500000  64.750000\n",
            "50%    87.500000  86.000000  72.500000\n",
            "75%    95.000000  94.500000  79.000000\n",
            "max    98.000000  99.000000  82.000000\n",
            "-------------------------------\n",
            "             1학년                   2학년           \n",
            "              1반         2반         1반         2반\n",
            "count   3.000000   3.000000   3.000000   3.000000\n",
            "mean   77.666667  68.000000  84.666667  86.000000\n",
            "std    22.810816  10.535654  15.307950  11.357817\n",
            "min    53.000000  58.000000  67.000000  78.000000\n",
            "25%    67.500000  62.500000  80.000000  79.500000\n",
            "50%    82.000000  67.000000  93.000000  81.000000\n",
            "75%    90.000000  73.000000  93.500000  90.000000\n",
            "max    98.000000  79.000000  94.000000  99.000000\n",
            "===============================\n",
            "           언어            수리\n",
            "            국      영      수\n",
            "1학년 1반  False  False  False\n",
            "    2반  False  False  False\n",
            "2학년 1반  False  False  False\n",
            "    2반  False  False  False\n",
            "-------------------------------\n",
            "언어  국    0\n",
            "    영    0\n",
            "수리  수    0\n",
            "dtype: int64\n"
          ]
        }
      ]
    },
    {
      "cell_type": "code",
      "source": [
        "#값의 연결\n",
        "\n",
        "a = pd.DataFrame( np.arange(1,10).reshape(3,3))\n",
        "print(a)\n",
        "print(\"===============================\")\n",
        "b = pd.Series( np.arange( 10, 40, 10) )\n",
        "print(b)\n",
        "print(\"===============================\")\n"
      ],
      "metadata": {
        "colab": {
          "base_uri": "https://localhost:8080/"
        },
        "id": "xy9ijp83kyrC",
        "outputId": "cb09f431-adef-4b97-d4db-b31ecf7e7339"
      },
      "execution_count": 249,
      "outputs": [
        {
          "output_type": "stream",
          "name": "stdout",
          "text": [
            "   0  1  2\n",
            "0  1  2  3\n",
            "1  4  5  6\n",
            "2  7  8  9\n",
            "===============================\n",
            "0    10\n",
            "1    20\n",
            "2    30\n",
            "dtype: int64\n",
            "===============================\n"
          ]
        }
      ]
    },
    {
      "cell_type": "code",
      "source": [
        "pd.concat([a,b],axis=1)"
      ],
      "metadata": {
        "colab": {
          "base_uri": "https://localhost:8080/",
          "height": 143
        },
        "id": "IO35zTpan-mT",
        "outputId": "a9eda885-43fa-42a2-b65a-27833f0eb844"
      },
      "execution_count": 250,
      "outputs": [
        {
          "output_type": "execute_result",
          "data": {
            "text/plain": [
              "   0  1  2   0\n",
              "0  1  2  3  10\n",
              "1  4  5  6  20\n",
              "2  7  8  9  30"
            ],
            "text/html": [
              "\n",
              "  <div id=\"df-1a798cf1-1ad9-4093-9ef8-f30a4d6419d0\" class=\"colab-df-container\">\n",
              "    <div>\n",
              "<style scoped>\n",
              "    .dataframe tbody tr th:only-of-type {\n",
              "        vertical-align: middle;\n",
              "    }\n",
              "\n",
              "    .dataframe tbody tr th {\n",
              "        vertical-align: top;\n",
              "    }\n",
              "\n",
              "    .dataframe thead th {\n",
              "        text-align: right;\n",
              "    }\n",
              "</style>\n",
              "<table border=\"1\" class=\"dataframe\">\n",
              "  <thead>\n",
              "    <tr style=\"text-align: right;\">\n",
              "      <th></th>\n",
              "      <th>0</th>\n",
              "      <th>1</th>\n",
              "      <th>2</th>\n",
              "      <th>0</th>\n",
              "    </tr>\n",
              "  </thead>\n",
              "  <tbody>\n",
              "    <tr>\n",
              "      <th>0</th>\n",
              "      <td>1</td>\n",
              "      <td>2</td>\n",
              "      <td>3</td>\n",
              "      <td>10</td>\n",
              "    </tr>\n",
              "    <tr>\n",
              "      <th>1</th>\n",
              "      <td>4</td>\n",
              "      <td>5</td>\n",
              "      <td>6</td>\n",
              "      <td>20</td>\n",
              "    </tr>\n",
              "    <tr>\n",
              "      <th>2</th>\n",
              "      <td>7</td>\n",
              "      <td>8</td>\n",
              "      <td>9</td>\n",
              "      <td>30</td>\n",
              "    </tr>\n",
              "  </tbody>\n",
              "</table>\n",
              "</div>\n",
              "    <div class=\"colab-df-buttons\">\n",
              "\n",
              "  <div class=\"colab-df-container\">\n",
              "    <button class=\"colab-df-convert\" onclick=\"convertToInteractive('df-1a798cf1-1ad9-4093-9ef8-f30a4d6419d0')\"\n",
              "            title=\"Convert this dataframe to an interactive table.\"\n",
              "            style=\"display:none;\">\n",
              "\n",
              "  <svg xmlns=\"http://www.w3.org/2000/svg\" height=\"24px\" viewBox=\"0 -960 960 960\">\n",
              "    <path d=\"M120-120v-720h720v720H120Zm60-500h600v-160H180v160Zm220 220h160v-160H400v160Zm0 220h160v-160H400v160ZM180-400h160v-160H180v160Zm440 0h160v-160H620v160ZM180-180h160v-160H180v160Zm440 0h160v-160H620v160Z\"/>\n",
              "  </svg>\n",
              "    </button>\n",
              "\n",
              "  <style>\n",
              "    .colab-df-container {\n",
              "      display:flex;\n",
              "      gap: 12px;\n",
              "    }\n",
              "\n",
              "    .colab-df-convert {\n",
              "      background-color: #E8F0FE;\n",
              "      border: none;\n",
              "      border-radius: 50%;\n",
              "      cursor: pointer;\n",
              "      display: none;\n",
              "      fill: #1967D2;\n",
              "      height: 32px;\n",
              "      padding: 0 0 0 0;\n",
              "      width: 32px;\n",
              "    }\n",
              "\n",
              "    .colab-df-convert:hover {\n",
              "      background-color: #E2EBFA;\n",
              "      box-shadow: 0px 1px 2px rgba(60, 64, 67, 0.3), 0px 1px 3px 1px rgba(60, 64, 67, 0.15);\n",
              "      fill: #174EA6;\n",
              "    }\n",
              "\n",
              "    .colab-df-buttons div {\n",
              "      margin-bottom: 4px;\n",
              "    }\n",
              "\n",
              "    [theme=dark] .colab-df-convert {\n",
              "      background-color: #3B4455;\n",
              "      fill: #D2E3FC;\n",
              "    }\n",
              "\n",
              "    [theme=dark] .colab-df-convert:hover {\n",
              "      background-color: #434B5C;\n",
              "      box-shadow: 0px 1px 3px 1px rgba(0, 0, 0, 0.15);\n",
              "      filter: drop-shadow(0px 1px 2px rgba(0, 0, 0, 0.3));\n",
              "      fill: #FFFFFF;\n",
              "    }\n",
              "  </style>\n",
              "\n",
              "    <script>\n",
              "      const buttonEl =\n",
              "        document.querySelector('#df-1a798cf1-1ad9-4093-9ef8-f30a4d6419d0 button.colab-df-convert');\n",
              "      buttonEl.style.display =\n",
              "        google.colab.kernel.accessAllowed ? 'block' : 'none';\n",
              "\n",
              "      async function convertToInteractive(key) {\n",
              "        const element = document.querySelector('#df-1a798cf1-1ad9-4093-9ef8-f30a4d6419d0');\n",
              "        const dataTable =\n",
              "          await google.colab.kernel.invokeFunction('convertToInteractive',\n",
              "                                                    [key], {});\n",
              "        if (!dataTable) return;\n",
              "\n",
              "        const docLinkHtml = 'Like what you see? Visit the ' +\n",
              "          '<a target=\"_blank\" href=https://colab.research.google.com/notebooks/data_table.ipynb>data table notebook</a>'\n",
              "          + ' to learn more about interactive tables.';\n",
              "        element.innerHTML = '';\n",
              "        dataTable['output_type'] = 'display_data';\n",
              "        await google.colab.output.renderOutput(dataTable, element);\n",
              "        const docLink = document.createElement('div');\n",
              "        docLink.innerHTML = docLinkHtml;\n",
              "        element.appendChild(docLink);\n",
              "      }\n",
              "    </script>\n",
              "  </div>\n",
              "\n",
              "\n",
              "<div id=\"df-86b88dac-dffc-4538-b615-b285682e24cd\">\n",
              "  <button class=\"colab-df-quickchart\" onclick=\"quickchart('df-86b88dac-dffc-4538-b615-b285682e24cd')\"\n",
              "            title=\"Suggest charts\"\n",
              "            style=\"display:none;\">\n",
              "\n",
              "<svg xmlns=\"http://www.w3.org/2000/svg\" height=\"24px\"viewBox=\"0 0 24 24\"\n",
              "     width=\"24px\">\n",
              "    <g>\n",
              "        <path d=\"M19 3H5c-1.1 0-2 .9-2 2v14c0 1.1.9 2 2 2h14c1.1 0 2-.9 2-2V5c0-1.1-.9-2-2-2zM9 17H7v-7h2v7zm4 0h-2V7h2v10zm4 0h-2v-4h2v4z\"/>\n",
              "    </g>\n",
              "</svg>\n",
              "  </button>\n",
              "\n",
              "<style>\n",
              "  .colab-df-quickchart {\n",
              "      --bg-color: #E8F0FE;\n",
              "      --fill-color: #1967D2;\n",
              "      --hover-bg-color: #E2EBFA;\n",
              "      --hover-fill-color: #174EA6;\n",
              "      --disabled-fill-color: #AAA;\n",
              "      --disabled-bg-color: #DDD;\n",
              "  }\n",
              "\n",
              "  [theme=dark] .colab-df-quickchart {\n",
              "      --bg-color: #3B4455;\n",
              "      --fill-color: #D2E3FC;\n",
              "      --hover-bg-color: #434B5C;\n",
              "      --hover-fill-color: #FFFFFF;\n",
              "      --disabled-bg-color: #3B4455;\n",
              "      --disabled-fill-color: #666;\n",
              "  }\n",
              "\n",
              "  .colab-df-quickchart {\n",
              "    background-color: var(--bg-color);\n",
              "    border: none;\n",
              "    border-radius: 50%;\n",
              "    cursor: pointer;\n",
              "    display: none;\n",
              "    fill: var(--fill-color);\n",
              "    height: 32px;\n",
              "    padding: 0;\n",
              "    width: 32px;\n",
              "  }\n",
              "\n",
              "  .colab-df-quickchart:hover {\n",
              "    background-color: var(--hover-bg-color);\n",
              "    box-shadow: 0 1px 2px rgba(60, 64, 67, 0.3), 0 1px 3px 1px rgba(60, 64, 67, 0.15);\n",
              "    fill: var(--button-hover-fill-color);\n",
              "  }\n",
              "\n",
              "  .colab-df-quickchart-complete:disabled,\n",
              "  .colab-df-quickchart-complete:disabled:hover {\n",
              "    background-color: var(--disabled-bg-color);\n",
              "    fill: var(--disabled-fill-color);\n",
              "    box-shadow: none;\n",
              "  }\n",
              "\n",
              "  .colab-df-spinner {\n",
              "    border: 2px solid var(--fill-color);\n",
              "    border-color: transparent;\n",
              "    border-bottom-color: var(--fill-color);\n",
              "    animation:\n",
              "      spin 1s steps(1) infinite;\n",
              "  }\n",
              "\n",
              "  @keyframes spin {\n",
              "    0% {\n",
              "      border-color: transparent;\n",
              "      border-bottom-color: var(--fill-color);\n",
              "      border-left-color: var(--fill-color);\n",
              "    }\n",
              "    20% {\n",
              "      border-color: transparent;\n",
              "      border-left-color: var(--fill-color);\n",
              "      border-top-color: var(--fill-color);\n",
              "    }\n",
              "    30% {\n",
              "      border-color: transparent;\n",
              "      border-left-color: var(--fill-color);\n",
              "      border-top-color: var(--fill-color);\n",
              "      border-right-color: var(--fill-color);\n",
              "    }\n",
              "    40% {\n",
              "      border-color: transparent;\n",
              "      border-right-color: var(--fill-color);\n",
              "      border-top-color: var(--fill-color);\n",
              "    }\n",
              "    60% {\n",
              "      border-color: transparent;\n",
              "      border-right-color: var(--fill-color);\n",
              "    }\n",
              "    80% {\n",
              "      border-color: transparent;\n",
              "      border-right-color: var(--fill-color);\n",
              "      border-bottom-color: var(--fill-color);\n",
              "    }\n",
              "    90% {\n",
              "      border-color: transparent;\n",
              "      border-bottom-color: var(--fill-color);\n",
              "    }\n",
              "  }\n",
              "</style>\n",
              "\n",
              "  <script>\n",
              "    async function quickchart(key) {\n",
              "      const quickchartButtonEl =\n",
              "        document.querySelector('#' + key + ' button');\n",
              "      quickchartButtonEl.disabled = true;  // To prevent multiple clicks.\n",
              "      quickchartButtonEl.classList.add('colab-df-spinner');\n",
              "      try {\n",
              "        const charts = await google.colab.kernel.invokeFunction(\n",
              "            'suggestCharts', [key], {});\n",
              "      } catch (error) {\n",
              "        console.error('Error during call to suggestCharts:', error);\n",
              "      }\n",
              "      quickchartButtonEl.classList.remove('colab-df-spinner');\n",
              "      quickchartButtonEl.classList.add('colab-df-quickchart-complete');\n",
              "    }\n",
              "    (() => {\n",
              "      let quickchartButtonEl =\n",
              "        document.querySelector('#df-86b88dac-dffc-4538-b615-b285682e24cd button');\n",
              "      quickchartButtonEl.style.display =\n",
              "        google.colab.kernel.accessAllowed ? 'block' : 'none';\n",
              "    })();\n",
              "  </script>\n",
              "</div>\n",
              "    </div>\n",
              "  </div>\n"
            ]
          },
          "metadata": {},
          "execution_count": 250
        }
      ]
    },
    {
      "cell_type": "code",
      "source": [
        "pd.concat([a,b],axis=1,ignore_index=True)"
      ],
      "metadata": {
        "colab": {
          "base_uri": "https://localhost:8080/",
          "height": 143
        },
        "id": "MKkP5xXRoXwb",
        "outputId": "d7677518-8da8-411b-e63e-1607931fdab9"
      },
      "execution_count": 251,
      "outputs": [
        {
          "output_type": "execute_result",
          "data": {
            "text/plain": [
              "   0  1  2   3\n",
              "0  1  2  3  10\n",
              "1  4  5  6  20\n",
              "2  7  8  9  30"
            ],
            "text/html": [
              "\n",
              "  <div id=\"df-61ed0ec7-7741-45f6-b307-a6b1260cc24d\" class=\"colab-df-container\">\n",
              "    <div>\n",
              "<style scoped>\n",
              "    .dataframe tbody tr th:only-of-type {\n",
              "        vertical-align: middle;\n",
              "    }\n",
              "\n",
              "    .dataframe tbody tr th {\n",
              "        vertical-align: top;\n",
              "    }\n",
              "\n",
              "    .dataframe thead th {\n",
              "        text-align: right;\n",
              "    }\n",
              "</style>\n",
              "<table border=\"1\" class=\"dataframe\">\n",
              "  <thead>\n",
              "    <tr style=\"text-align: right;\">\n",
              "      <th></th>\n",
              "      <th>0</th>\n",
              "      <th>1</th>\n",
              "      <th>2</th>\n",
              "      <th>3</th>\n",
              "    </tr>\n",
              "  </thead>\n",
              "  <tbody>\n",
              "    <tr>\n",
              "      <th>0</th>\n",
              "      <td>1</td>\n",
              "      <td>2</td>\n",
              "      <td>3</td>\n",
              "      <td>10</td>\n",
              "    </tr>\n",
              "    <tr>\n",
              "      <th>1</th>\n",
              "      <td>4</td>\n",
              "      <td>5</td>\n",
              "      <td>6</td>\n",
              "      <td>20</td>\n",
              "    </tr>\n",
              "    <tr>\n",
              "      <th>2</th>\n",
              "      <td>7</td>\n",
              "      <td>8</td>\n",
              "      <td>9</td>\n",
              "      <td>30</td>\n",
              "    </tr>\n",
              "  </tbody>\n",
              "</table>\n",
              "</div>\n",
              "    <div class=\"colab-df-buttons\">\n",
              "\n",
              "  <div class=\"colab-df-container\">\n",
              "    <button class=\"colab-df-convert\" onclick=\"convertToInteractive('df-61ed0ec7-7741-45f6-b307-a6b1260cc24d')\"\n",
              "            title=\"Convert this dataframe to an interactive table.\"\n",
              "            style=\"display:none;\">\n",
              "\n",
              "  <svg xmlns=\"http://www.w3.org/2000/svg\" height=\"24px\" viewBox=\"0 -960 960 960\">\n",
              "    <path d=\"M120-120v-720h720v720H120Zm60-500h600v-160H180v160Zm220 220h160v-160H400v160Zm0 220h160v-160H400v160ZM180-400h160v-160H180v160Zm440 0h160v-160H620v160ZM180-180h160v-160H180v160Zm440 0h160v-160H620v160Z\"/>\n",
              "  </svg>\n",
              "    </button>\n",
              "\n",
              "  <style>\n",
              "    .colab-df-container {\n",
              "      display:flex;\n",
              "      gap: 12px;\n",
              "    }\n",
              "\n",
              "    .colab-df-convert {\n",
              "      background-color: #E8F0FE;\n",
              "      border: none;\n",
              "      border-radius: 50%;\n",
              "      cursor: pointer;\n",
              "      display: none;\n",
              "      fill: #1967D2;\n",
              "      height: 32px;\n",
              "      padding: 0 0 0 0;\n",
              "      width: 32px;\n",
              "    }\n",
              "\n",
              "    .colab-df-convert:hover {\n",
              "      background-color: #E2EBFA;\n",
              "      box-shadow: 0px 1px 2px rgba(60, 64, 67, 0.3), 0px 1px 3px 1px rgba(60, 64, 67, 0.15);\n",
              "      fill: #174EA6;\n",
              "    }\n",
              "\n",
              "    .colab-df-buttons div {\n",
              "      margin-bottom: 4px;\n",
              "    }\n",
              "\n",
              "    [theme=dark] .colab-df-convert {\n",
              "      background-color: #3B4455;\n",
              "      fill: #D2E3FC;\n",
              "    }\n",
              "\n",
              "    [theme=dark] .colab-df-convert:hover {\n",
              "      background-color: #434B5C;\n",
              "      box-shadow: 0px 1px 3px 1px rgba(0, 0, 0, 0.15);\n",
              "      filter: drop-shadow(0px 1px 2px rgba(0, 0, 0, 0.3));\n",
              "      fill: #FFFFFF;\n",
              "    }\n",
              "  </style>\n",
              "\n",
              "    <script>\n",
              "      const buttonEl =\n",
              "        document.querySelector('#df-61ed0ec7-7741-45f6-b307-a6b1260cc24d button.colab-df-convert');\n",
              "      buttonEl.style.display =\n",
              "        google.colab.kernel.accessAllowed ? 'block' : 'none';\n",
              "\n",
              "      async function convertToInteractive(key) {\n",
              "        const element = document.querySelector('#df-61ed0ec7-7741-45f6-b307-a6b1260cc24d');\n",
              "        const dataTable =\n",
              "          await google.colab.kernel.invokeFunction('convertToInteractive',\n",
              "                                                    [key], {});\n",
              "        if (!dataTable) return;\n",
              "\n",
              "        const docLinkHtml = 'Like what you see? Visit the ' +\n",
              "          '<a target=\"_blank\" href=https://colab.research.google.com/notebooks/data_table.ipynb>data table notebook</a>'\n",
              "          + ' to learn more about interactive tables.';\n",
              "        element.innerHTML = '';\n",
              "        dataTable['output_type'] = 'display_data';\n",
              "        await google.colab.output.renderOutput(dataTable, element);\n",
              "        const docLink = document.createElement('div');\n",
              "        docLink.innerHTML = docLinkHtml;\n",
              "        element.appendChild(docLink);\n",
              "      }\n",
              "    </script>\n",
              "  </div>\n",
              "\n",
              "\n",
              "<div id=\"df-2e99b242-01f9-4ee9-a70e-c609179de757\">\n",
              "  <button class=\"colab-df-quickchart\" onclick=\"quickchart('df-2e99b242-01f9-4ee9-a70e-c609179de757')\"\n",
              "            title=\"Suggest charts\"\n",
              "            style=\"display:none;\">\n",
              "\n",
              "<svg xmlns=\"http://www.w3.org/2000/svg\" height=\"24px\"viewBox=\"0 0 24 24\"\n",
              "     width=\"24px\">\n",
              "    <g>\n",
              "        <path d=\"M19 3H5c-1.1 0-2 .9-2 2v14c0 1.1.9 2 2 2h14c1.1 0 2-.9 2-2V5c0-1.1-.9-2-2-2zM9 17H7v-7h2v7zm4 0h-2V7h2v10zm4 0h-2v-4h2v4z\"/>\n",
              "    </g>\n",
              "</svg>\n",
              "  </button>\n",
              "\n",
              "<style>\n",
              "  .colab-df-quickchart {\n",
              "      --bg-color: #E8F0FE;\n",
              "      --fill-color: #1967D2;\n",
              "      --hover-bg-color: #E2EBFA;\n",
              "      --hover-fill-color: #174EA6;\n",
              "      --disabled-fill-color: #AAA;\n",
              "      --disabled-bg-color: #DDD;\n",
              "  }\n",
              "\n",
              "  [theme=dark] .colab-df-quickchart {\n",
              "      --bg-color: #3B4455;\n",
              "      --fill-color: #D2E3FC;\n",
              "      --hover-bg-color: #434B5C;\n",
              "      --hover-fill-color: #FFFFFF;\n",
              "      --disabled-bg-color: #3B4455;\n",
              "      --disabled-fill-color: #666;\n",
              "  }\n",
              "\n",
              "  .colab-df-quickchart {\n",
              "    background-color: var(--bg-color);\n",
              "    border: none;\n",
              "    border-radius: 50%;\n",
              "    cursor: pointer;\n",
              "    display: none;\n",
              "    fill: var(--fill-color);\n",
              "    height: 32px;\n",
              "    padding: 0;\n",
              "    width: 32px;\n",
              "  }\n",
              "\n",
              "  .colab-df-quickchart:hover {\n",
              "    background-color: var(--hover-bg-color);\n",
              "    box-shadow: 0 1px 2px rgba(60, 64, 67, 0.3), 0 1px 3px 1px rgba(60, 64, 67, 0.15);\n",
              "    fill: var(--button-hover-fill-color);\n",
              "  }\n",
              "\n",
              "  .colab-df-quickchart-complete:disabled,\n",
              "  .colab-df-quickchart-complete:disabled:hover {\n",
              "    background-color: var(--disabled-bg-color);\n",
              "    fill: var(--disabled-fill-color);\n",
              "    box-shadow: none;\n",
              "  }\n",
              "\n",
              "  .colab-df-spinner {\n",
              "    border: 2px solid var(--fill-color);\n",
              "    border-color: transparent;\n",
              "    border-bottom-color: var(--fill-color);\n",
              "    animation:\n",
              "      spin 1s steps(1) infinite;\n",
              "  }\n",
              "\n",
              "  @keyframes spin {\n",
              "    0% {\n",
              "      border-color: transparent;\n",
              "      border-bottom-color: var(--fill-color);\n",
              "      border-left-color: var(--fill-color);\n",
              "    }\n",
              "    20% {\n",
              "      border-color: transparent;\n",
              "      border-left-color: var(--fill-color);\n",
              "      border-top-color: var(--fill-color);\n",
              "    }\n",
              "    30% {\n",
              "      border-color: transparent;\n",
              "      border-left-color: var(--fill-color);\n",
              "      border-top-color: var(--fill-color);\n",
              "      border-right-color: var(--fill-color);\n",
              "    }\n",
              "    40% {\n",
              "      border-color: transparent;\n",
              "      border-right-color: var(--fill-color);\n",
              "      border-top-color: var(--fill-color);\n",
              "    }\n",
              "    60% {\n",
              "      border-color: transparent;\n",
              "      border-right-color: var(--fill-color);\n",
              "    }\n",
              "    80% {\n",
              "      border-color: transparent;\n",
              "      border-right-color: var(--fill-color);\n",
              "      border-bottom-color: var(--fill-color);\n",
              "    }\n",
              "    90% {\n",
              "      border-color: transparent;\n",
              "      border-bottom-color: var(--fill-color);\n",
              "    }\n",
              "  }\n",
              "</style>\n",
              "\n",
              "  <script>\n",
              "    async function quickchart(key) {\n",
              "      const quickchartButtonEl =\n",
              "        document.querySelector('#' + key + ' button');\n",
              "      quickchartButtonEl.disabled = true;  // To prevent multiple clicks.\n",
              "      quickchartButtonEl.classList.add('colab-df-spinner');\n",
              "      try {\n",
              "        const charts = await google.colab.kernel.invokeFunction(\n",
              "            'suggestCharts', [key], {});\n",
              "      } catch (error) {\n",
              "        console.error('Error during call to suggestCharts:', error);\n",
              "      }\n",
              "      quickchartButtonEl.classList.remove('colab-df-spinner');\n",
              "      quickchartButtonEl.classList.add('colab-df-quickchart-complete');\n",
              "    }\n",
              "    (() => {\n",
              "      let quickchartButtonEl =\n",
              "        document.querySelector('#df-2e99b242-01f9-4ee9-a70e-c609179de757 button');\n",
              "      quickchartButtonEl.style.display =\n",
              "        google.colab.kernel.accessAllowed ? 'block' : 'none';\n",
              "    })();\n",
              "  </script>\n",
              "</div>\n",
              "    </div>\n",
              "  </div>\n"
            ]
          },
          "metadata": {},
          "execution_count": 251
        }
      ]
    },
    {
      "cell_type": "code",
      "source": [
        "pd.concat([a,b],axis=0)"
      ],
      "metadata": {
        "colab": {
          "base_uri": "https://localhost:8080/",
          "height": 238
        },
        "id": "NtK6SJQVoiWa",
        "outputId": "6b1729a5-5e66-4f46-d8b8-8b6384babf1c"
      },
      "execution_count": 252,
      "outputs": [
        {
          "output_type": "execute_result",
          "data": {
            "text/plain": [
              "    0    1    2\n",
              "0   1  2.0  3.0\n",
              "1   4  5.0  6.0\n",
              "2   7  8.0  9.0\n",
              "0  10  NaN  NaN\n",
              "1  20  NaN  NaN\n",
              "2  30  NaN  NaN"
            ],
            "text/html": [
              "\n",
              "  <div id=\"df-6a8eb064-56f0-464e-897d-a6039bd1d718\" class=\"colab-df-container\">\n",
              "    <div>\n",
              "<style scoped>\n",
              "    .dataframe tbody tr th:only-of-type {\n",
              "        vertical-align: middle;\n",
              "    }\n",
              "\n",
              "    .dataframe tbody tr th {\n",
              "        vertical-align: top;\n",
              "    }\n",
              "\n",
              "    .dataframe thead th {\n",
              "        text-align: right;\n",
              "    }\n",
              "</style>\n",
              "<table border=\"1\" class=\"dataframe\">\n",
              "  <thead>\n",
              "    <tr style=\"text-align: right;\">\n",
              "      <th></th>\n",
              "      <th>0</th>\n",
              "      <th>1</th>\n",
              "      <th>2</th>\n",
              "    </tr>\n",
              "  </thead>\n",
              "  <tbody>\n",
              "    <tr>\n",
              "      <th>0</th>\n",
              "      <td>1</td>\n",
              "      <td>2.0</td>\n",
              "      <td>3.0</td>\n",
              "    </tr>\n",
              "    <tr>\n",
              "      <th>1</th>\n",
              "      <td>4</td>\n",
              "      <td>5.0</td>\n",
              "      <td>6.0</td>\n",
              "    </tr>\n",
              "    <tr>\n",
              "      <th>2</th>\n",
              "      <td>7</td>\n",
              "      <td>8.0</td>\n",
              "      <td>9.0</td>\n",
              "    </tr>\n",
              "    <tr>\n",
              "      <th>0</th>\n",
              "      <td>10</td>\n",
              "      <td>NaN</td>\n",
              "      <td>NaN</td>\n",
              "    </tr>\n",
              "    <tr>\n",
              "      <th>1</th>\n",
              "      <td>20</td>\n",
              "      <td>NaN</td>\n",
              "      <td>NaN</td>\n",
              "    </tr>\n",
              "    <tr>\n",
              "      <th>2</th>\n",
              "      <td>30</td>\n",
              "      <td>NaN</td>\n",
              "      <td>NaN</td>\n",
              "    </tr>\n",
              "  </tbody>\n",
              "</table>\n",
              "</div>\n",
              "    <div class=\"colab-df-buttons\">\n",
              "\n",
              "  <div class=\"colab-df-container\">\n",
              "    <button class=\"colab-df-convert\" onclick=\"convertToInteractive('df-6a8eb064-56f0-464e-897d-a6039bd1d718')\"\n",
              "            title=\"Convert this dataframe to an interactive table.\"\n",
              "            style=\"display:none;\">\n",
              "\n",
              "  <svg xmlns=\"http://www.w3.org/2000/svg\" height=\"24px\" viewBox=\"0 -960 960 960\">\n",
              "    <path d=\"M120-120v-720h720v720H120Zm60-500h600v-160H180v160Zm220 220h160v-160H400v160Zm0 220h160v-160H400v160ZM180-400h160v-160H180v160Zm440 0h160v-160H620v160ZM180-180h160v-160H180v160Zm440 0h160v-160H620v160Z\"/>\n",
              "  </svg>\n",
              "    </button>\n",
              "\n",
              "  <style>\n",
              "    .colab-df-container {\n",
              "      display:flex;\n",
              "      gap: 12px;\n",
              "    }\n",
              "\n",
              "    .colab-df-convert {\n",
              "      background-color: #E8F0FE;\n",
              "      border: none;\n",
              "      border-radius: 50%;\n",
              "      cursor: pointer;\n",
              "      display: none;\n",
              "      fill: #1967D2;\n",
              "      height: 32px;\n",
              "      padding: 0 0 0 0;\n",
              "      width: 32px;\n",
              "    }\n",
              "\n",
              "    .colab-df-convert:hover {\n",
              "      background-color: #E2EBFA;\n",
              "      box-shadow: 0px 1px 2px rgba(60, 64, 67, 0.3), 0px 1px 3px 1px rgba(60, 64, 67, 0.15);\n",
              "      fill: #174EA6;\n",
              "    }\n",
              "\n",
              "    .colab-df-buttons div {\n",
              "      margin-bottom: 4px;\n",
              "    }\n",
              "\n",
              "    [theme=dark] .colab-df-convert {\n",
              "      background-color: #3B4455;\n",
              "      fill: #D2E3FC;\n",
              "    }\n",
              "\n",
              "    [theme=dark] .colab-df-convert:hover {\n",
              "      background-color: #434B5C;\n",
              "      box-shadow: 0px 1px 3px 1px rgba(0, 0, 0, 0.15);\n",
              "      filter: drop-shadow(0px 1px 2px rgba(0, 0, 0, 0.3));\n",
              "      fill: #FFFFFF;\n",
              "    }\n",
              "  </style>\n",
              "\n",
              "    <script>\n",
              "      const buttonEl =\n",
              "        document.querySelector('#df-6a8eb064-56f0-464e-897d-a6039bd1d718 button.colab-df-convert');\n",
              "      buttonEl.style.display =\n",
              "        google.colab.kernel.accessAllowed ? 'block' : 'none';\n",
              "\n",
              "      async function convertToInteractive(key) {\n",
              "        const element = document.querySelector('#df-6a8eb064-56f0-464e-897d-a6039bd1d718');\n",
              "        const dataTable =\n",
              "          await google.colab.kernel.invokeFunction('convertToInteractive',\n",
              "                                                    [key], {});\n",
              "        if (!dataTable) return;\n",
              "\n",
              "        const docLinkHtml = 'Like what you see? Visit the ' +\n",
              "          '<a target=\"_blank\" href=https://colab.research.google.com/notebooks/data_table.ipynb>data table notebook</a>'\n",
              "          + ' to learn more about interactive tables.';\n",
              "        element.innerHTML = '';\n",
              "        dataTable['output_type'] = 'display_data';\n",
              "        await google.colab.output.renderOutput(dataTable, element);\n",
              "        const docLink = document.createElement('div');\n",
              "        docLink.innerHTML = docLinkHtml;\n",
              "        element.appendChild(docLink);\n",
              "      }\n",
              "    </script>\n",
              "  </div>\n",
              "\n",
              "\n",
              "<div id=\"df-06387dc3-35a2-47c1-95d3-4f210ea8efaa\">\n",
              "  <button class=\"colab-df-quickchart\" onclick=\"quickchart('df-06387dc3-35a2-47c1-95d3-4f210ea8efaa')\"\n",
              "            title=\"Suggest charts\"\n",
              "            style=\"display:none;\">\n",
              "\n",
              "<svg xmlns=\"http://www.w3.org/2000/svg\" height=\"24px\"viewBox=\"0 0 24 24\"\n",
              "     width=\"24px\">\n",
              "    <g>\n",
              "        <path d=\"M19 3H5c-1.1 0-2 .9-2 2v14c0 1.1.9 2 2 2h14c1.1 0 2-.9 2-2V5c0-1.1-.9-2-2-2zM9 17H7v-7h2v7zm4 0h-2V7h2v10zm4 0h-2v-4h2v4z\"/>\n",
              "    </g>\n",
              "</svg>\n",
              "  </button>\n",
              "\n",
              "<style>\n",
              "  .colab-df-quickchart {\n",
              "      --bg-color: #E8F0FE;\n",
              "      --fill-color: #1967D2;\n",
              "      --hover-bg-color: #E2EBFA;\n",
              "      --hover-fill-color: #174EA6;\n",
              "      --disabled-fill-color: #AAA;\n",
              "      --disabled-bg-color: #DDD;\n",
              "  }\n",
              "\n",
              "  [theme=dark] .colab-df-quickchart {\n",
              "      --bg-color: #3B4455;\n",
              "      --fill-color: #D2E3FC;\n",
              "      --hover-bg-color: #434B5C;\n",
              "      --hover-fill-color: #FFFFFF;\n",
              "      --disabled-bg-color: #3B4455;\n",
              "      --disabled-fill-color: #666;\n",
              "  }\n",
              "\n",
              "  .colab-df-quickchart {\n",
              "    background-color: var(--bg-color);\n",
              "    border: none;\n",
              "    border-radius: 50%;\n",
              "    cursor: pointer;\n",
              "    display: none;\n",
              "    fill: var(--fill-color);\n",
              "    height: 32px;\n",
              "    padding: 0;\n",
              "    width: 32px;\n",
              "  }\n",
              "\n",
              "  .colab-df-quickchart:hover {\n",
              "    background-color: var(--hover-bg-color);\n",
              "    box-shadow: 0 1px 2px rgba(60, 64, 67, 0.3), 0 1px 3px 1px rgba(60, 64, 67, 0.15);\n",
              "    fill: var(--button-hover-fill-color);\n",
              "  }\n",
              "\n",
              "  .colab-df-quickchart-complete:disabled,\n",
              "  .colab-df-quickchart-complete:disabled:hover {\n",
              "    background-color: var(--disabled-bg-color);\n",
              "    fill: var(--disabled-fill-color);\n",
              "    box-shadow: none;\n",
              "  }\n",
              "\n",
              "  .colab-df-spinner {\n",
              "    border: 2px solid var(--fill-color);\n",
              "    border-color: transparent;\n",
              "    border-bottom-color: var(--fill-color);\n",
              "    animation:\n",
              "      spin 1s steps(1) infinite;\n",
              "  }\n",
              "\n",
              "  @keyframes spin {\n",
              "    0% {\n",
              "      border-color: transparent;\n",
              "      border-bottom-color: var(--fill-color);\n",
              "      border-left-color: var(--fill-color);\n",
              "    }\n",
              "    20% {\n",
              "      border-color: transparent;\n",
              "      border-left-color: var(--fill-color);\n",
              "      border-top-color: var(--fill-color);\n",
              "    }\n",
              "    30% {\n",
              "      border-color: transparent;\n",
              "      border-left-color: var(--fill-color);\n",
              "      border-top-color: var(--fill-color);\n",
              "      border-right-color: var(--fill-color);\n",
              "    }\n",
              "    40% {\n",
              "      border-color: transparent;\n",
              "      border-right-color: var(--fill-color);\n",
              "      border-top-color: var(--fill-color);\n",
              "    }\n",
              "    60% {\n",
              "      border-color: transparent;\n",
              "      border-right-color: var(--fill-color);\n",
              "    }\n",
              "    80% {\n",
              "      border-color: transparent;\n",
              "      border-right-color: var(--fill-color);\n",
              "      border-bottom-color: var(--fill-color);\n",
              "    }\n",
              "    90% {\n",
              "      border-color: transparent;\n",
              "      border-bottom-color: var(--fill-color);\n",
              "    }\n",
              "  }\n",
              "</style>\n",
              "\n",
              "  <script>\n",
              "    async function quickchart(key) {\n",
              "      const quickchartButtonEl =\n",
              "        document.querySelector('#' + key + ' button');\n",
              "      quickchartButtonEl.disabled = true;  // To prevent multiple clicks.\n",
              "      quickchartButtonEl.classList.add('colab-df-spinner');\n",
              "      try {\n",
              "        const charts = await google.colab.kernel.invokeFunction(\n",
              "            'suggestCharts', [key], {});\n",
              "      } catch (error) {\n",
              "        console.error('Error during call to suggestCharts:', error);\n",
              "      }\n",
              "      quickchartButtonEl.classList.remove('colab-df-spinner');\n",
              "      quickchartButtonEl.classList.add('colab-df-quickchart-complete');\n",
              "    }\n",
              "    (() => {\n",
              "      let quickchartButtonEl =\n",
              "        document.querySelector('#df-06387dc3-35a2-47c1-95d3-4f210ea8efaa button');\n",
              "      quickchartButtonEl.style.display =\n",
              "        google.colab.kernel.accessAllowed ? 'block' : 'none';\n",
              "    })();\n",
              "  </script>\n",
              "</div>\n",
              "    </div>\n",
              "  </div>\n"
            ]
          },
          "metadata": {},
          "execution_count": 252
        }
      ]
    },
    {
      "cell_type": "code",
      "source": [
        "pd.concat([a,b],axis=0,ignore_index=True)"
      ],
      "metadata": {
        "colab": {
          "base_uri": "https://localhost:8080/",
          "height": 238
        },
        "id": "JuS-OTEbomT7",
        "outputId": "aaf50e5b-9a34-46ff-b3b5-805a50d3f06f"
      },
      "execution_count": 253,
      "outputs": [
        {
          "output_type": "execute_result",
          "data": {
            "text/plain": [
              "    0    1    2\n",
              "0   1  2.0  3.0\n",
              "1   4  5.0  6.0\n",
              "2   7  8.0  9.0\n",
              "3  10  NaN  NaN\n",
              "4  20  NaN  NaN\n",
              "5  30  NaN  NaN"
            ],
            "text/html": [
              "\n",
              "  <div id=\"df-d02c290b-c579-4262-8610-52880c58f0f4\" class=\"colab-df-container\">\n",
              "    <div>\n",
              "<style scoped>\n",
              "    .dataframe tbody tr th:only-of-type {\n",
              "        vertical-align: middle;\n",
              "    }\n",
              "\n",
              "    .dataframe tbody tr th {\n",
              "        vertical-align: top;\n",
              "    }\n",
              "\n",
              "    .dataframe thead th {\n",
              "        text-align: right;\n",
              "    }\n",
              "</style>\n",
              "<table border=\"1\" class=\"dataframe\">\n",
              "  <thead>\n",
              "    <tr style=\"text-align: right;\">\n",
              "      <th></th>\n",
              "      <th>0</th>\n",
              "      <th>1</th>\n",
              "      <th>2</th>\n",
              "    </tr>\n",
              "  </thead>\n",
              "  <tbody>\n",
              "    <tr>\n",
              "      <th>0</th>\n",
              "      <td>1</td>\n",
              "      <td>2.0</td>\n",
              "      <td>3.0</td>\n",
              "    </tr>\n",
              "    <tr>\n",
              "      <th>1</th>\n",
              "      <td>4</td>\n",
              "      <td>5.0</td>\n",
              "      <td>6.0</td>\n",
              "    </tr>\n",
              "    <tr>\n",
              "      <th>2</th>\n",
              "      <td>7</td>\n",
              "      <td>8.0</td>\n",
              "      <td>9.0</td>\n",
              "    </tr>\n",
              "    <tr>\n",
              "      <th>3</th>\n",
              "      <td>10</td>\n",
              "      <td>NaN</td>\n",
              "      <td>NaN</td>\n",
              "    </tr>\n",
              "    <tr>\n",
              "      <th>4</th>\n",
              "      <td>20</td>\n",
              "      <td>NaN</td>\n",
              "      <td>NaN</td>\n",
              "    </tr>\n",
              "    <tr>\n",
              "      <th>5</th>\n",
              "      <td>30</td>\n",
              "      <td>NaN</td>\n",
              "      <td>NaN</td>\n",
              "    </tr>\n",
              "  </tbody>\n",
              "</table>\n",
              "</div>\n",
              "    <div class=\"colab-df-buttons\">\n",
              "\n",
              "  <div class=\"colab-df-container\">\n",
              "    <button class=\"colab-df-convert\" onclick=\"convertToInteractive('df-d02c290b-c579-4262-8610-52880c58f0f4')\"\n",
              "            title=\"Convert this dataframe to an interactive table.\"\n",
              "            style=\"display:none;\">\n",
              "\n",
              "  <svg xmlns=\"http://www.w3.org/2000/svg\" height=\"24px\" viewBox=\"0 -960 960 960\">\n",
              "    <path d=\"M120-120v-720h720v720H120Zm60-500h600v-160H180v160Zm220 220h160v-160H400v160Zm0 220h160v-160H400v160ZM180-400h160v-160H180v160Zm440 0h160v-160H620v160ZM180-180h160v-160H180v160Zm440 0h160v-160H620v160Z\"/>\n",
              "  </svg>\n",
              "    </button>\n",
              "\n",
              "  <style>\n",
              "    .colab-df-container {\n",
              "      display:flex;\n",
              "      gap: 12px;\n",
              "    }\n",
              "\n",
              "    .colab-df-convert {\n",
              "      background-color: #E8F0FE;\n",
              "      border: none;\n",
              "      border-radius: 50%;\n",
              "      cursor: pointer;\n",
              "      display: none;\n",
              "      fill: #1967D2;\n",
              "      height: 32px;\n",
              "      padding: 0 0 0 0;\n",
              "      width: 32px;\n",
              "    }\n",
              "\n",
              "    .colab-df-convert:hover {\n",
              "      background-color: #E2EBFA;\n",
              "      box-shadow: 0px 1px 2px rgba(60, 64, 67, 0.3), 0px 1px 3px 1px rgba(60, 64, 67, 0.15);\n",
              "      fill: #174EA6;\n",
              "    }\n",
              "\n",
              "    .colab-df-buttons div {\n",
              "      margin-bottom: 4px;\n",
              "    }\n",
              "\n",
              "    [theme=dark] .colab-df-convert {\n",
              "      background-color: #3B4455;\n",
              "      fill: #D2E3FC;\n",
              "    }\n",
              "\n",
              "    [theme=dark] .colab-df-convert:hover {\n",
              "      background-color: #434B5C;\n",
              "      box-shadow: 0px 1px 3px 1px rgba(0, 0, 0, 0.15);\n",
              "      filter: drop-shadow(0px 1px 2px rgba(0, 0, 0, 0.3));\n",
              "      fill: #FFFFFF;\n",
              "    }\n",
              "  </style>\n",
              "\n",
              "    <script>\n",
              "      const buttonEl =\n",
              "        document.querySelector('#df-d02c290b-c579-4262-8610-52880c58f0f4 button.colab-df-convert');\n",
              "      buttonEl.style.display =\n",
              "        google.colab.kernel.accessAllowed ? 'block' : 'none';\n",
              "\n",
              "      async function convertToInteractive(key) {\n",
              "        const element = document.querySelector('#df-d02c290b-c579-4262-8610-52880c58f0f4');\n",
              "        const dataTable =\n",
              "          await google.colab.kernel.invokeFunction('convertToInteractive',\n",
              "                                                    [key], {});\n",
              "        if (!dataTable) return;\n",
              "\n",
              "        const docLinkHtml = 'Like what you see? Visit the ' +\n",
              "          '<a target=\"_blank\" href=https://colab.research.google.com/notebooks/data_table.ipynb>data table notebook</a>'\n",
              "          + ' to learn more about interactive tables.';\n",
              "        element.innerHTML = '';\n",
              "        dataTable['output_type'] = 'display_data';\n",
              "        await google.colab.output.renderOutput(dataTable, element);\n",
              "        const docLink = document.createElement('div');\n",
              "        docLink.innerHTML = docLinkHtml;\n",
              "        element.appendChild(docLink);\n",
              "      }\n",
              "    </script>\n",
              "  </div>\n",
              "\n",
              "\n",
              "<div id=\"df-a5cadb2c-d54f-417b-bee9-581c7e535e87\">\n",
              "  <button class=\"colab-df-quickchart\" onclick=\"quickchart('df-a5cadb2c-d54f-417b-bee9-581c7e535e87')\"\n",
              "            title=\"Suggest charts\"\n",
              "            style=\"display:none;\">\n",
              "\n",
              "<svg xmlns=\"http://www.w3.org/2000/svg\" height=\"24px\"viewBox=\"0 0 24 24\"\n",
              "     width=\"24px\">\n",
              "    <g>\n",
              "        <path d=\"M19 3H5c-1.1 0-2 .9-2 2v14c0 1.1.9 2 2 2h14c1.1 0 2-.9 2-2V5c0-1.1-.9-2-2-2zM9 17H7v-7h2v7zm4 0h-2V7h2v10zm4 0h-2v-4h2v4z\"/>\n",
              "    </g>\n",
              "</svg>\n",
              "  </button>\n",
              "\n",
              "<style>\n",
              "  .colab-df-quickchart {\n",
              "      --bg-color: #E8F0FE;\n",
              "      --fill-color: #1967D2;\n",
              "      --hover-bg-color: #E2EBFA;\n",
              "      --hover-fill-color: #174EA6;\n",
              "      --disabled-fill-color: #AAA;\n",
              "      --disabled-bg-color: #DDD;\n",
              "  }\n",
              "\n",
              "  [theme=dark] .colab-df-quickchart {\n",
              "      --bg-color: #3B4455;\n",
              "      --fill-color: #D2E3FC;\n",
              "      --hover-bg-color: #434B5C;\n",
              "      --hover-fill-color: #FFFFFF;\n",
              "      --disabled-bg-color: #3B4455;\n",
              "      --disabled-fill-color: #666;\n",
              "  }\n",
              "\n",
              "  .colab-df-quickchart {\n",
              "    background-color: var(--bg-color);\n",
              "    border: none;\n",
              "    border-radius: 50%;\n",
              "    cursor: pointer;\n",
              "    display: none;\n",
              "    fill: var(--fill-color);\n",
              "    height: 32px;\n",
              "    padding: 0;\n",
              "    width: 32px;\n",
              "  }\n",
              "\n",
              "  .colab-df-quickchart:hover {\n",
              "    background-color: var(--hover-bg-color);\n",
              "    box-shadow: 0 1px 2px rgba(60, 64, 67, 0.3), 0 1px 3px 1px rgba(60, 64, 67, 0.15);\n",
              "    fill: var(--button-hover-fill-color);\n",
              "  }\n",
              "\n",
              "  .colab-df-quickchart-complete:disabled,\n",
              "  .colab-df-quickchart-complete:disabled:hover {\n",
              "    background-color: var(--disabled-bg-color);\n",
              "    fill: var(--disabled-fill-color);\n",
              "    box-shadow: none;\n",
              "  }\n",
              "\n",
              "  .colab-df-spinner {\n",
              "    border: 2px solid var(--fill-color);\n",
              "    border-color: transparent;\n",
              "    border-bottom-color: var(--fill-color);\n",
              "    animation:\n",
              "      spin 1s steps(1) infinite;\n",
              "  }\n",
              "\n",
              "  @keyframes spin {\n",
              "    0% {\n",
              "      border-color: transparent;\n",
              "      border-bottom-color: var(--fill-color);\n",
              "      border-left-color: var(--fill-color);\n",
              "    }\n",
              "    20% {\n",
              "      border-color: transparent;\n",
              "      border-left-color: var(--fill-color);\n",
              "      border-top-color: var(--fill-color);\n",
              "    }\n",
              "    30% {\n",
              "      border-color: transparent;\n",
              "      border-left-color: var(--fill-color);\n",
              "      border-top-color: var(--fill-color);\n",
              "      border-right-color: var(--fill-color);\n",
              "    }\n",
              "    40% {\n",
              "      border-color: transparent;\n",
              "      border-right-color: var(--fill-color);\n",
              "      border-top-color: var(--fill-color);\n",
              "    }\n",
              "    60% {\n",
              "      border-color: transparent;\n",
              "      border-right-color: var(--fill-color);\n",
              "    }\n",
              "    80% {\n",
              "      border-color: transparent;\n",
              "      border-right-color: var(--fill-color);\n",
              "      border-bottom-color: var(--fill-color);\n",
              "    }\n",
              "    90% {\n",
              "      border-color: transparent;\n",
              "      border-bottom-color: var(--fill-color);\n",
              "    }\n",
              "  }\n",
              "</style>\n",
              "\n",
              "  <script>\n",
              "    async function quickchart(key) {\n",
              "      const quickchartButtonEl =\n",
              "        document.querySelector('#' + key + ' button');\n",
              "      quickchartButtonEl.disabled = true;  // To prevent multiple clicks.\n",
              "      quickchartButtonEl.classList.add('colab-df-spinner');\n",
              "      try {\n",
              "        const charts = await google.colab.kernel.invokeFunction(\n",
              "            'suggestCharts', [key], {});\n",
              "      } catch (error) {\n",
              "        console.error('Error during call to suggestCharts:', error);\n",
              "      }\n",
              "      quickchartButtonEl.classList.remove('colab-df-spinner');\n",
              "      quickchartButtonEl.classList.add('colab-df-quickchart-complete');\n",
              "    }\n",
              "    (() => {\n",
              "      let quickchartButtonEl =\n",
              "        document.querySelector('#df-a5cadb2c-d54f-417b-bee9-581c7e535e87 button');\n",
              "      quickchartButtonEl.style.display =\n",
              "        google.colab.kernel.accessAllowed ? 'block' : 'none';\n",
              "    })();\n",
              "  </script>\n",
              "</div>\n",
              "    </div>\n",
              "  </div>\n"
            ]
          },
          "metadata": {},
          "execution_count": 253
        }
      ]
    },
    {
      "cell_type": "code",
      "source": [
        "a.append(b,ignore_index=True)\n",
        "pd.concat([a,b.T],axis=0,ignore_index=True)"
      ],
      "metadata": {
        "colab": {
          "base_uri": "https://localhost:8080/",
          "height": 274
        },
        "id": "blEWG2AtotLb",
        "outputId": "ab5464db-3ce1-4455-c903-09a689586e90"
      },
      "execution_count": 260,
      "outputs": [
        {
          "output_type": "stream",
          "name": "stderr",
          "text": [
            "<ipython-input-260-38c5da8891f2>:1: FutureWarning: The frame.append method is deprecated and will be removed from pandas in a future version. Use pandas.concat instead.\n",
            "  a.append(b,ignore_index=True)\n"
          ]
        },
        {
          "output_type": "execute_result",
          "data": {
            "text/plain": [
              "    0    1    2\n",
              "0   1  2.0  3.0\n",
              "1   4  5.0  6.0\n",
              "2   7  8.0  9.0\n",
              "3  10  NaN  NaN\n",
              "4  20  NaN  NaN\n",
              "5  30  NaN  NaN"
            ],
            "text/html": [
              "\n",
              "  <div id=\"df-e2644802-92d5-40bc-9376-5ea3a8296b8f\" class=\"colab-df-container\">\n",
              "    <div>\n",
              "<style scoped>\n",
              "    .dataframe tbody tr th:only-of-type {\n",
              "        vertical-align: middle;\n",
              "    }\n",
              "\n",
              "    .dataframe tbody tr th {\n",
              "        vertical-align: top;\n",
              "    }\n",
              "\n",
              "    .dataframe thead th {\n",
              "        text-align: right;\n",
              "    }\n",
              "</style>\n",
              "<table border=\"1\" class=\"dataframe\">\n",
              "  <thead>\n",
              "    <tr style=\"text-align: right;\">\n",
              "      <th></th>\n",
              "      <th>0</th>\n",
              "      <th>1</th>\n",
              "      <th>2</th>\n",
              "    </tr>\n",
              "  </thead>\n",
              "  <tbody>\n",
              "    <tr>\n",
              "      <th>0</th>\n",
              "      <td>1</td>\n",
              "      <td>2.0</td>\n",
              "      <td>3.0</td>\n",
              "    </tr>\n",
              "    <tr>\n",
              "      <th>1</th>\n",
              "      <td>4</td>\n",
              "      <td>5.0</td>\n",
              "      <td>6.0</td>\n",
              "    </tr>\n",
              "    <tr>\n",
              "      <th>2</th>\n",
              "      <td>7</td>\n",
              "      <td>8.0</td>\n",
              "      <td>9.0</td>\n",
              "    </tr>\n",
              "    <tr>\n",
              "      <th>3</th>\n",
              "      <td>10</td>\n",
              "      <td>NaN</td>\n",
              "      <td>NaN</td>\n",
              "    </tr>\n",
              "    <tr>\n",
              "      <th>4</th>\n",
              "      <td>20</td>\n",
              "      <td>NaN</td>\n",
              "      <td>NaN</td>\n",
              "    </tr>\n",
              "    <tr>\n",
              "      <th>5</th>\n",
              "      <td>30</td>\n",
              "      <td>NaN</td>\n",
              "      <td>NaN</td>\n",
              "    </tr>\n",
              "  </tbody>\n",
              "</table>\n",
              "</div>\n",
              "    <div class=\"colab-df-buttons\">\n",
              "\n",
              "  <div class=\"colab-df-container\">\n",
              "    <button class=\"colab-df-convert\" onclick=\"convertToInteractive('df-e2644802-92d5-40bc-9376-5ea3a8296b8f')\"\n",
              "            title=\"Convert this dataframe to an interactive table.\"\n",
              "            style=\"display:none;\">\n",
              "\n",
              "  <svg xmlns=\"http://www.w3.org/2000/svg\" height=\"24px\" viewBox=\"0 -960 960 960\">\n",
              "    <path d=\"M120-120v-720h720v720H120Zm60-500h600v-160H180v160Zm220 220h160v-160H400v160Zm0 220h160v-160H400v160ZM180-400h160v-160H180v160Zm440 0h160v-160H620v160ZM180-180h160v-160H180v160Zm440 0h160v-160H620v160Z\"/>\n",
              "  </svg>\n",
              "    </button>\n",
              "\n",
              "  <style>\n",
              "    .colab-df-container {\n",
              "      display:flex;\n",
              "      gap: 12px;\n",
              "    }\n",
              "\n",
              "    .colab-df-convert {\n",
              "      background-color: #E8F0FE;\n",
              "      border: none;\n",
              "      border-radius: 50%;\n",
              "      cursor: pointer;\n",
              "      display: none;\n",
              "      fill: #1967D2;\n",
              "      height: 32px;\n",
              "      padding: 0 0 0 0;\n",
              "      width: 32px;\n",
              "    }\n",
              "\n",
              "    .colab-df-convert:hover {\n",
              "      background-color: #E2EBFA;\n",
              "      box-shadow: 0px 1px 2px rgba(60, 64, 67, 0.3), 0px 1px 3px 1px rgba(60, 64, 67, 0.15);\n",
              "      fill: #174EA6;\n",
              "    }\n",
              "\n",
              "    .colab-df-buttons div {\n",
              "      margin-bottom: 4px;\n",
              "    }\n",
              "\n",
              "    [theme=dark] .colab-df-convert {\n",
              "      background-color: #3B4455;\n",
              "      fill: #D2E3FC;\n",
              "    }\n",
              "\n",
              "    [theme=dark] .colab-df-convert:hover {\n",
              "      background-color: #434B5C;\n",
              "      box-shadow: 0px 1px 3px 1px rgba(0, 0, 0, 0.15);\n",
              "      filter: drop-shadow(0px 1px 2px rgba(0, 0, 0, 0.3));\n",
              "      fill: #FFFFFF;\n",
              "    }\n",
              "  </style>\n",
              "\n",
              "    <script>\n",
              "      const buttonEl =\n",
              "        document.querySelector('#df-e2644802-92d5-40bc-9376-5ea3a8296b8f button.colab-df-convert');\n",
              "      buttonEl.style.display =\n",
              "        google.colab.kernel.accessAllowed ? 'block' : 'none';\n",
              "\n",
              "      async function convertToInteractive(key) {\n",
              "        const element = document.querySelector('#df-e2644802-92d5-40bc-9376-5ea3a8296b8f');\n",
              "        const dataTable =\n",
              "          await google.colab.kernel.invokeFunction('convertToInteractive',\n",
              "                                                    [key], {});\n",
              "        if (!dataTable) return;\n",
              "\n",
              "        const docLinkHtml = 'Like what you see? Visit the ' +\n",
              "          '<a target=\"_blank\" href=https://colab.research.google.com/notebooks/data_table.ipynb>data table notebook</a>'\n",
              "          + ' to learn more about interactive tables.';\n",
              "        element.innerHTML = '';\n",
              "        dataTable['output_type'] = 'display_data';\n",
              "        await google.colab.output.renderOutput(dataTable, element);\n",
              "        const docLink = document.createElement('div');\n",
              "        docLink.innerHTML = docLinkHtml;\n",
              "        element.appendChild(docLink);\n",
              "      }\n",
              "    </script>\n",
              "  </div>\n",
              "\n",
              "\n",
              "<div id=\"df-1e8bfb38-47d8-433d-ba49-d7c83186950e\">\n",
              "  <button class=\"colab-df-quickchart\" onclick=\"quickchart('df-1e8bfb38-47d8-433d-ba49-d7c83186950e')\"\n",
              "            title=\"Suggest charts\"\n",
              "            style=\"display:none;\">\n",
              "\n",
              "<svg xmlns=\"http://www.w3.org/2000/svg\" height=\"24px\"viewBox=\"0 0 24 24\"\n",
              "     width=\"24px\">\n",
              "    <g>\n",
              "        <path d=\"M19 3H5c-1.1 0-2 .9-2 2v14c0 1.1.9 2 2 2h14c1.1 0 2-.9 2-2V5c0-1.1-.9-2-2-2zM9 17H7v-7h2v7zm4 0h-2V7h2v10zm4 0h-2v-4h2v4z\"/>\n",
              "    </g>\n",
              "</svg>\n",
              "  </button>\n",
              "\n",
              "<style>\n",
              "  .colab-df-quickchart {\n",
              "      --bg-color: #E8F0FE;\n",
              "      --fill-color: #1967D2;\n",
              "      --hover-bg-color: #E2EBFA;\n",
              "      --hover-fill-color: #174EA6;\n",
              "      --disabled-fill-color: #AAA;\n",
              "      --disabled-bg-color: #DDD;\n",
              "  }\n",
              "\n",
              "  [theme=dark] .colab-df-quickchart {\n",
              "      --bg-color: #3B4455;\n",
              "      --fill-color: #D2E3FC;\n",
              "      --hover-bg-color: #434B5C;\n",
              "      --hover-fill-color: #FFFFFF;\n",
              "      --disabled-bg-color: #3B4455;\n",
              "      --disabled-fill-color: #666;\n",
              "  }\n",
              "\n",
              "  .colab-df-quickchart {\n",
              "    background-color: var(--bg-color);\n",
              "    border: none;\n",
              "    border-radius: 50%;\n",
              "    cursor: pointer;\n",
              "    display: none;\n",
              "    fill: var(--fill-color);\n",
              "    height: 32px;\n",
              "    padding: 0;\n",
              "    width: 32px;\n",
              "  }\n",
              "\n",
              "  .colab-df-quickchart:hover {\n",
              "    background-color: var(--hover-bg-color);\n",
              "    box-shadow: 0 1px 2px rgba(60, 64, 67, 0.3), 0 1px 3px 1px rgba(60, 64, 67, 0.15);\n",
              "    fill: var(--button-hover-fill-color);\n",
              "  }\n",
              "\n",
              "  .colab-df-quickchart-complete:disabled,\n",
              "  .colab-df-quickchart-complete:disabled:hover {\n",
              "    background-color: var(--disabled-bg-color);\n",
              "    fill: var(--disabled-fill-color);\n",
              "    box-shadow: none;\n",
              "  }\n",
              "\n",
              "  .colab-df-spinner {\n",
              "    border: 2px solid var(--fill-color);\n",
              "    border-color: transparent;\n",
              "    border-bottom-color: var(--fill-color);\n",
              "    animation:\n",
              "      spin 1s steps(1) infinite;\n",
              "  }\n",
              "\n",
              "  @keyframes spin {\n",
              "    0% {\n",
              "      border-color: transparent;\n",
              "      border-bottom-color: var(--fill-color);\n",
              "      border-left-color: var(--fill-color);\n",
              "    }\n",
              "    20% {\n",
              "      border-color: transparent;\n",
              "      border-left-color: var(--fill-color);\n",
              "      border-top-color: var(--fill-color);\n",
              "    }\n",
              "    30% {\n",
              "      border-color: transparent;\n",
              "      border-left-color: var(--fill-color);\n",
              "      border-top-color: var(--fill-color);\n",
              "      border-right-color: var(--fill-color);\n",
              "    }\n",
              "    40% {\n",
              "      border-color: transparent;\n",
              "      border-right-color: var(--fill-color);\n",
              "      border-top-color: var(--fill-color);\n",
              "    }\n",
              "    60% {\n",
              "      border-color: transparent;\n",
              "      border-right-color: var(--fill-color);\n",
              "    }\n",
              "    80% {\n",
              "      border-color: transparent;\n",
              "      border-right-color: var(--fill-color);\n",
              "      border-bottom-color: var(--fill-color);\n",
              "    }\n",
              "    90% {\n",
              "      border-color: transparent;\n",
              "      border-bottom-color: var(--fill-color);\n",
              "    }\n",
              "  }\n",
              "</style>\n",
              "\n",
              "  <script>\n",
              "    async function quickchart(key) {\n",
              "      const quickchartButtonEl =\n",
              "        document.querySelector('#' + key + ' button');\n",
              "      quickchartButtonEl.disabled = true;  // To prevent multiple clicks.\n",
              "      quickchartButtonEl.classList.add('colab-df-spinner');\n",
              "      try {\n",
              "        const charts = await google.colab.kernel.invokeFunction(\n",
              "            'suggestCharts', [key], {});\n",
              "      } catch (error) {\n",
              "        console.error('Error during call to suggestCharts:', error);\n",
              "      }\n",
              "      quickchartButtonEl.classList.remove('colab-df-spinner');\n",
              "      quickchartButtonEl.classList.add('colab-df-quickchart-complete');\n",
              "    }\n",
              "    (() => {\n",
              "      let quickchartButtonEl =\n",
              "        document.querySelector('#df-1e8bfb38-47d8-433d-ba49-d7c83186950e button');\n",
              "      quickchartButtonEl.style.display =\n",
              "        google.colab.kernel.accessAllowed ? 'block' : 'none';\n",
              "    })();\n",
              "  </script>\n",
              "</div>\n",
              "    </div>\n",
              "  </div>\n"
            ]
          },
          "metadata": {},
          "execution_count": 260
        }
      ]
    },
    {
      "cell_type": "code",
      "source": [],
      "metadata": {
        "id": "pfwCum4zo2x6"
      },
      "execution_count": null,
      "outputs": []
    }
  ]
}