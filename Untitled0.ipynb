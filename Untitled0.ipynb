{
  "cells": [
    {
      "cell_type": "markdown",
      "metadata": {
        "colab_type": "text",
        "id": "view-in-github"
      },
      "source": [
        "<a href=\"https://colab.research.google.com/github/steve15963/PythonStudy/blob/main/Untitled0.ipynb\" target=\"_parent\"><img src=\"https://colab.research.google.com/assets/colab-badge.svg\" alt=\"Open In Colab\"/></a>"
      ]
    },
    {
      "cell_type": "code",
      "execution_count": 3,
      "metadata": {
        "colab": {
          "base_uri": "https://localhost:8080/"
        },
        "id": "eaEa6X-zk29X",
        "outputId": "7fe6f9c0-7599-4fdd-d2d8-3629f2d3ff62"
      },
      "outputs": [
        {
          "name": "stdout",
          "output_type": "stream",
          "text": [
            "123\n",
            "테스트1번 1번과 연결되는 문자는 공백입니다.\n",
            "테스트2번-1번과 연결되는 문자는 sep에 따라서 -로 변경되었습니다. \n",
            "테스트3번-끝나는 줄 개행을 -으로 변경하여 하나의 줄에 출력이 됩니다.\n"
          ]
        }
      ],
      "source": [
        "print(123)\n",
        "\n",
        "print(\"테스트1번\", \"1번과 연결되는 문자는 공백입니다.\")\n",
        "\n",
        "print(\"테스트2번\" , \"1번과 연결되는 문자는 sep에 따라서 -로 변경되었습니다. \", sep='-')\n",
        "\n",
        "print(\"테스트3번\", end='-')\n",
        "print(\"끝나는 줄 개행을 -으로 변경하여 하나의 줄에 출력이 됩니다.\")\n",
        "\n"
      ]
    },
    {
      "cell_type": "code",
      "execution_count": 5,
      "metadata": {
        "colab": {
          "base_uri": "https://localhost:8080/"
        },
        "id": "FP4tkgxUlKyM",
        "outputId": "3b6f9e1c-4417-41e5-d919-8c093d24ec76"
      },
      "outputs": [
        {
          "name": "stdout",
          "output_type": "stream",
          "text": [
            "입력 : 테스트\n",
            "테스트\n"
          ]
        }
      ],
      "source": [
        "a = input(\"입력 : \")\n",
        "print(a)\n"
      ]
    },
    {
      "cell_type": "code",
      "execution_count": 12,
      "metadata": {
        "colab": {
          "base_uri": "https://localhost:8080/"
        },
        "id": "zD4JaLI7y_01",
        "outputId": "9a059953-e2d8-4f71-aa02-fd45c14a096d"
      },
      "outputs": [
        {
          "name": "stdout",
          "output_type": "stream",
          "text": [
            "13\n",
            "7\n",
            "30\n",
            "3.3333333333333335\n",
            "3\n",
            "1\n"
          ]
        }
      ],
      "source": [
        "#연산\n",
        "x = 10\n",
        "y = 3\n",
        "\n",
        "print(x + y)\n",
        "\n",
        "print(x - y)\n",
        "\n",
        "print(x * y)\n",
        "\n",
        "#실수 나누기\n",
        "print(x / y)\n",
        "\n",
        "#정수 나누기\n",
        "print(x // y)\n",
        "\n",
        "print(x % y)"
      ]
    },
    {
      "cell_type": "code",
      "execution_count": 13,
      "metadata": {
        "colab": {
          "base_uri": "https://localhost:8080/"
        },
        "id": "6t0QFCiwz-6U",
        "outputId": "71b79c04-163c-4870-cedd-e3f0031b4918"
      },
      "outputs": [
        {
          "name": "stdout",
          "output_type": "stream",
          "text": [
            "10\n",
            "-10\n"
          ]
        }
      ],
      "source": [
        "x = -10\n",
        "\n",
        "print(-x)\n",
        "print(+x)\n",
        "\n",
        "print( abs (x) )"
      ]
    },
    {
      "cell_type": "code",
      "execution_count": 17,
      "metadata": {
        "colab": {
          "base_uri": "https://localhost:8080/",
          "height": 276
        },
        "id": "7gjUkmQx0JCk",
        "outputId": "3bce59c8-22b3-45b3-92b9-fc9d8cd5db5b"
      },
      "outputs": [
        {
          "name": "stdout",
          "output_type": "stream",
          "text": [
            "입력 : 5\n",
            "15\n"
          ]
        },
        {
          "ename": "TypeError",
          "evalue": "unsupported operand type(s) for +: 'int' and 'str'",
          "output_type": "error",
          "traceback": [
            "\u001b[0;31m---------------------------------------------------------------------------\u001b[0m",
            "\u001b[0;31mTypeError\u001b[0m                                 Traceback (most recent call last)",
            "\u001b[0;32m<ipython-input-17-a3c205391974>\u001b[0m in \u001b[0;36m<cell line: 10>\u001b[0;34m()\u001b[0m\n\u001b[1;32m      8\u001b[0m \u001b[0mprint\u001b[0m\u001b[0;34m(\u001b[0m\u001b[0mx\u001b[0m \u001b[0;34m+\u001b[0m \u001b[0minteger\u001b[0m\u001b[0;34m)\u001b[0m\u001b[0;34m\u001b[0m\u001b[0;34m\u001b[0m\u001b[0m\n\u001b[1;32m      9\u001b[0m \u001b[0;31m#에러 발생\u001b[0m\u001b[0;34m\u001b[0m\u001b[0;34m\u001b[0m\u001b[0m\n\u001b[0;32m---> 10\u001b[0;31m \u001b[0mprint\u001b[0m\u001b[0;34m(\u001b[0m\u001b[0mx\u001b[0m \u001b[0;34m+\u001b[0m \u001b[0minData\u001b[0m\u001b[0;34m)\u001b[0m\u001b[0;34m\u001b[0m\u001b[0;34m\u001b[0m\u001b[0m\n\u001b[0m\u001b[1;32m     11\u001b[0m \u001b[0;34m\u001b[0m\u001b[0m\n",
            "\u001b[0;31mTypeError\u001b[0m: unsupported operand type(s) for +: 'int' and 'str'"
          ]
        }
      ],
      "source": [
        "inData = input(\"입력 : \")\n",
        "\n",
        "integer = int(inData)\n",
        "\n",
        "x = 10\n",
        "\n",
        "\n",
        "print(x + integer)\n",
        "#에러 발생\n",
        "print(x + inData)\n",
        "\n"
      ]
    },
    {
      "cell_type": "code",
      "execution_count": 21,
      "metadata": {
        "colab": {
          "base_uri": "https://localhost:8080/"
        },
        "id": "BaKEWj_y0uku",
        "outputId": "4377bf87-8717-46ab-d0a7-7ee3ea1fa931"
      },
      "outputs": [
        {
          "name": "stdout",
          "output_type": "stream",
          "text": [
            "3\n",
            "1\n"
          ]
        }
      ],
      "source": [
        "x = 10\n",
        "y= 3\n",
        "\n",
        "a,b = divmod(10,3)\n",
        "\n",
        "#몫\n",
        "print(a)\n",
        "#나머지\n",
        "print(b)"
      ]
    },
    {
      "cell_type": "code",
      "execution_count": 23,
      "metadata": {
        "colab": {
          "base_uri": "https://localhost:8080/"
        },
        "id": "wivTjR7p1Pm3",
        "outputId": "b1aa36a5-2d24-4828-b342-e1c6cad2be26"
      },
      "outputs": [
        {
          "name": "stdout",
          "output_type": "stream",
          "text": [
            "1000\n",
            "1000\n"
          ]
        }
      ],
      "source": [
        "# 제곱\n",
        "x = 10\n",
        "y = 3\n",
        "z = pow(x,y)\n",
        "print(z)\n",
        "\n",
        "z = x ** y\n",
        "print(z)"
      ]
    },
    {
      "cell_type": "code",
      "execution_count": 28,
      "metadata": {
        "colab": {
          "base_uri": "https://localhost:8080/"
        },
        "id": "S6Fi1pC_1Vck",
        "outputId": "e2f03755-fddb-4ed0-c10b-6102ebf423bd"
      },
      "outputs": [
        {
          "name": "stdout",
          "output_type": "stream",
          "text": [
            "입력 : 10\n",
            "입력 : 2\n",
            "합 :  12\n",
            "차 :  8\n",
            "곱 :  20\n",
            "목 :  0\n"
          ]
        }
      ],
      "source": [
        "one = int(input(\"입력 : \"))\n",
        "two = int(input(\"입력 : \"))\n",
        "\n",
        "print(\"합 : \" , one + two)\n",
        "print(\"차 : \" , one - two)\n",
        "print(\"곱 : \" , one * two)\n",
        "print(\"목 : \" , one % two)"
      ]
    },
    {
      "cell_type": "code",
      "execution_count": 109,
      "metadata": {
        "colab": {
          "base_uri": "https://localhost:8080/"
        },
        "id": "rhJxqccIFo21",
        "outputId": "52777f24-8bfa-4974-afb6-7d02728ff034"
      },
      "outputs": [
        {
          "name": "stdout",
          "output_type": "stream",
          "text": [
            "10\n",
            "3\n",
            "3.33\n"
          ]
        }
      ],
      "source": [
        "one = int(input())\n",
        "two = int(input())\n",
        "\n",
        "print(f\"{one/two:.2f}\")"
      ]
    },
    {
      "cell_type": "code",
      "execution_count": 1,
      "metadata": {
        "colab": {
          "base_uri": "https://localhost:8080/"
        },
        "id": "jN5ZnsWK6HtF",
        "outputId": "cbe68e41-be6d-4e50-ce32-c6318e91dbbb"
      },
      "outputs": [
        {
          "name": "stdout",
          "output_type": "stream",
          "text": [
            "\"안녕하세요\"\n",
            "안녕하세요\n",
            "\n",
            "테스\"트\"입니다.\n",
            "\n"
          ]
        }
      ],
      "source": [
        "a = '\"안녕하세요\"'\n",
        "\n",
        "print(a)\n",
        "\n",
        "#\"을 출력하고 싶다면 '으로 감싸거나\n",
        "a = \"안녕하세요\"\n",
        "print(a)\n",
        "\n",
        "# \"\"\"으로 감싼다.\n",
        "a= \"\"\"\n",
        "테스\"트\"입니다.\n",
        "\"\"\"\n",
        "print(a)\n"
      ]
    },
    {
      "cell_type": "code",
      "execution_count": 35,
      "metadata": {
        "colab": {
          "base_uri": "https://localhost:8080/"
        },
        "id": "8agNM_G66X3w",
        "outputId": "52bd1fb0-23f3-4ce0-8941-1ca448e1adde"
      },
      "outputs": [
        {
          "name": "stdout",
          "output_type": "stream",
          "text": [
            "abcdefgb\n"
          ]
        }
      ],
      "source": [
        "a = \"abcdefg\"\n",
        "\n",
        "for char in a:\n",
        "  print(char,end='')\n",
        "\n",
        "# a가 아닌 이유 인덱스는 0부터임.\n",
        "print(a[1],end='\\n')\n",
        "\n",
        "\n"
      ]
    },
    {
      "cell_type": "code",
      "execution_count": 42,
      "metadata": {
        "colab": {
          "base_uri": "https://localhost:8080/"
        },
        "id": "C5AFvvbd7Itd",
        "outputId": "999b1f52-13ad-47d9-f0cc-104aeb2ad33b"
      },
      "outputs": [
        {
          "name": "stdout",
          "output_type": "stream",
          "text": [
            "abcdefg\n",
            "bc\n",
            "defg\n",
            "abcde\n",
            "bd\n"
          ]
        }
      ],
      "source": [
        "a = 'abcdefg'\n",
        "\n",
        "#전체\n",
        "print(a[:])\n",
        "\n",
        "print(a[1:3])\n",
        "\n",
        "print(a[3:])\n",
        "\n",
        "print(a[:5])\n",
        "\n",
        "#2칸씩\n",
        "print(a[1:4:2])"
      ]
    },
    {
      "cell_type": "code",
      "execution_count": 43,
      "metadata": {
        "colab": {
          "base_uri": "https://localhost:8080/"
        },
        "id": "VbWWdBcL7b38",
        "outputId": "0aa18f9b-94ca-4ea0-e815-d73f1462c4db"
      },
      "outputs": [
        {
          "name": "stdout",
          "output_type": "stream",
          "text": [
            "ABCDEF\n"
          ]
        }
      ],
      "source": [
        "print(\"ABC\" + \"DEF\")"
      ]
    },
    {
      "cell_type": "code",
      "execution_count": 47,
      "metadata": {
        "colab": {
          "base_uri": "https://localhost:8080/"
        },
        "id": "vAcvXIMr8JaN",
        "outputId": "3eb80d83-86d0-4156-caa6-6cb2cc3fa78b"
      },
      "outputs": [
        {
          "name": "stdout",
          "output_type": "stream",
          "text": [
            "가나다라마바사\n",
            "라마바\n"
          ]
        }
      ],
      "source": [
        "str = \"가나다라마바사\"\n",
        "\n",
        "str2 = str[3:6]\n",
        "\n",
        "print(str)\n",
        "\n",
        "print(str2)"
      ]
    },
    {
      "cell_type": "code",
      "execution_count": 59,
      "metadata": {
        "colab": {
          "base_uri": "https://localhost:8080/"
        },
        "id": "8pOW993L8T7k",
        "outputId": "1a67ea7d-9f56-44cd-8e6b-0029a48b69f7"
      },
      "outputs": [
        {
          "name": "stdout",
          "output_type": "stream",
          "text": [
            "hello world\n",
            "Hello world\n",
            "3\n",
            "1\n",
            "특정 문자열로 시작하는지\n",
            "True\n",
            "True\n",
            "특정 문자열로 끝나는\n",
            "True\n",
            "True\n",
            "대소문자도 구별하는지\n",
            "True\n",
            "False\n",
            "True\n",
            "False\n",
            "1\n",
            "6\n",
            "1\n"
          ]
        }
      ],
      "source": [
        "s = \"hello world\"\n",
        "\n",
        "newS = s.capitalize()\n",
        "\n",
        "print(s)\n",
        "#첫 문자 대문자화\n",
        "print(newS)\n",
        "\n",
        "sCount = s.count('l')\n",
        "#문자 카운트\n",
        "print(sCount)\n",
        "\n",
        "sCount = s.count('hello')\n",
        "#문자열 카운트\n",
        "print(sCount)\n",
        "\n",
        "#특정 문자열로 시작하는지\n",
        "print(\"특정 문자열로 시작하는지\")\n",
        "print( s.startswith('h') )\n",
        "print( s.startswith(\"hello\") )\n",
        "\n",
        "\n",
        "\n",
        "#특정 문자열 끝나는지\n",
        "print(\"특정 문자열로 끝나는\")\n",
        "print( s.endswith('d') )\n",
        "print( s.endswith(\"world\"))\n",
        "\n",
        "#대소문자도 구별하는지.\n",
        "print(\"대소문자도 구별하는지\")\n",
        "print( s.startswith('hello') )\n",
        "print( s.startswith('Hello') )\n",
        "print( s.endswith(\"world\"))\n",
        "print( s.endswith(\"World\"))\n",
        "\n",
        "\n",
        "#문자열 찾기\n",
        "print( s.find(\"e\") )\n",
        "print( s.find(\"wor\") )\n",
        "print( s.index(\"e\") )\n",
        "#에러 발생\n",
        "#print( s.index(\"z\") )\n",
        "#find는 -1 반환 , index는 에러 발생."
      ]
    },
    {
      "cell_type": "code",
      "execution_count": 61,
      "metadata": {
        "colab": {
          "base_uri": "https://localhost:8080/"
        },
        "id": "D_P5lb8I81Yu",
        "outputId": "b6e52c31-d8b4-4014-fc2c-59bda794bfea"
      },
      "outputs": [
        {
          "name": "stdout",
          "output_type": "stream",
          "text": [
            "hello world\n",
            "HELLO WORLD\n"
          ]
        }
      ],
      "source": [
        "slower = s.lower();\n",
        "\n",
        "print(slower);\n",
        "\n",
        "ulower = s.upper();\n",
        "\n",
        "print(ulower);"
      ]
    },
    {
      "cell_type": "code",
      "execution_count": 62,
      "metadata": {
        "colab": {
          "base_uri": "https://localhost:8080/"
        },
        "id": "U_UQZKlb_7kl",
        "outputId": "d9156637-0cc0-4b01-8153-88aef0f19ea6"
      },
      "outputs": [
        {
          "name": "stdout",
          "output_type": "stream",
          "text": [
            "hello replace\n"
          ]
        }
      ],
      "source": [
        "copys = s.replace('world',\"replace\")\n",
        "\n",
        "print(copys)"
      ]
    },
    {
      "cell_type": "code",
      "execution_count": 70,
      "metadata": {
        "colab": {
          "base_uri": "https://localhost:8080/"
        },
        "id": "-UhUU5t9AGZE",
        "outputId": "0e591173-0251-4f03-f593-236b7fbfc347"
      },
      "outputs": [
        {
          "name": "stdout",
          "output_type": "stream",
          "text": [
            "['hello', 'world']\n",
            "['hell', ' w', 'rld']\n",
            "['he', 'o world']\n"
          ]
        }
      ],
      "source": [
        "splitS = s.split()\n",
        "\n",
        "print(splitS)\n",
        "\n",
        "splitS2 = s.split('o')\n",
        "\n",
        "print(splitS2)\n",
        "\n",
        "splitS3 = s.split(\"ll\")\n",
        "\n",
        "print(splitS3)"
      ]
    },
    {
      "cell_type": "code",
      "execution_count": 77,
      "metadata": {
        "colab": {
          "base_uri": "https://localhost:8080/"
        },
        "id": "uZJqZjuUAz9l",
        "outputId": "6bc34a54-78c5-4510-dd31-65102f4474d9"
      },
      "outputs": [
        {
          "name": "stdout",
          "output_type": "stream",
          "text": [
            "입력1 2 3\n",
            "6\n"
          ]
        }
      ],
      "source": [
        "one, two ,three = map(int,input(\"입력\").split())\n",
        "\n",
        "print(one + two + three)"
      ]
    },
    {
      "cell_type": "code",
      "execution_count": 112,
      "metadata": {
        "colab": {
          "base_uri": "https://localhost:8080/"
        },
        "id": "J9ZAvxXaCn-G",
        "outputId": "e70a4668-862f-44bc-c3e6-3858022e87d0"
      },
      "outputs": [
        {
          "name": "stdout",
          "output_type": "stream",
          "text": [
            "내 이름은 점점점입니다. 나이는 1입니다. 키는 123.123000입니다.\n",
            "내 이름은 123.123입니다. 나이는 점점점입니다. 키는 20입니다.\n",
            "내 이름은 점점점입니다. 나이는 20입니다. 키는 123.123입니다.\n",
            "점점점의 나이는 10살 입니다.\n",
            "==hello==\n",
            "==     hello==\n",
            "==hello     ==\n",
            "==hello     ==\n",
            "==     hello==\n",
            "==hello     ==\n",
            "==  hello   ==\n",
            "==점점점       ==의 나이는 10살 입니다.\n",
            "==       점점점==의 나이는 10살 입니다.\n",
            "3\n",
            "3.33\n",
            "==3.3333==\n",
            "999,999\n"
          ]
        }
      ],
      "source": [
        "print(\"내 이름은 %s입니다. 나이는 %d입니다. 키는 %f입니다.\"%(\"점점점\", 1, 123.123))\n",
        "\n",
        "print(\"내 이름은 {2}입니다. 나이는 {0}입니다. 키는 {1}입니다.\".format(\"점점점\",20,123.123))\n",
        "\n",
        "print(\"내 이름은 {name}입니다. 나이는 {age}입니다. 키는 {heigth}입니다.\".format(name=\"점점점\",age=20,heigth=123.123))\n",
        "\n",
        "name = \"점점점\"\n",
        "age = 10\n",
        "\n",
        "print( f\"{name}의 나이는 {age}살 입니다.\" )\n",
        "\n",
        "\n",
        "print(\"==%s==\"%\"hello\")\n",
        "print(\"==%10s==\"%\"hello\")\n",
        "print(\"==%-10s==\"%\"hello\")\n",
        "\n",
        "print(\"=={:10}==\".format(\"hello\"))\n",
        "print(\"=={:>10}==\".format(\"hello\"))\n",
        "print(\"=={:<10}==\".format(\"hello\"))\n",
        "print(\"=={:^10}==\".format(\"hello\"))\n",
        "print( f\"=={name:10}==의 나이는 {age}살 입니다.\" )\n",
        "print( f\"=={name:>10}==의 나이는 {age}살 입니다.\" )\n",
        "\n",
        "print(\"%.f\"%(10/3))\n",
        "print(\"%.2f\"%(10/3))\n",
        "\n",
        "print( \"=={:.4f}==\".format(10/3) )\n",
        "\n",
        "print( \"{:,}\".format(999999) )"
      ]
    },
    {
      "cell_type": "code",
      "execution_count": 117,
      "metadata": {
        "colab": {
          "base_uri": "https://localhost:8080/"
        },
        "id": "OjJuIvQoG3kb",
        "outputId": "a8baef23-cf4a-433c-a468-ea9ae7d463d9"
      },
      "outputs": [
        {
          "name": "stdout",
          "output_type": "stream",
          "text": [
            "01234\n",
            "0TTHO 1THO 2HUN 3TEN 4\n"
          ]
        }
      ],
      "source": [
        "num = int(input())\n",
        "\n",
        "print(num//10000%10,\"TTHO\",end=\" \",sep='')\n",
        "print(num//1000%10,\"THO\",end=\" \",sep='')\n",
        "print(num//100%10,\"HUN\",end=\" \",sep='')\n",
        "print(num//10%10,\"TEN\",end=\" \",sep='')\n",
        "print(num%10)"
      ]
    },
    {
      "cell_type": "code",
      "execution_count": 120,
      "metadata": {
        "colab": {
          "base_uri": "https://localhost:8080/"
        },
        "id": "zaT2U7RSC2E8",
        "outputId": "9f152e61-b7a2-408b-eba0-e7cee7e80301"
      },
      "outputs": [
        {
          "name": "stdout",
          "output_type": "stream",
          "text": [
            "입력 : 1\n",
            "F\n"
          ]
        }
      ],
      "source": [
        "num = int(input(\"입력 : \"))\n",
        "\n",
        "two = num % 2 == 0\n",
        "three = num % 3 == 0\n",
        "five = num % 5 == 0\n",
        "\n",
        "if two and three and five:\n",
        "  print(\"A\")\n",
        "elif two and three:\n",
        "  print(\"B\")\n",
        "elif three and five:\n",
        "  print(\"C\")\n",
        "elif two and five:\n",
        "  print(\"D\")\n",
        "elif two or three or five:\n",
        "  print(\"E\")\n",
        "else:\n",
        "  print(\"F\")\n"
      ]
    },
    {
      "cell_type": "code",
      "execution_count": 128,
      "metadata": {
        "colab": {
          "base_uri": "https://localhost:8080/"
        },
        "id": "MOAJxL_BOg-m",
        "outputId": "4565cb9b-33d7-49a8-a933-a7a129ef272b"
      },
      "outputs": [
        {
          "name": "stdout",
          "output_type": "stream",
          "text": [
            "0\n",
            "1\n",
            "2\n",
            "3\n",
            "4\n",
            "===========\n",
            "1\n",
            "2\n",
            "===========\n",
            "0\n",
            "2\n",
            "4\n",
            "6\n",
            "8\n",
            "===========\n",
            "입력123\n",
            "123\n"
          ]
        }
      ],
      "source": [
        "for i in range(5):\n",
        "  print(i)\n",
        "print(\"===========\")\n",
        "for i in range(1,3):\n",
        "  print(i)\n",
        "print(\"===========\")\n",
        "for i in range(0,10,2):\n",
        "  print(i)\n",
        "print(\"===========\")\n",
        "inputlist = map(int, input(\"입력\").split())\n",
        "\n",
        "for i in inputlist:\n",
        "  print(i)"
      ]
    },
    {
      "cell_type": "code",
      "execution_count": 137,
      "metadata": {
        "colab": {
          "base_uri": "https://localhost:8080/"
        },
        "id": "aJ2oVFi0Rdd4",
        "outputId": "af807da8-af04-4868-fa9f-4df6c1db1740"
      },
      "outputs": [
        {
          "name": "stdout",
          "output_type": "stream",
          "text": [
            "[1, 2, 3, 4, 5]\n",
            "[1, 2, 3, 4, 5, 6, 7, 8, 9, 0]\n",
            "[1, 2, 3, 4, 5, 1, 2, 3, 4, 5, 1, 2, 3, 4, 5]\n",
            "5\n",
            "[1, 3, 4, 5]\n",
            "True\n",
            "False\n"
          ]
        }
      ],
      "source": [
        "a = [1,2,3,4,5]\n",
        "print(a)\n",
        "\n",
        "b = [6,7,8,9,0]\n",
        "\n",
        "print(a+b)\n",
        "\n",
        "c = a * 3\n",
        "\n",
        "print(c)\n",
        "\n",
        "al = len(a)\n",
        "print(al)\n",
        "\n",
        "b[4] = 10\n",
        "\n",
        "li = [1,2,3,4,5]\n",
        "\n",
        "del li[1]\n",
        "\n",
        "print(li)\n",
        "\n",
        "print(1 in [1,2,3])\n",
        "\n",
        "print( 10 in li )"
      ]
    },
    {
      "cell_type": "code",
      "execution_count": 154,
      "metadata": {
        "colab": {
          "base_uri": "https://localhost:8080/"
        },
        "id": "mKhckHrlTyYY",
        "outputId": "404f44c5-ece0-497c-e34a-840ba2729fe0"
      },
      "outputs": [
        {
          "name": "stdout",
          "output_type": "stream",
          "text": [
            "[1, 2, 3, 4]\n",
            "[1, 2, 3, [4, 5, 6]]\n",
            "[1, 2, 3, 4, 5, 6]\n",
            "[1, 2, 10, 3]\n",
            "4\n",
            "0\n",
            "[1, 2, 3]\n",
            "[3, 2, 1]\n",
            "[1, 2, 3]\n",
            "[2, 1, 3]\n",
            "[1, 1, 2, 3] 3\n",
            "1235 1 2391\n",
            "range(0, 10)\n"
          ]
        }
      ],
      "source": [
        "li = [1,2,3]\n",
        "li.append(4)\n",
        "\n",
        "print(li)\n",
        "\n",
        "#요소로 리스트가\n",
        "li = [ 1, 2, 3 ]\n",
        "li.append([4,5,6])\n",
        "print(li)\n",
        "\n",
        "#리스트에 요소를 넣는다.\n",
        "li = [ 1, 2, 3 ]\n",
        "li.extend([4,5,6])\n",
        "print(li)\n",
        "\n",
        "#특정 인덱스에 요소를 넣는다.\n",
        "li = [ 1, 2, 3 ]\n",
        "li.insert(2,10)\n",
        "print(li)\n",
        "\n",
        "#리스트에서 일치하는 요소의 수를 카운트\n",
        "li = [ 1, 2, 3,1,2,3,4,1,23,4,56,1,2]\n",
        "print(li.count(1))\n",
        "\n",
        "#리스트에서 특정값에 해당하는 요소를 찾지만 찾지 못하면 에러가 터진다.\n",
        "#앞에서 부터 탐색\n",
        "li = [ 1, 2, 3, 2, 1]\n",
        "print(li.index(1))\n",
        "\n",
        "#정렬\n",
        "li = [ 2, 1, 3 ]\n",
        "li.sort()\n",
        "print(li)\n",
        "li.sort(reverse=True)\n",
        "print(li)\n",
        "\n",
        "#뒤집기\n",
        "li = [ 3, 2 ,1]\n",
        "li.reverse()\n",
        "print(li)\n",
        "\n",
        "#삭제 단 중복 요소가 여러개라도 첫번재 요소만(왼쪽부터 오른족으로)\n",
        "li = [ 3, 2 ,1, 3]\n",
        "li.remove(3)\n",
        "print(li)\n",
        "\n",
        "#스택 POP\n",
        "li = [1,1,2,3,3]\n",
        "popData = li.pop()\n",
        "print(li,popData)\n",
        "\n",
        "\n",
        "#최대값, 최소값, 합계\n",
        "li = [1,2,3,4,5,6,7,8,9,1111,1235]\n",
        "print(max(li), min(li), sum(li))\n",
        "\n",
        "# range(10)은 객체\n",
        "# list(range(10))는 리스트\n",
        "print(range(10))\n",
        "print(list(range(10)))\n"
      ]
    },
    {
      "cell_type": "code",
      "execution_count": 158,
      "metadata": {
        "colab": {
          "base_uri": "https://localhost:8080/"
        },
        "id": "OYLcPOdoTLPF",
        "outputId": "de17f1c1-6a3e-4215-b8b2-af5621e826ba"
      },
      "outputs": [
        {
          "name": "stdout",
          "output_type": "stream",
          "text": [
            "4\n",
            "1\n",
            "(1, 2, 3, 4, 1, 2, 3, 4, 1, 2, 3, 4)\n",
            "(1, 2, 3, 4, 1, 2, 3)\n",
            "1 4 10\n",
            "(3,)\n"
          ]
        }
      ],
      "source": [
        "#튜플\n",
        "t = ()\n",
        "t = (1,)\n",
        "t2 = (1, 2, 3)\n",
        "#튜플은 소괄호 생략가능\n",
        "t = 1, 2, 3, 4\n",
        "#튜플은 변경 불가\n",
        "#t[0] = 2\n",
        "print(len(t))\n",
        "\n",
        "print(t.count(1))\n",
        "\n",
        "print(t * 3)\n",
        "\n",
        "print(t + t2)\n",
        "\n",
        "print(min(t), max(t), sum(t))\n",
        "\n",
        "print(t[2:3])\n"
      ]
    },
    {
      "cell_type": "code",
      "execution_count": 172,
      "metadata": {
        "colab": {
          "base_uri": "https://localhost:8080/"
        },
        "id": "4q_fsgaYZXj-",
        "outputId": "3dd01d0f-d345-4dfa-d6ae-1d3f766c2ce6"
      },
      "outputs": [
        {
          "name": "stdout",
          "output_type": "stream",
          "text": [
            "{1, 2, 3}\n",
            "{1, 2, 3}\n",
            "{'e', 'h', 'o', 'l'}\n",
            "{3, 4, 5}\n",
            "{1, 2, 3, 4, 5}\n",
            "{1, 2}\n",
            "True\n",
            "True\n",
            "False\n",
            "False\n",
            "False\n",
            "{1, 2, 3, 4}\n",
            "{1, 2, 3, 4, 5, 6}\n",
            "{2, 3}\n",
            "{2, 3}\n",
            "{2, 3}\n",
            "1\n",
            "1 3 6\n"
          ]
        }
      ],
      "source": [
        "#집합.\n",
        "s = {1,2,3}\n",
        "print(s)\n",
        "\n",
        "#중복 불가\n",
        "s = {1,2,3,1,2,3}\n",
        "print(s)\n",
        "\n",
        "s = set(\"hello\")\n",
        "print(s)\n",
        "\n",
        "\n",
        "s1 = set([1,2,3,4,5])\n",
        "s2 = set([3,4,5])\n",
        "\n",
        "#교집합\n",
        "print(s1 & s2)\n",
        "\n",
        "#합집합\n",
        "print(s1 | s2)\n",
        "\n",
        "#차집합\n",
        "print(s1 - s2)\n",
        "\n",
        "#부분집합 -> s2의 모든 요소가 s1에 있는가?\n",
        "print(s1 >= s2)\n",
        "print(s1.issuperset(s2))\n",
        "#부분집합 -> s1의 모든 요소가 s2에 있는가?\n",
        "print(s1 <= s2)\n",
        "print(s2.issuperset(s1))\n",
        "\n",
        "#공집합 -> s1과 s2가 겹치는 것이 없는가?\n",
        "print(s1.isdisjoint(s2))\n",
        "\n",
        "s1 = set([1,2,3])\n",
        "s1.add(4)\n",
        "print(s1)\n",
        "\n",
        "s1 = set([1,2,3])\n",
        "s1.update([4,5,6])\n",
        "print(s1)\n",
        "\n",
        "s1 = set([1,2,3])\n",
        "#1이라느 요소 삭제\n",
        "s1.remove(1)\n",
        "#없는거 삭제시 에러 발생\n",
        "#s1.remove(4)\n",
        "print(s1)\n",
        "\n",
        "s1 = set([1,2,3])\n",
        "#1요소 삭제\n",
        "s1.discard(1)\n",
        "#4라는 없는 요소 삭제시 에러가 발생하지 않음.\n",
        "s1.discard(4)\n",
        "print(s1)\n",
        "\n",
        "s1 = set([1,2,3])\n",
        "num = s1.pop()\n",
        "print(s1)\n",
        "print(num)\n",
        "\n",
        "\n",
        "\n",
        "s1 = set([1,2,3])\n",
        "print(min(s1), max(s1), sum(s1))"
      ]
    },
    {
      "cell_type": "code",
      "execution_count": 180,
      "metadata": {
        "colab": {
          "base_uri": "https://localhost:8080/"
        },
        "id": "2K0_rr8Jasmx",
        "outputId": "49e3c639-d7f7-4825-bcf3-e3a0b240bb4a"
      },
      "outputs": [
        {
          "name": "stdout",
          "output_type": "stream",
          "text": [
            "철수\n",
            "123.123\n",
            "{'name': '철수', '몸무게': 123, '키': 123.123, '나이': 20}\n",
            "{'몸무게': 123, '키': 123.123, '나이': 20}\n",
            "dict_keys(['몸무게', '키', '나이'])\n",
            "dict_values([123, 123.123, 20])\n",
            "dict_items([('몸무게', 123), ('키', 123.123), ('나이', 20)])\n",
            "{}\n",
            "3\n",
            "1 3 6\n"
          ]
        }
      ],
      "source": [
        "dic = {\n",
        "    \"name\" : \"철수\",\n",
        "    \"몸무게\" : 123,\n",
        "    \"키\" : 123.123\n",
        "}\n",
        "print(dic['name'])\n",
        "print(dic.get('키'))\n",
        "\n",
        "#추가\n",
        "dic['나이'] = 20\n",
        "print(dic)\n",
        "\n",
        "del dic['name']\n",
        "print(dic)\n",
        "\n",
        "#모든 키 출력\n",
        "print(dic.keys())\n",
        "\n",
        "#모든 값 출력\n",
        "print(dic.values())\n",
        "\n",
        "#모든 사전 요소를 튜플 리스트로 반환\n",
        "print(dic.items())\n",
        "\n",
        "#모든 요소 삭제\n",
        "dic.clear()\n",
        "print(dic)\n",
        "\n",
        "dic = {\n",
        "    \"name\" : \"철수\",\n",
        "    \"몸무게\" : 123,\n",
        "    \"키\" : 123.123\n",
        "}\n",
        "\n",
        "#모든 요소의 수\n",
        "print(len(dic))\n",
        "\n",
        "#사전 복사\n",
        "#얕은 복사\n",
        "dic2 = dic\n",
        "#깊은 복사\n",
        "dic2 = dict(dic)\n",
        "dic2 = dic.copy()\n",
        "\n",
        "dic = { 1 : \"철수\", 2 : \"철희\", 3 : \"민희\"}\n",
        "#키값에 대한 연산\n",
        "print( min(dic), max(dic), sum(dic) )\n"
      ]
    },
    {
      "cell_type": "code",
      "execution_count": 181,
      "metadata": {
        "colab": {
          "base_uri": "https://localhost:8080/"
        },
        "id": "7nfdGJJYgMBH",
        "outputId": "174e158e-8e53-4083-c720-5adfeec6361c"
      },
      "outputs": [
        {
          "name": "stdout",
          "output_type": "stream",
          "text": [
            "15\n"
          ]
        }
      ],
      "source": [
        "def ArgsSum(*args):\n",
        "  s = 0\n",
        "  for i in args:\n",
        "    s += i\n",
        "  return s\n",
        "\n",
        "total = ArgsSum(1,2,3,4,5)\n",
        "print(total)"
      ]
    },
    {
      "cell_type": "code",
      "execution_count": 199,
      "metadata": {
        "id": "7vzXqC2ZhdqI"
      },
      "outputs": [],
      "source": [
        "#덮어 씌우기\n",
        "fp = open('file.txt', 'w')\n",
        "fp.write(\"hello \\n\");\n",
        "fp.write('world \\n');\n",
        "fp.close()"
      ]
    },
    {
      "cell_type": "code",
      "execution_count": 201,
      "metadata": {
        "id": "-BQYBzFHiOsg"
      },
      "outputs": [],
      "source": [
        "#이어 쓰기\n",
        "fp = open('file.txt', 'a')\n",
        "fp.write(\"hello \\n\");\n",
        "fp.close()"
      ]
    },
    {
      "cell_type": "code",
      "execution_count": 202,
      "metadata": {
        "colab": {
          "base_uri": "https://localhost:8080/"
        },
        "id": "JmVp40ptigmY",
        "outputId": "c1f52ce5-382a-4194-a9c9-d4006699116f"
      },
      "outputs": [
        {
          "name": "stdout",
          "output_type": "stream",
          "text": [
            "hello \n",
            "\n",
            "world \n",
            "\n",
            "hello \n",
            "\n"
          ]
        }
      ],
      "source": [
        "#한줄씩 쓰기\n",
        "fp = open('file.txt', 'r')\n",
        "\n",
        "while True:\n",
        "  line = fp.readline()\n",
        "  if not line:\n",
        "    break\n",
        "  print(line)\n",
        "fp.close()"
      ]
    },
    {
      "cell_type": "code",
      "execution_count": 203,
      "metadata": {
        "colab": {
          "base_uri": "https://localhost:8080/"
        },
        "id": "ZaYiIWuni_uI",
        "outputId": "0a8a6b91-6221-45a4-e4cb-010c7fa7c34e"
      },
      "outputs": [
        {
          "name": "stdout",
          "output_type": "stream",
          "text": [
            "['hello \\n', 'world \\n', 'hello \\n']\n",
            "hello \n",
            "world \n",
            "hello \n",
            "\n"
          ]
        }
      ],
      "source": [
        "#한번에 모두 읽기\n",
        "fp = open('file.txt', 'r')\n",
        "lines = fp.readlines()\n",
        "print(lines)\n",
        "fp.close()\n",
        "\n",
        "fp = open('file.txt', 'r')\n",
        "lines = fp.read()\n",
        "print(lines)\n",
        "fp.close()\n",
        "\n"
      ]
    },
    {
      "cell_type": "code",
      "execution_count": 204,
      "metadata": {
        "id": "ofprVql8jnnC"
      },
      "outputs": [],
      "source": [
        "with open('file.txt','a') as f:\n",
        "  f.write(\"with is god!!\")\n",
        "#파일 확인하기"
      ]
    },
    {
      "cell_type": "code",
      "execution_count": 7,
      "metadata": {
        "colab": {
          "base_uri": "https://localhost:8080/"
        },
        "id": "j_cjUW4maEl-",
        "outputId": "f5b8a3b1-9e7f-46d1-85a7-9ae8f5afe9c2"
      },
      "outputs": [
        {
          "name": "stdout",
          "output_type": "stream",
          "text": [
            "[0, 1, 2, 3, 4, 5, 6, 7, 8, 9]\n",
            "[0, 1, 2, 3, 4, 5, 6, 7, 8, 9]\n",
            "['2 x 1 = 2', '2 x 2 = 4', '2 x 3 = 6', '2 x 4 = 8', '2 x 5 = 10', '2 x 6 = 12', '2 x 7 = 14', '2 x 8 = 16', '2 x 9 = 18', '3 x 1 = 3', '3 x 2 = 6', '3 x 3 = 9', '3 x 4 = 12', '3 x 5 = 15', '3 x 6 = 18', '3 x 7 = 21', '3 x 8 = 24', '3 x 9 = 27', '4 x 1 = 4', '4 x 2 = 8', '4 x 3 = 12', '4 x 4 = 16', '4 x 5 = 20', '4 x 6 = 24', '4 x 7 = 28', '4 x 8 = 32', '4 x 9 = 36', '5 x 1 = 5', '5 x 2 = 10', '5 x 3 = 15', '5 x 4 = 20', '5 x 5 = 25', '5 x 6 = 30', '5 x 7 = 35', '5 x 8 = 40', '5 x 9 = 45', '6 x 1 = 6', '6 x 2 = 12', '6 x 3 = 18', '6 x 4 = 24', '6 x 5 = 30', '6 x 6 = 36', '6 x 7 = 42', '6 x 8 = 48', '6 x 9 = 54', '7 x 1 = 7', '7 x 2 = 14', '7 x 3 = 21', '7 x 4 = 28', '7 x 5 = 35', '7 x 6 = 42', '7 x 7 = 49', '7 x 8 = 56', '7 x 9 = 63', '8 x 1 = 8', '8 x 2 = 16', '8 x 3 = 24', '8 x 4 = 32', '8 x 5 = 40', '8 x 6 = 48', '8 x 7 = 56', '8 x 8 = 64', '8 x 9 = 72', '9 x 1 = 9', '9 x 2 = 18', '9 x 3 = 27', '9 x 4 = 36', '9 x 5 = 45', '9 x 6 = 54', '9 x 7 = 63', '9 x 8 = 72', '9 x 9 = 81']\n",
            "<generator object <genexpr> at 0x7be979733df0>\n"
          ]
        }
      ],
      "source": [
        "#지능형 리스트\n",
        "l1 = list(range(10))\n",
        "print(l1)\n",
        "\n",
        "\n",
        "l2 = [ i for i in range(10) ]\n",
        "print(l2)\n",
        "\n",
        "l3 = [ f'{i} x {j} = { i * j }' for i in range(2,10) for j in range(1,10) ]\n",
        "print(l3)\n",
        "\n",
        "l4 = [(1,10),(2,20),(3,30),(4,40)]\n",
        "\n",
        "for i in l4:\n",
        "  print(i)\n",
        "\n",
        "print(\"===================\")\n",
        "\n",
        "for i,j in l4:\n",
        "  print(i, j)\n"
      ]
    },
    {
      "cell_type": "code",
      "execution_count": 12,
      "metadata": {
        "colab": {
          "base_uri": "https://localhost:8080/"
        },
        "id": "MPV63GhVcKOy",
        "outputId": "005104e4-2629-4f40-fa7d-e8d792ec839b"
      },
      "outputs": [
        {
          "name": "stdout",
          "output_type": "stream",
          "text": [
            "1 100\n"
          ]
        }
      ],
      "source": [
        "for i,j in enumerate(range(100,1000,1000), 1):\n",
        "  print(i,j)\n",
        "  # pass는 아무 작업도 하지 않는다.\n",
        "  # 에러가 안나도록 할경우 사용한다.\n",
        "  # 즉 다음에 작성할 예정인 경우 사용하면 좋다.\n",
        "  pass\n",
        "\n"
      ]
    },
    {
      "cell_type": "code",
      "execution_count": 6,
      "metadata": {
        "colab": {
          "base_uri": "https://localhost:8080/"
        },
        "id": "LhdjRZw_bgdH",
        "outputId": "2fbe7b28-a74c-47c9-977e-bde9f18dbc0e"
      },
      "outputs": [
        {
          "name": "stdout",
          "output_type": "stream",
          "text": [
            "0\n",
            "1\n",
            "2\n",
            "end job\n",
            "0\n",
            "1\n",
            "2\n"
          ]
        }
      ],
      "source": [
        "for i in range(3):\n",
        "  print(i)\n",
        "else:\n",
        "  print(\"end job\")\n",
        "\n",
        "for i in range(3):\n",
        "  print(i)\n",
        "  if( i == 2 ):\n",
        "   break;\n",
        "else:\n",
        "  # 정상종료가 아니므로 실행되지 않음.\n",
        "  print(\"end job\")"
      ]
    },
    {
      "cell_type": "code",
      "execution_count": 16,
      "metadata": {
        "colab": {
          "base_uri": "https://localhost:8080/"
        },
        "id": "k3I3ogm4fZk1",
        "outputId": "64a7dd13-b79b-4263-db92-7ff4bc76a7a6"
      },
      "outputs": [
        {
          "name": "stdout",
          "output_type": "stream",
          "text": [
            "출발\n",
            "None\n",
            "300\n"
          ]
        }
      ],
      "source": [
        "class Car(object):\n",
        "  maxSpeed = 300\n",
        "  maxPeople = 5\n",
        "  def start(self):\n",
        "    print('출발')\n",
        "  def stop(self):\n",
        "    print('정지')\n",
        "  def __str__(self):\n",
        "    return '여기는 toString'\n",
        "  def __init__(self):\n",
        "    print(\"여기는 생성자\")\n",
        "\n",
        "class Hybrid(Car):\n",
        "  battery = 1000\n",
        "  batteryKM = 300\n",
        "\n",
        "k9 = Car()\n",
        "print(k9.start())\n",
        "print(Car.maxSpeed)"
      ]
    },
    {
      "cell_type": "code",
      "execution_count": 19,
      "metadata": {
        "colab": {
          "base_uri": "https://localhost:8080/"
        },
        "id": "YwItYJE8f3jw",
        "outputId": "6e87f52a-5598-4554-9f76-ae5a379fd4d2"
      },
      "outputs": [
        {
          "name": "stdout",
          "output_type": "stream",
          "text": [
            "[0, 1, 2, 3, 4]\n",
            "[0, 1, 2, 3, 4]\n"
          ]
        }
      ],
      "source": [
        "class DiyRange:\n",
        "    def __init__(self, end_value,):\n",
        "        self.start_value = 0\n",
        "        self.end_value = end_value\n",
        "        self.current_value = 0\n",
        "        self.step = 1\n",
        "\n",
        "    def __iter__(self):\n",
        "        return self\n",
        "\n",
        "    def __next__(self):\n",
        "        if self.current_value < self.end_value:\n",
        "            temp = self.current_value\n",
        "            self.current_value += self.step\n",
        "            return temp\n",
        "        else:\n",
        "            self.current_value = 0\n",
        "            # 카운터가 최대값에 도달하면 StopAsyncIteration 예외를 발생시켜 이터레이션을 종료합니다.\n",
        "            raise StopIteration\n",
        "\n",
        "\n",
        "def DiyList(range):\n",
        "    li = []\n",
        "    itertor = iter(range)\n",
        "    try:\n",
        "        while True:\n",
        "            li.append(next(itertor))\n",
        "    except StopIteration:\n",
        "        pass\n",
        "    return li\n",
        "\n",
        "print(DiyList(DiyRange(5)))\n",
        "\n",
        "print(list(range(5)))"
      ]
    },
    {
      "cell_type": "code",
      "execution_count": 30,
      "metadata": {
        "colab": {
          "base_uri": "https://localhost:8080/"
        },
        "id": "poBe4dAi7NyN",
        "outputId": "a788d216-fee5-4c75-9b09-38f087599e94"
      },
      "outputs": [
        {
          "name": "stdout",
          "output_type": "stream",
          "text": [
            "<class 'numpy.ndarray'>\n",
            "[[1 2 3]\n",
            " [4 5 6]\n",
            " [7 8 9]]\n",
            "int64\n",
            "float64\n"
          ]
        }
      ],
      "source": [
        "import numpy as np\n",
        "data1 = [[1,2,3],[4,5,6],[7,8,9]]\n",
        "data2 = [[1,2,3.0],[4,5,6],[7,8,9]]\n",
        "\n",
        "a1 = np.array(data1)\n",
        "a2 = np.array(data2)\n",
        "\n",
        "print(a1)\n",
        "\n",
        "# type 내장 함수로는 재대로 보이지 않음\n",
        "print(type(a1))\n",
        "\n",
        "# 타입 보기\n",
        "print(a1.dtype)\n",
        "print(a2.dtype)\n",
        "\n",
        "#타입 변경하기\n",
        "a2.astype(np.int32)\n"
      ]
    },
    {
      "cell_type": "code",
      "execution_count": 36,
      "metadata": {
        "colab": {
          "base_uri": "https://localhost:8080/"
        },
        "id": "BfOcvJie9fOu",
        "outputId": "70702d03-26c4-4b21-f620-d139ce393123"
      },
      "outputs": [
        {
          "name": "stdout",
          "output_type": "stream",
          "text": [
            "[0 1 2 3 4]\n",
            "[1 2 3 4]\n",
            "[0 2 4]\n"
          ]
        }
      ],
      "source": [
        "# 1차원\n",
        "print(np.arange(5))\n",
        "print(np.arange(1,5))\n",
        "print(np.arange(0,5,2))"
      ]
    },
    {
      "cell_type": "code",
      "execution_count": 42,
      "metadata": {
        "colab": {
          "base_uri": "https://localhost:8080/"
        },
        "id": "L12EVpmb99Un",
        "outputId": "1a7243e8-6c83-440a-9320-d1c4bccc3244"
      },
      "outputs": [
        {
          "name": "stdout",
          "output_type": "stream",
          "text": [
            "[[1 2 3]\n",
            " [4 5 6]\n",
            " [7 8 9]]\n",
            "===============================\n",
            "[[[ 1  2]\n",
            "  [ 3  4]]\n",
            "\n",
            " [[ 5  6]\n",
            "  [ 7  8]]\n",
            "\n",
            " [[ 9 10]\n",
            "  [11 12]]]\n",
            "===============================\n"
          ]
        }
      ],
      "source": [
        "# n차원\n",
        "\n",
        "print(np.arange(1,10).reshape(3,3))\n",
        "\n",
        "print(\"===============================\")\n",
        "# 요소의 수가 틀리면 에러 발생\n",
        "#print(np.arange(1,10).reshape(3,4))\n",
        "# print(\"===============================\")\n",
        "print(np.arange(1,13).reshape(3,2,2))\n",
        "print(\"===============================\")"
      ]
    },
    {
      "cell_type": "code",
      "execution_count": 48,
      "metadata": {
        "colab": {
          "base_uri": "https://localhost:8080/"
        },
        "id": "ZqnFnsOG76PZ",
        "outputId": "987f6b91-eb9c-4e62-94c6-d2d735c773fc"
      },
      "outputs": [
        {
          "name": "stdout",
          "output_type": "stream",
          "text": [
            "[[1 2 3]\n",
            " [4 5 6]\n",
            " [7 8 9]]\n",
            "===============================\n",
            "[[ 2  4  6]\n",
            " [ 8 10 12]\n",
            " [14 16 18]]\n",
            "===============================\n",
            "[[0 0 0]\n",
            " [0 0 0]\n",
            " [0 0 0]]\n",
            "===============================\n",
            "[[ 1  4  9]\n",
            " [16 25 36]\n",
            " [49 64 81]]\n",
            "[[ 30  36  42]\n",
            " [ 66  81  96]\n",
            " [102 126 150]]\n",
            "[[ 30  36  42]\n",
            " [ 66  81  96]\n",
            " [102 126 150]]\n",
            "===============================\n",
            "[[1. 1. 1.]\n",
            " [1. 1. 1.]\n",
            " [1. 1. 1.]]\n",
            "===============================\n"
          ]
        }
      ],
      "source": [
        "#행렬 연산\n",
        "data = np.arange(1,10).reshape(3,3)\n",
        "print(data)\n",
        "print(\"===============================\")\n",
        "\n",
        "# 행렬 합\n",
        "print(\n",
        "    data + data\n",
        ")\n",
        "print(\"===============================\")\n",
        "\n",
        "# 행렬 차\n",
        "print(\n",
        "    data - data\n",
        ")\n",
        "print(\"===============================\")\n",
        "\n",
        "# 행렬 곱\n",
        "print(\n",
        "    data * data\n",
        ")\n",
        "## 재대로 나오지 않음.\n",
        "print(\n",
        "    np.dot(data, data)\n",
        ")\n",
        "# 또는\n",
        "print(\n",
        "    data@data\n",
        ")\n",
        "print(\"===============================\")\n",
        "\n",
        "# 행렬 나누기\n",
        "print(\n",
        "    data / data\n",
        ")\n",
        "print(\"===============================\")"
      ]
    },
    {
      "cell_type": "code",
      "execution_count": 55,
      "metadata": {
        "colab": {
          "base_uri": "https://localhost:8080/"
        },
        "id": "PMWtH7jdCHgV",
        "outputId": "e8975c0e-93ea-4d39-c1f1-838a6d61f0a0"
      },
      "outputs": [
        {
          "name": "stdout",
          "output_type": "stream",
          "text": [
            "1\n",
            "()\n",
            "0\n",
            "===============================\n",
            "[1 2 3 4 5]\n",
            "(5,)\n",
            "1\n",
            "===============================\n",
            "[[1 2 3]\n",
            " [4 5 6]]\n",
            "(2, 3)\n",
            "2\n",
            "===============================\n",
            "[[[ 1  2]\n",
            "  [ 3  4]\n",
            "  [ 5  6]]\n",
            "\n",
            " [[ 7  8]\n",
            "  [ 9 10]\n",
            "  [11 12]]\n",
            "\n",
            " [[13 14]\n",
            "  [15 16]\n",
            "  [17 18]]]\n",
            "(3, 3, 2)\n",
            "3\n",
            "===============================\n"
          ]
        }
      ],
      "source": [
        "#차원\n",
        "\n",
        "#0차원\n",
        "d0 = np.array(1)\n",
        "print(d0)\n",
        "print(d0.shape)\n",
        "print(d0.ndim)\n",
        "print(\"===============================\")\n",
        "\n",
        "#1차원\n",
        "d1 = np.array([1,2,3,4,5])\n",
        "print(d1)\n",
        "print(d1.shape)\n",
        "print(d1.ndim)\n",
        "print(\"===============================\")\n",
        "\n",
        "#2차원\n",
        "d2 = np.array([[1,2,3],[4,5,6]])\n",
        "print(d2)\n",
        "print(d2.shape)\n",
        "print(d2.ndim)\n",
        "print(\"===============================\")\n",
        "\n",
        "#3차원\n",
        "d3 = np.array([[[1,2],[3,4],[5,6]],[[7,8],[9,10],[11,12]],[[13,14],[15,16],[17,18]]])\n",
        "print(d3)\n",
        "print(d3.shape)\n",
        "print(d3.ndim)\n",
        "print(\"===============================\")"
      ]
    },
    {
      "cell_type": "code",
      "execution_count": 58,
      "metadata": {
        "colab": {
          "base_uri": "https://localhost:8080/"
        },
        "id": "-Tfc67u_As5R",
        "outputId": "bbc3b11a-622d-449a-fd19-4e99ffd653c3"
      },
      "outputs": [
        {
          "name": "stdout",
          "output_type": "stream",
          "text": [
            "[ 0  1  2  3  4  5  6  7  8  9 10 11]\n",
            "[[[ 0  1]\n",
            "  [ 2  3]\n",
            "  [ 4  5]]\n",
            "\n",
            " [[ 6  7]\n",
            "  [ 8  9]\n",
            "  [10 11]]]\n"
          ]
        }
      ],
      "source": [
        "a = np.arange(12)\n",
        "print(a)\n",
        "a = a.reshape(2,3,2)\n",
        "print(a)"
      ]
    },
    {
      "cell_type": "code",
      "execution_count": 63,
      "metadata": {
        "colab": {
          "base_uri": "https://localhost:8080/"
        },
        "id": "cmcAWa4tD7mo",
        "outputId": "32871a15-b07b-444a-82d2-c69d6f8b4c65"
      },
      "outputs": [
        {
          "name": "stdout",
          "output_type": "stream",
          "text": [
            "[1. 1. 1. 1. 1. 1. 1. 1. 1. 1. 1. 1.]\n",
            "[[[1. 1.]\n",
            "  [1. 1.]\n",
            "  [1. 1.]]\n",
            "\n",
            " [[1. 1.]\n",
            "  [1. 1.]\n",
            "  [1. 1.]]]\n"
          ]
        }
      ],
      "source": [
        "b = np.ones(12)\n",
        "print(b)\n",
        "b = b.reshape(2,3,2)\n",
        "print(b)"
      ]
    },
    {
      "cell_type": "code",
      "execution_count": 62,
      "metadata": {
        "colab": {
          "base_uri": "https://localhost:8080/"
        },
        "id": "ykrizCraEGBf",
        "outputId": "ceaa15f1-21bf-4709-c798-fad7bb5ee7e8"
      },
      "outputs": [
        {
          "name": "stdout",
          "output_type": "stream",
          "text": [
            "[0. 0. 0. 0. 0. 0. 0. 0. 0. 0. 0. 0.]\n",
            "[[[0. 0.]\n",
            "  [0. 0.]\n",
            "  [0. 0.]]\n",
            "\n",
            " [[0. 0.]\n",
            "  [0. 0.]\n",
            "  [0. 0.]]]\n"
          ]
        }
      ],
      "source": [
        "c = np.zeros(12)\n",
        "print(c)\n",
        "c = c.reshape(2,3,2)\n",
        "print(c)"
      ]
    },
    {
      "cell_type": "code",
      "execution_count": 64,
      "metadata": {
        "colab": {
          "base_uri": "https://localhost:8080/"
        },
        "id": "B2KH2FaoE15b",
        "outputId": "a37569c2-1cad-41ac-c2ad-bd68f4706a91"
      },
      "outputs": [
        {
          "name": "stdout",
          "output_type": "stream",
          "text": [
            "[[1. 0. 0.]\n",
            " [0. 1. 0.]\n",
            " [0. 0. 1.]]\n"
          ]
        }
      ],
      "source": [
        "d = np.eye(3)\n",
        "print(d)"
      ]
    },
    {
      "cell_type": "code",
      "execution_count": 65,
      "metadata": {
        "colab": {
          "base_uri": "https://localhost:8080/"
        },
        "id": "-dGg2fOiFAik",
        "outputId": "f46af099-2713-44ae-e5e5-632f7822678e"
      },
      "outputs": [
        {
          "name": "stdout",
          "output_type": "stream",
          "text": [
            "[[0. 0. 0. 0.]\n",
            " [0. 0. 0. 0.]\n",
            " [0. 0. 0. 0.]]\n"
          ]
        }
      ],
      "source": [
        "e = np.zeros([3,4])\n",
        "print(e)"
      ]
    },
    {
      "cell_type": "code",
      "execution_count": 66,
      "metadata": {
        "colab": {
          "base_uri": "https://localhost:8080/"
        },
        "id": "uNkl6H0cFYbZ",
        "outputId": "46b8b613-94b2-4727-f301-f1ff5109e170"
      },
      "outputs": [
        {
          "name": "stdout",
          "output_type": "stream",
          "text": [
            "[[0. 0. 0. 0.]\n",
            " [0. 0. 0. 0.]\n",
            " [0. 0. 0. 0.]]\n"
          ]
        }
      ],
      "source": [
        "f = np.zeros([3,4,2])\n",
        "print(e)"
      ]
    },
    {
      "cell_type": "code",
      "execution_count": 67,
      "metadata": {
        "colab": {
          "base_uri": "https://localhost:8080/"
        },
        "id": "DiVDaCNLFb_x",
        "outputId": "332fe3e5-32ff-49af-b3ba-dff6405bac21"
      },
      "outputs": [
        {
          "name": "stdout",
          "output_type": "stream",
          "text": [
            "[[4.9e-324 9.9e-324 1.5e-323]\n",
            " [2.0e-323 2.5e-323 3.0e-323]]\n"
          ]
        }
      ],
      "source": [
        "g = np.empty([2,3])\n",
        "print(g)"
      ]
    },
    {
      "cell_type": "code",
      "execution_count": 68,
      "metadata": {
        "colab": {
          "base_uri": "https://localhost:8080/"
        },
        "id": "yYpIKF45FiaJ",
        "outputId": "9262a865-4487-40a1-ef1d-dbf74a102514"
      },
      "outputs": [
        {
          "name": "stdout",
          "output_type": "stream",
          "text": [
            "[[1000 1000 1000 1000]\n",
            " [1000 1000 1000 1000]\n",
            " [1000 1000 1000 1000]]\n"
          ]
        }
      ],
      "source": [
        "h = np.full((3,4),1000)\n",
        "print(h)"
      ]
    },
    {
      "cell_type": "code",
      "execution_count": 70,
      "metadata": {
        "colab": {
          "base_uri": "https://localhost:8080/"
        },
        "id": "SMnerJbQGAPA",
        "outputId": "b3b95ae4-5281-456f-a098-debe16e640a2"
      },
      "outputs": [
        {
          "name": "stdout",
          "output_type": "stream",
          "text": [
            "[ 2.   3.6  5.2  6.8  8.4 10. ]\n"
          ]
        }
      ],
      "source": [
        "# 2부터 10 사이에 6번을 동등한 간격으로 생성\n",
        "i = np.linspace(2,10,6)\n",
        "print(i)"
      ]
    },
    {
      "cell_type": "code",
      "execution_count": 82,
      "metadata": {
        "colab": {
          "base_uri": "https://localhost:8080/"
        },
        "id": "c5qUQsYJGMwB",
        "outputId": "fdbbea4c-3428-4c0c-c44d-427121caddaf"
      },
      "outputs": [
        {
          "name": "stdout",
          "output_type": "stream",
          "text": [
            "[[0 1 2 3 4]\n",
            " [5 6 7 8 9]]\n",
            "===============================\n",
            "[[ 100 1000    2    3    4]\n",
            " [   5    6    7    8    9]]\n",
            "===============================\n",
            "114.4\n",
            "===============================\n",
            "6.5\n",
            "===============================\n",
            "296.5485457728633\n",
            "===============================\n",
            "87941.04\n",
            "===============================\n",
            "1144\n",
            "===============================\n",
            "1144\n",
            "[ 105 1006    9   11   13]\n",
            "-------------------------------\n",
            "[ 105 1006    9   11   13]\n",
            "[ 105 1006    9   11   13]\n",
            "-------------------------------\n",
            "[1109   35]\n",
            "[1109   35]\n",
            "-------------------------------\n",
            "===============================\n",
            "1000\n",
            "-------------------------------\n",
            "[ 100 1000    7    8    9]\n",
            "[ 100 1000    7    8    9]\n",
            "-------------------------------\n",
            "[1000    9]\n",
            "[1000    9]\n",
            "-------------------------------\n",
            "===============================\n"
          ]
        }
      ],
      "source": [
        "a = np.arange(10). reshape(2,5)\n",
        "print(a)\n",
        "print(\"===============================\")\n",
        "\n",
        "a[0][0] = 100\n",
        "a[0,1] = 1000\n",
        "\n",
        "print(a)\n",
        "\n",
        "print(\"===============================\")\n",
        "\n",
        "#평균\n",
        "print(np.mean(a))\n",
        "print(\"===============================\")\n",
        "#중앙값\n",
        "print(np.median(a))\n",
        "print(\"===============================\")\n",
        "#표준 편차\n",
        "print(np.std(a))\n",
        "print(\"===============================\")\n",
        "#분산\n",
        "print(np.var(a))\n",
        "print(\"===============================\")\n",
        "#전체 합계\n",
        "print(np.sum(a))\n",
        "print(\"===============================\")\n",
        "\n",
        "#행 열 합계\n",
        "#내장 함수 호출시 열 합계 출력\n",
        "print(a.sum())\n",
        "print(sum(a))\n",
        "print(\"-------------------------------\")\n",
        "#열 합계\n",
        "print(np.sum(a, axis=0))\n",
        "print(a.sum(axis=0))\n",
        "print(\"-------------------------------\")\n",
        "#행 합계\n",
        "print(np.sum(a, axis=1))\n",
        "print(a.sum(axis=1))\n",
        "print(\"-------------------------------\")\n",
        "print(\"===============================\")\n",
        "\n",
        "#행 열 최대 값(최소값도 동일함)\n",
        "#에러 발생함.. 주의할것\n",
        "#print(max(a))\n",
        "print(a.max())\n",
        "print(\"-------------------------------\")\n",
        "print(a.max(axis=0))\n",
        "print(np.max(a, axis=0))\n",
        "print(\"-------------------------------\")\n",
        "print(a.max(axis=1))\n",
        "print(np.max(a, axis=1))\n",
        "print(\"-------------------------------\")\n",
        "print(\"===============================\")\n",
        "\n"
      ]
    },
    {
      "cell_type": "code",
      "execution_count": 105,
      "metadata": {
        "colab": {
          "base_uri": "https://localhost:8080/"
        },
        "id": "lDfqNEjOGhaz",
        "outputId": "fecdd60c-a13c-4bdf-d484-990ea25140e1"
      },
      "outputs": [
        {
          "name": "stdout",
          "output_type": "stream",
          "text": [
            "[ 0 10 20 30 40]\n",
            "===============================\n",
            "a     0\n",
            "b    10\n",
            "c    20\n",
            "d    30\n",
            "e    40\n",
            "dtype: int64\n",
            "===============================\n",
            "0     0\n",
            "1    10\n",
            "2    20\n",
            "3    30\n",
            "4    40\n",
            "dtype: int64\n",
            "===============================\n",
            "0\n",
            "10\n",
            "-------------------------------\n",
            "10\n",
            "-------------------------------\n",
            "===============================\n"
          ]
        }
      ],
      "source": [
        "import pandas as pd\n",
        "import numpy as np\n",
        "\n",
        "data = np.arange(0,50,10)\n",
        "print(data)\n",
        "\n",
        "print(\"===============================\")\n",
        "# 명시적 인덱스\n",
        "a = pd.Series(data,index=['a','b','c','d','e'])\n",
        "print(a)\n",
        "print(\"===============================\")\n",
        "# 암묵적 인덱스\n",
        "b = pd.Series(data)\n",
        "print(b)\n",
        "print(\"===============================\")\n",
        "print(a['a'])\n",
        "# loc = location\n",
        "print(a.loc['b'])\n",
        "print(\"-------------------------------\")\n",
        "# iloc = index location\n",
        "print(a.iloc[1])\n",
        "print(\"-------------------------------\")\n",
        "print(\"===============================\")\n",
        "# 명시적 인덱스를 선언하지 않았다면 사용 불가능.\n",
        "#print(b.loc(1))\n"
      ]
    },
    {
      "cell_type": "code",
      "execution_count": 128,
      "metadata": {
        "colab": {
          "base_uri": "https://localhost:8080/"
        },
        "id": "7yLnjunyLvOx",
        "outputId": "b265f3e5-6a05-4142-fbac-ce8bf3800753"
      },
      "outputs": [
        {
          "name": "stdout",
          "output_type": "stream",
          "text": [
            "[ 0 10 20 30 40]\n",
            "a     0\n",
            "b    10\n",
            "c    20\n",
            "d    30\n",
            "e    40\n",
            "dtype: int64\n",
            "===============================\n",
            "a    10\n",
            "b    20\n",
            "c    30\n",
            "d    40\n",
            "e    50\n",
            "dtype: int64\n",
            "-------------------------------\n",
            "a    10\n",
            "b    20\n",
            "c    30\n",
            "d    40\n",
            "e    50\n",
            "dtype: int64\n",
            "===============================\n",
            "a   -10\n",
            "b     0\n",
            "c    10\n",
            "d    20\n",
            "e    30\n",
            "dtype: int64\n",
            "-------------------------------\n",
            "a   -10\n",
            "b     0\n",
            "c    10\n",
            "d    20\n",
            "e    30\n",
            "dtype: int64\n",
            "===============================\n",
            "a    0.0\n",
            "b    1.0\n",
            "c    2.0\n",
            "d    3.0\n",
            "e    4.0\n",
            "dtype: float64\n",
            "-------------------------------\n",
            "a    0.0\n",
            "b    1.0\n",
            "c    2.0\n",
            "d    3.0\n",
            "e    4.0\n",
            "dtype: float64\n",
            "-------------------------------\n",
            "a    0\n",
            "b    1\n",
            "c    2\n",
            "d    3\n",
            "e    4\n",
            "dtype: int64\n",
            "-------------------------------\n",
            "===============================\n",
            "a      0\n",
            "b    100\n",
            "c    200\n",
            "d    300\n",
            "e    400\n",
            "dtype: int64\n",
            "-------------------------------\n",
            "a      0\n",
            "b    100\n",
            "c    200\n",
            "d    300\n",
            "e    400\n",
            "dtype: int64\n",
            "===============================\n",
            "a                    0\n",
            "b          10000000000\n",
            "c       10240000000000\n",
            "d      590490000000000\n",
            "e    10485760000000000\n",
            "dtype: int64\n",
            "-------------------------------\n",
            "a                    0\n",
            "b          10000000000\n",
            "c       10240000000000\n",
            "d      590490000000000\n",
            "e    10485760000000000\n",
            "dtype: int64\n",
            "===============================\n",
            "a    0\n",
            "b    0\n",
            "c    0\n",
            "d    0\n",
            "e    0\n",
            "dtype: int64\n",
            "-------------------------------\n",
            "a    0\n",
            "b    0\n",
            "c    0\n",
            "d    0\n",
            "e    0\n",
            "dtype: int64\n",
            "===============================\n",
            "a    False\n",
            "b    False\n",
            "c     True\n",
            "d     True\n",
            "e     True\n",
            "dtype: bool\n",
            "-------------------------------\n",
            "a    True\n",
            "b    True\n",
            "c    True\n",
            "d    True\n",
            "e    True\n",
            "dtype: bool\n",
            "===============================\n",
            "0\n",
            "40\n",
            "100\n",
            "20.0\n",
            "20.0\n",
            "15.811388300841896\n",
            "250.0\n"
          ]
        }
      ],
      "source": [
        "data = np.arange(0,50,10)\n",
        "print(data)\n",
        "it = ['a','b','c','d','e']\n",
        "# a = pd.Series(data,index=['a','b','c','d','e'])\n",
        "a = pd.Series(data,index=it)\n",
        "print(a)\n",
        "print(\"===============================\")\n",
        "#덧셈\n",
        "print(a + 10)\n",
        "print(\"-------------------------------\")\n",
        "print(a.add(10))\n",
        "print(\"===============================\")\n",
        "#뺄셈\n",
        "print(a - 10)\n",
        "print(\"-------------------------------\")\n",
        "print(a.sub(10))\n",
        "print(\"===============================\")\n",
        "#나눗셈\n",
        "print(a / 10)\n",
        "print(\"-------------------------------\")\n",
        "print(a.div(10))\n",
        "print(\"-------------------------------\")\n",
        "print(a // 10)\n",
        "print(\"-------------------------------\")\n",
        "print(\"===============================\")\n",
        "\n",
        "#곱셈\n",
        "print(a * 10)\n",
        "print(\"-------------------------------\")\n",
        "print(a.mul(10))\n",
        "print(\"===============================\")\n",
        "#제곱\n",
        "print(a ** 10)\n",
        "print(\"-------------------------------\")\n",
        "print(a.pow(10))\n",
        "print(\"===============================\")\n",
        "#나머지\n",
        "print( a % 2 )\n",
        "print(\"-------------------------------\")\n",
        "print(a.mod(10))\n",
        "print(\"===============================\")\n",
        "#조건식\n",
        "print( a > 15 )\n",
        "print(\"-------------------------------\")\n",
        "print( a % 2 == 0)\n",
        "print(\"===============================\")\n",
        "\n",
        "#최소값\n",
        "print(a.min())\n",
        "\n",
        "#최대값\n",
        "print(a.max())\n",
        "\n",
        "#합계\n",
        "print(a.sum())\n",
        "\n",
        "#평균\n",
        "print(a.mean())\n",
        "\n",
        "#중앙값\n",
        "print(a.median())\n",
        "\n",
        "#표준편차\n",
        "print(a.std())\n",
        "\n",
        "#분산\n",
        "print(a.var())"
      ]
    },
    {
      "cell_type": "code",
      "execution_count": 120,
      "metadata": {
        "colab": {
          "base_uri": "https://localhost:8080/"
        },
        "id": "BZxib4cRM9dK",
        "outputId": "b38bf3ce-990e-43e4-cfc5-462f0b94f6b3"
      },
      "outputs": [
        {
          "name": "stdout",
          "output_type": "stream",
          "text": [
            "[    4     5     6 ... 99996 99997 99998]\n",
            "===============================\n",
            "0            4\n",
            "1            5\n",
            "2            6\n",
            "3            7\n",
            "4            8\n",
            "         ...  \n",
            "99990    99994\n",
            "99991    99995\n",
            "99992    99996\n",
            "99993    99997\n",
            "99994    99998\n",
            "Length: 99995, dtype: int64\n",
            "===============================\n",
            "0    4\n",
            "1    5\n",
            "2    6\n",
            "3    7\n",
            "4    8\n",
            "5    9\n",
            "dtype: int64\n",
            "-------------------------------\n",
            "2            6\n",
            "8           12\n",
            "14          18\n",
            "20          24\n",
            "26          30\n",
            "         ...  \n",
            "99968    99972\n",
            "99974    99978\n",
            "99980    99984\n",
            "99986    99990\n",
            "99992    99996\n",
            "Length: 16666, dtype: int64\n"
          ]
        }
      ],
      "source": [
        "#Boolean Index\n",
        "data = np.arange(4,99999,1)\n",
        "print(data)\n",
        "print(\"===============================\")\n",
        "a = pd.Series(data)\n",
        "print(a)\n",
        "print(\"===============================\")\n",
        "print(a[ a < 10 ])\n",
        "print(\"-------------------------------\")\n",
        "print(a[ (a % 2 == 0) & (a % 3 == 0) ])\n"
      ]
    },
    {
      "cell_type": "code",
      "execution_count": 145,
      "metadata": {
        "colab": {
          "base_uri": "https://localhost:8080/"
        },
        "id": "pMEc1GprS4vp",
        "outputId": "d7c02424-7298-491a-a860-849d9fe4472e"
      },
      "outputs": [
        {
          "name": "stdout",
          "output_type": "stream",
          "text": [
            "[[50 73 96]\n",
            " [84 80 95]\n",
            " [71 70 81]\n",
            " [99 76 53]]\n",
            "     국   영   수\n",
            "1반  50  73  96\n",
            "2반  84  80  95\n",
            "1반  71  70  81\n",
            "2반  99  76  53\n",
            "===============================\n",
            "1반    50\n",
            "2반    84\n",
            "1반    71\n",
            "2반    99\n",
            "Name: 국, dtype: int64\n",
            "===============================\n",
            "     국   영   수     평균\n",
            "1반  50  73  96  73.00\n",
            "2반  84  80  95  86.33\n",
            "1반  71  70  81  74.00\n",
            "2반  99  76  53  76.00\n",
            "===============================\n",
            "     국   영   수     평균\n",
            "2반  84  80  95  86.33\n",
            "2반  99  76  53  76.00\n",
            "===============================\n",
            "     국   영\n",
            "1반  50  73\n",
            "2반  84  80\n",
            "1반  71  70\n",
            "2반  99  76\n",
            "===============================\n"
          ]
        }
      ],
      "source": [
        "rawData = np.random.randint(50,100, size=(4,3))\n",
        "\n",
        "print(rawData)\n",
        "\n",
        "ban = [ '1반', '2반' ] * 2\n",
        "domain = ['국','영','수']\n",
        "\n",
        "df = pd.DataFrame(rawData,index=ban,columns=domain)\n",
        "\n",
        "print(df)\n",
        "print(\"===============================\")\n",
        "\n",
        "print(df['국'])\n",
        "\n",
        "print(\"===============================\")\n",
        "\n",
        "# 에러 발생\n",
        "#print(df[0])\n",
        "\n",
        "df['평균'] = round( (df['국'] + df['영'] + df['수']) / 3, 2)\n",
        "print(df)\n",
        "\n",
        "print(\"===============================\")\n",
        "\n",
        "print(df[df.평균 > 75])\n",
        "print(\"===============================\")\n",
        "\n",
        "df = df.drop(['평균','수'], axis='columns')\n",
        "print(df)\n",
        "\n",
        "print(\"===============================\")"
      ]
    },
    {
      "cell_type": "code",
      "execution_count": 140,
      "metadata": {
        "id": "-AT9yi27OhnB"
      },
      "outputs": [],
      "source": []
    }
  ],
  "metadata": {
    "colab": {
      "authorship_tag": "ABX9TyOKQI1vkNNbjuz5QVdLqn3E",
      "include_colab_link": true,
      "provenance": []
    },
    "kernelspec": {
      "display_name": "Python 3",
      "name": "python3"
    },
    "language_info": {
      "codemirror_mode": {
        "name": "ipython",
        "version": 3
      },
      "file_extension": ".py",
      "mimetype": "text/x-python",
      "name": "python",
      "nbconvert_exporter": "python",
      "pygments_lexer": "ipython3",
      "version": "3.9.13"
    }
  },
  "nbformat": 4,
  "nbformat_minor": 0
}
