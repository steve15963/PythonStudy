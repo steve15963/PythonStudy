{
  "cells": [
    {
      "cell_type": "markdown",
      "metadata": {
        "colab_type": "text",
        "id": "view-in-github"
      },
      "source": [
        "<a href=\"https://colab.research.google.com/github/steve15963/PythonStudy/blob/main/study.ipynb\" target=\"_parent\"><img src=\"https://colab.research.google.com/assets/colab-badge.svg\" alt=\"Open In Colab\"/></a>"
      ]
    },
    {
      "cell_type": "code",
      "execution_count": 3,
      "metadata": {
        "colab": {
          "base_uri": "https://localhost:8080/"
        },
        "id": "eaEa6X-zk29X",
        "outputId": "7fe6f9c0-7599-4fdd-d2d8-3629f2d3ff62"
      },
      "outputs": [
        {
          "name": "stdout",
          "output_type": "stream",
          "text": [
            "123\n",
            "테스트1번 1번과 연결되는 문자는 공백입니다.\n",
            "테스트2번-1번과 연결되는 문자는 sep에 따라서 -로 변경되었습니다. \n",
            "테스트3번-끝나는 줄 개행을 -으로 변경하여 하나의 줄에 출력이 됩니다.\n"
          ]
        }
      ],
      "source": [
        "print(123)\n",
        "\n",
        "print(\"테스트1번\", \"1번과 연결되는 문자는 공백입니다.\")\n",
        "\n",
        "print(\"테스트2번\" , \"1번과 연결되는 문자는 sep에 따라서 -로 변경되었습니다. \", sep='-')\n",
        "\n",
        "print(\"테스트3번\", end='-')\n",
        "print(\"끝나는 줄 개행을 -으로 변경하여 하나의 줄에 출력이 됩니다.\")\n",
        "\n"
      ]
    },
    {
      "cell_type": "code",
      "execution_count": 5,
      "metadata": {
        "colab": {
          "base_uri": "https://localhost:8080/"
        },
        "id": "FP4tkgxUlKyM",
        "outputId": "3b6f9e1c-4417-41e5-d919-8c093d24ec76"
      },
      "outputs": [
        {
          "name": "stdout",
          "output_type": "stream",
          "text": [
            "입력 : 테스트\n",
            "테스트\n"
          ]
        }
      ],
      "source": [
        "a = input(\"입력 : \")\n",
        "print(a)\n"
      ]
    },
    {
      "cell_type": "code",
      "execution_count": 12,
      "metadata": {
        "colab": {
          "base_uri": "https://localhost:8080/"
        },
        "id": "zD4JaLI7y_01",
        "outputId": "9a059953-e2d8-4f71-aa02-fd45c14a096d"
      },
      "outputs": [
        {
          "name": "stdout",
          "output_type": "stream",
          "text": [
            "13\n",
            "7\n",
            "30\n",
            "3.3333333333333335\n",
            "3\n",
            "1\n"
          ]
        }
      ],
      "source": [
        "#연산\n",
        "x = 10\n",
        "y = 3\n",
        "\n",
        "print(x + y)\n",
        "\n",
        "print(x - y)\n",
        "\n",
        "print(x * y)\n",
        "\n",
        "#실수 나누기\n",
        "print(x / y)\n",
        "\n",
        "#정수 나누기\n",
        "print(x // y)\n",
        "\n",
        "print(x % y)"
      ]
    },
    {
      "cell_type": "code",
      "execution_count": 13,
      "metadata": {
        "colab": {
          "base_uri": "https://localhost:8080/"
        },
        "id": "6t0QFCiwz-6U",
        "outputId": "71b79c04-163c-4870-cedd-e3f0031b4918"
      },
      "outputs": [
        {
          "name": "stdout",
          "output_type": "stream",
          "text": [
            "10\n",
            "-10\n"
          ]
        }
      ],
      "source": [
        "x = -10\n",
        "\n",
        "print(-x)\n",
        "print(+x)\n",
        "\n",
        "print( abs (x) )"
      ]
    },
    {
      "cell_type": "code",
      "execution_count": 17,
      "metadata": {
        "colab": {
          "base_uri": "https://localhost:8080/",
          "height": 276
        },
        "id": "7gjUkmQx0JCk",
        "outputId": "3bce59c8-22b3-45b3-92b9-fc9d8cd5db5b"
      },
      "outputs": [
        {
          "name": "stdout",
          "output_type": "stream",
          "text": [
            "입력 : 5\n",
            "15\n"
          ]
        },
        {
          "ename": "TypeError",
          "evalue": "unsupported operand type(s) for +: 'int' and 'str'",
          "output_type": "error",
          "traceback": [
            "\u001b[0;31m---------------------------------------------------------------------------\u001b[0m",
            "\u001b[0;31mTypeError\u001b[0m                                 Traceback (most recent call last)",
            "\u001b[0;32m<ipython-input-17-a3c205391974>\u001b[0m in \u001b[0;36m<cell line: 10>\u001b[0;34m()\u001b[0m\n\u001b[1;32m      8\u001b[0m \u001b[0mprint\u001b[0m\u001b[0;34m(\u001b[0m\u001b[0mx\u001b[0m \u001b[0;34m+\u001b[0m \u001b[0minteger\u001b[0m\u001b[0;34m)\u001b[0m\u001b[0;34m\u001b[0m\u001b[0;34m\u001b[0m\u001b[0m\n\u001b[1;32m      9\u001b[0m \u001b[0;31m#에러 발생\u001b[0m\u001b[0;34m\u001b[0m\u001b[0;34m\u001b[0m\u001b[0m\n\u001b[0;32m---> 10\u001b[0;31m \u001b[0mprint\u001b[0m\u001b[0;34m(\u001b[0m\u001b[0mx\u001b[0m \u001b[0;34m+\u001b[0m \u001b[0minData\u001b[0m\u001b[0;34m)\u001b[0m\u001b[0;34m\u001b[0m\u001b[0;34m\u001b[0m\u001b[0m\n\u001b[0m\u001b[1;32m     11\u001b[0m \u001b[0;34m\u001b[0m\u001b[0m\n",
            "\u001b[0;31mTypeError\u001b[0m: unsupported operand type(s) for +: 'int' and 'str'"
          ]
        }
      ],
      "source": [
        "inData = input(\"입력 : \")\n",
        "\n",
        "integer = int(inData)\n",
        "\n",
        "x = 10\n",
        "\n",
        "\n",
        "print(x + integer)\n",
        "#에러 발생\n",
        "print(x + inData)\n",
        "\n"
      ]
    },
    {
      "cell_type": "code",
      "execution_count": 21,
      "metadata": {
        "colab": {
          "base_uri": "https://localhost:8080/"
        },
        "id": "BaKEWj_y0uku",
        "outputId": "4377bf87-8717-46ab-d0a7-7ee3ea1fa931"
      },
      "outputs": [
        {
          "name": "stdout",
          "output_type": "stream",
          "text": [
            "3\n",
            "1\n"
          ]
        }
      ],
      "source": [
        "x = 10\n",
        "y= 3\n",
        "\n",
        "a,b = divmod(10,3)\n",
        "\n",
        "#몫\n",
        "print(a)\n",
        "#나머지\n",
        "print(b)"
      ]
    },
    {
      "cell_type": "code",
      "execution_count": 23,
      "metadata": {
        "colab": {
          "base_uri": "https://localhost:8080/"
        },
        "id": "wivTjR7p1Pm3",
        "outputId": "b1aa36a5-2d24-4828-b342-e1c6cad2be26"
      },
      "outputs": [
        {
          "name": "stdout",
          "output_type": "stream",
          "text": [
            "1000\n",
            "1000\n"
          ]
        }
      ],
      "source": [
        "# 제곱\n",
        "x = 10\n",
        "y = 3\n",
        "z = pow(x,y)\n",
        "print(z)\n",
        "\n",
        "z = x ** y\n",
        "print(z)"
      ]
    },
    {
      "cell_type": "code",
      "execution_count": 1,
      "metadata": {
        "colab": {
          "base_uri": "https://localhost:8080/"
        },
        "id": "S6Fi1pC_1Vck",
        "outputId": "e2f03755-fddb-4ed0-c10b-6102ebf423bd"
      },
      "outputs": [],
      "source": [
        "one = int(input(\"입력 : \"))\n",
        "two = int(input(\"입력 : \"))\n",
        "\n",
        "print(\"합 : \" , one + two)\n",
        "print(\"차 : \" , one - two)\n",
        "print(\"곱 : \" , one * two)\n",
        "print(\"목 : \" , one % two)"
      ]
    },
    {
      "cell_type": "code",
      "execution_count": 109,
      "metadata": {
        "colab": {
          "base_uri": "https://localhost:8080/"
        },
        "id": "rhJxqccIFo21",
        "outputId": "52777f24-8bfa-4974-afb6-7d02728ff034"
      },
      "outputs": [
        {
          "name": "stdout",
          "output_type": "stream",
          "text": [
            "10\n",
            "3\n",
            "3.33\n"
          ]
        }
      ],
      "source": [
        "one = int(input())\n",
        "two = int(input())\n",
        "\n",
        "print(f\"{one/two:.2f}\")"
      ]
    },
    {
      "cell_type": "code",
      "execution_count": 30,
      "metadata": {
        "colab": {
          "base_uri": "https://localhost:8080/"
        },
        "id": "jN5ZnsWK6HtF",
        "outputId": "cbe68e41-be6d-4e50-ce32-c6318e91dbbb"
      },
      "outputs": [
        {
          "name": "stdout",
          "output_type": "stream",
          "text": [
            "\"안녕하세요\"\n",
            "안녕하세요\n",
            "\n",
            "테스\"트\"입니다.\n",
            "\n"
          ]
        }
      ],
      "source": [
        "a = '\"안녕하세요\"'\n",
        "\n",
        "print(a)\n",
        "\n",
        "#\"을 출력하고 싶다면 '으로 감싸거나\n",
        "a = \"안녕하세요\"\n",
        "print(a)\n",
        "\n",
        "# \"\"\"으로 감싼다.\n",
        "a= \"\"\"\n",
        "테스\"트\"입니다.\n",
        "\"\"\"\n",
        "print(a)\n"
      ]
    },
    {
      "cell_type": "code",
      "execution_count": 35,
      "metadata": {
        "colab": {
          "base_uri": "https://localhost:8080/"
        },
        "id": "8agNM_G66X3w",
        "outputId": "52bd1fb0-23f3-4ce0-8941-1ca448e1adde"
      },
      "outputs": [
        {
          "name": "stdout",
          "output_type": "stream",
          "text": [
            "abcdefgb\n"
          ]
        }
      ],
      "source": [
        "a = \"abcdefg\"\n",
        "\n",
        "for char in a:\n",
        "  print(char,end='')\n",
        "\n",
        "# a가 아닌 이유 인덱스는 0부터임.\n",
        "print(a[1],end='\\n')\n",
        "\n",
        "\n"
      ]
    },
    {
      "cell_type": "code",
      "execution_count": 42,
      "metadata": {
        "colab": {
          "base_uri": "https://localhost:8080/"
        },
        "id": "C5AFvvbd7Itd",
        "outputId": "999b1f52-13ad-47d9-f0cc-104aeb2ad33b"
      },
      "outputs": [
        {
          "name": "stdout",
          "output_type": "stream",
          "text": [
            "abcdefg\n",
            "bc\n",
            "defg\n",
            "abcde\n",
            "bd\n"
          ]
        }
      ],
      "source": [
        "a = 'abcdefg'\n",
        "\n",
        "#전체\n",
        "print(a[:])\n",
        "\n",
        "print(a[1:3])\n",
        "\n",
        "print(a[3:])\n",
        "\n",
        "print(a[:5])\n",
        "\n",
        "#2칸씩\n",
        "print(a[1:4:2])"
      ]
    },
    {
      "cell_type": "code",
      "execution_count": 43,
      "metadata": {
        "colab": {
          "base_uri": "https://localhost:8080/"
        },
        "id": "VbWWdBcL7b38",
        "outputId": "0aa18f9b-94ca-4ea0-e815-d73f1462c4db"
      },
      "outputs": [
        {
          "name": "stdout",
          "output_type": "stream",
          "text": [
            "ABCDEF\n"
          ]
        }
      ],
      "source": [
        "print(\"ABC\" + \"DEF\")"
      ]
    },
    {
      "cell_type": "code",
      "execution_count": 47,
      "metadata": {
        "colab": {
          "base_uri": "https://localhost:8080/"
        },
        "id": "vAcvXIMr8JaN",
        "outputId": "3eb80d83-86d0-4156-caa6-6cb2cc3fa78b"
      },
      "outputs": [
        {
          "name": "stdout",
          "output_type": "stream",
          "text": [
            "가나다라마바사\n",
            "라마바\n"
          ]
        }
      ],
      "source": [
        "str = \"가나다라마바사\"\n",
        "\n",
        "str2 = str[3:6]\n",
        "\n",
        "print(str)\n",
        "\n",
        "print(str2)"
      ]
    },
    {
      "cell_type": "code",
      "execution_count": 59,
      "metadata": {
        "colab": {
          "base_uri": "https://localhost:8080/"
        },
        "id": "8pOW993L8T7k",
        "outputId": "1a67ea7d-9f56-44cd-8e6b-0029a48b69f7"
      },
      "outputs": [
        {
          "name": "stdout",
          "output_type": "stream",
          "text": [
            "hello world\n",
            "Hello world\n",
            "3\n",
            "1\n",
            "특정 문자열로 시작하는지\n",
            "True\n",
            "True\n",
            "특정 문자열로 끝나는\n",
            "True\n",
            "True\n",
            "대소문자도 구별하는지\n",
            "True\n",
            "False\n",
            "True\n",
            "False\n",
            "1\n",
            "6\n",
            "1\n"
          ]
        }
      ],
      "source": [
        "s = \"hello world\"\n",
        "\n",
        "newS = s.capitalize()\n",
        "\n",
        "print(s)\n",
        "#첫 문자 대문자화\n",
        "print(newS)\n",
        "\n",
        "sCount = s.count('l')\n",
        "#문자 카운트\n",
        "print(sCount)\n",
        "\n",
        "sCount = s.count('hello')\n",
        "#문자열 카운트\n",
        "print(sCount)\n",
        "\n",
        "#특정 문자열로 시작하는지\n",
        "print(\"특정 문자열로 시작하는지\")\n",
        "print( s.startswith('h') )\n",
        "print( s.startswith(\"hello\") )\n",
        "\n",
        "\n",
        "\n",
        "#특정 문자열 끝나는지\n",
        "print(\"특정 문자열로 끝나는\")\n",
        "print( s.endswith('d') )\n",
        "print( s.endswith(\"world\"))\n",
        "\n",
        "#대소문자도 구별하는지.\n",
        "print(\"대소문자도 구별하는지\")\n",
        "print( s.startswith('hello') )\n",
        "print( s.startswith('Hello') )\n",
        "print( s.endswith(\"world\"))\n",
        "print( s.endswith(\"World\"))\n",
        "\n",
        "\n",
        "#문자열 찾기\n",
        "print( s.find(\"e\") )\n",
        "print( s.find(\"wor\") )\n",
        "print( s.index(\"e\") )\n",
        "#에러 발생\n",
        "#print( s.index(\"z\") )\n",
        "#find는 -1 반환 , index는 에러 발생."
      ]
    },
    {
      "cell_type": "code",
      "execution_count": 61,
      "metadata": {
        "colab": {
          "base_uri": "https://localhost:8080/"
        },
        "id": "D_P5lb8I81Yu",
        "outputId": "b6e52c31-d8b4-4014-fc2c-59bda794bfea"
      },
      "outputs": [
        {
          "name": "stdout",
          "output_type": "stream",
          "text": [
            "hello world\n",
            "HELLO WORLD\n"
          ]
        }
      ],
      "source": [
        "slower = s.lower();\n",
        "\n",
        "print(slower);\n",
        "\n",
        "ulower = s.upper();\n",
        "\n",
        "print(ulower);"
      ]
    },
    {
      "cell_type": "code",
      "execution_count": 62,
      "metadata": {
        "colab": {
          "base_uri": "https://localhost:8080/"
        },
        "id": "U_UQZKlb_7kl",
        "outputId": "d9156637-0cc0-4b01-8153-88aef0f19ea6"
      },
      "outputs": [
        {
          "name": "stdout",
          "output_type": "stream",
          "text": [
            "hello replace\n"
          ]
        }
      ],
      "source": [
        "copys = s.replace('world',\"replace\")\n",
        "\n",
        "print(copys)"
      ]
    },
    {
      "cell_type": "code",
      "execution_count": 70,
      "metadata": {
        "colab": {
          "base_uri": "https://localhost:8080/"
        },
        "id": "-UhUU5t9AGZE",
        "outputId": "0e591173-0251-4f03-f593-236b7fbfc347"
      },
      "outputs": [
        {
          "name": "stdout",
          "output_type": "stream",
          "text": [
            "['hello', 'world']\n",
            "['hell', ' w', 'rld']\n",
            "['he', 'o world']\n"
          ]
        }
      ],
      "source": [
        "splitS = s.split()\n",
        "\n",
        "print(splitS)\n",
        "\n",
        "splitS2 = s.split('o')\n",
        "\n",
        "print(splitS2)\n",
        "\n",
        "splitS3 = s.split(\"ll\")\n",
        "\n",
        "print(splitS3)"
      ]
    },
    {
      "cell_type": "code",
      "execution_count": 77,
      "metadata": {
        "colab": {
          "base_uri": "https://localhost:8080/"
        },
        "id": "uZJqZjuUAz9l",
        "outputId": "6bc34a54-78c5-4510-dd31-65102f4474d9"
      },
      "outputs": [
        {
          "name": "stdout",
          "output_type": "stream",
          "text": [
            "입력1 2 3\n",
            "6\n"
          ]
        }
      ],
      "source": [
        "one, two ,three = map(int,input(\"입력\").split())\n",
        "\n",
        "print(one + two + three)"
      ]
    },
    {
      "cell_type": "code",
      "execution_count": 112,
      "metadata": {
        "colab": {
          "base_uri": "https://localhost:8080/"
        },
        "id": "J9ZAvxXaCn-G",
        "outputId": "e70a4668-862f-44bc-c3e6-3858022e87d0"
      },
      "outputs": [
        {
          "name": "stdout",
          "output_type": "stream",
          "text": [
            "내 이름은 점점점입니다. 나이는 1입니다. 키는 123.123000입니다.\n",
            "내 이름은 123.123입니다. 나이는 점점점입니다. 키는 20입니다.\n",
            "내 이름은 점점점입니다. 나이는 20입니다. 키는 123.123입니다.\n",
            "점점점의 나이는 10살 입니다.\n",
            "==hello==\n",
            "==     hello==\n",
            "==hello     ==\n",
            "==hello     ==\n",
            "==     hello==\n",
            "==hello     ==\n",
            "==  hello   ==\n",
            "==점점점       ==의 나이는 10살 입니다.\n",
            "==       점점점==의 나이는 10살 입니다.\n",
            "3\n",
            "3.33\n",
            "==3.3333==\n",
            "999,999\n"
          ]
        }
      ],
      "source": [
        "print(\"내 이름은 %s입니다. 나이는 %d입니다. 키는 %f입니다.\"%(\"점점점\", 1, 123.123))\n",
        "\n",
        "print(\"내 이름은 {2}입니다. 나이는 {0}입니다. 키는 {1}입니다.\".format(\"점점점\",20,123.123))\n",
        "\n",
        "print(\"내 이름은 {name}입니다. 나이는 {age}입니다. 키는 {heigth}입니다.\".format(name=\"점점점\",age=20,heigth=123.123))\n",
        "\n",
        "name = \"점점점\"\n",
        "age = 10\n",
        "\n",
        "print( f\"{name}의 나이는 {age}살 입니다.\" )\n",
        "\n",
        "\n",
        "print(\"==%s==\"%\"hello\")\n",
        "print(\"==%10s==\"%\"hello\")\n",
        "print(\"==%-10s==\"%\"hello\")\n",
        "\n",
        "print(\"=={:10}==\".format(\"hello\"))\n",
        "print(\"=={:>10}==\".format(\"hello\"))\n",
        "print(\"=={:<10}==\".format(\"hello\"))\n",
        "print(\"=={:^10}==\".format(\"hello\"))\n",
        "print( f\"=={name:10}==의 나이는 {age}살 입니다.\" )\n",
        "print( f\"=={name:>10}==의 나이는 {age}살 입니다.\" )\n",
        "\n",
        "print(\"%.f\"%(10/3))\n",
        "print(\"%.2f\"%(10/3))\n",
        "\n",
        "print( \"=={:.4f}==\".format(10/3) )\n",
        "\n",
        "print( \"{:,}\".format(999999) )"
      ]
    },
    {
      "cell_type": "code",
      "execution_count": 117,
      "metadata": {
        "colab": {
          "base_uri": "https://localhost:8080/"
        },
        "id": "OjJuIvQoG3kb",
        "outputId": "a8baef23-cf4a-433c-a468-ea9ae7d463d9"
      },
      "outputs": [
        {
          "name": "stdout",
          "output_type": "stream",
          "text": [
            "01234\n",
            "0TTHO 1THO 2HUN 3TEN 4\n"
          ]
        }
      ],
      "source": [
        "num = int(input())\n",
        "\n",
        "print(num//10000%10,\"TTHO\",end=\" \",sep='')\n",
        "print(num//1000%10,\"THO\",end=\" \",sep='')\n",
        "print(num//100%10,\"HUN\",end=\" \",sep='')\n",
        "print(num//10%10,\"TEN\",end=\" \",sep='')\n",
        "print(num%10)"
      ]
    },
    {
      "cell_type": "code",
      "execution_count": 120,
      "metadata": {
        "colab": {
          "base_uri": "https://localhost:8080/"
        },
        "id": "zaT2U7RSC2E8",
        "outputId": "9f152e61-b7a2-408b-eba0-e7cee7e80301"
      },
      "outputs": [
        {
          "name": "stdout",
          "output_type": "stream",
          "text": [
            "입력 : 1\n",
            "F\n"
          ]
        }
      ],
      "source": [
        "num = int(input(\"입력 : \"))\n",
        "\n",
        "two = num % 2 == 0\n",
        "three = num % 3 == 0\n",
        "five = num % 5 == 0\n",
        "\n",
        "if two and three and five:\n",
        "  print(\"A\")\n",
        "elif two and three:\n",
        "  print(\"B\")\n",
        "elif three and five:\n",
        "  print(\"C\")\n",
        "elif two and five:\n",
        "  print(\"D\")\n",
        "elif two or three or five:\n",
        "  print(\"E\")\n",
        "else:\n",
        "  print(\"F\")\n"
      ]
    },
    {
      "cell_type": "code",
      "execution_count": 128,
      "metadata": {
        "colab": {
          "base_uri": "https://localhost:8080/"
        },
        "id": "MOAJxL_BOg-m",
        "outputId": "4565cb9b-33d7-49a8-a933-a7a129ef272b"
      },
      "outputs": [
        {
          "name": "stdout",
          "output_type": "stream",
          "text": [
            "0\n",
            "1\n",
            "2\n",
            "3\n",
            "4\n",
            "===========\n",
            "1\n",
            "2\n",
            "===========\n",
            "0\n",
            "2\n",
            "4\n",
            "6\n",
            "8\n",
            "===========\n",
            "입력123\n",
            "123\n"
          ]
        }
      ],
      "source": [
        "for i in range(5):\n",
        "  print(i)\n",
        "print(\"===========\")\n",
        "for i in range(1,3):\n",
        "  print(i)\n",
        "print(\"===========\")\n",
        "for i in range(0,10,2):\n",
        "  print(i)\n",
        "print(\"===========\")\n",
        "inputlist = map(int, input(\"입력\").split())\n",
        "\n",
        "for i in inputlist:\n",
        "  print(i)"
      ]
    },
    {
      "cell_type": "code",
      "execution_count": 137,
      "metadata": {
        "colab": {
          "base_uri": "https://localhost:8080/"
        },
        "id": "aJ2oVFi0Rdd4",
        "outputId": "af807da8-af04-4868-fa9f-4df6c1db1740"
      },
      "outputs": [
        {
          "name": "stdout",
          "output_type": "stream",
          "text": [
            "[1, 2, 3, 4, 5]\n",
            "[1, 2, 3, 4, 5, 6, 7, 8, 9, 0]\n",
            "[1, 2, 3, 4, 5, 1, 2, 3, 4, 5, 1, 2, 3, 4, 5]\n",
            "5\n",
            "[1, 3, 4, 5]\n",
            "True\n",
            "False\n"
          ]
        }
      ],
      "source": [
        "a = [1,2,3,4,5]\n",
        "print(a)\n",
        "\n",
        "b = [6,7,8,9,0]\n",
        "\n",
        "print(a+b)\n",
        "\n",
        "c = a * 3\n",
        "\n",
        "print(c)\n",
        "\n",
        "al = len(a)\n",
        "print(al)\n",
        "\n",
        "b[4] = 10\n",
        "\n",
        "li = [1,2,3,4,5]\n",
        "\n",
        "del li[1]\n",
        "\n",
        "print(li)\n",
        "\n",
        "print(1 in [1,2,3])\n",
        "\n",
        "print( 10 in li )"
      ]
    },
    {
      "cell_type": "code",
      "execution_count": 154,
      "metadata": {
        "colab": {
          "base_uri": "https://localhost:8080/"
        },
        "id": "mKhckHrlTyYY",
        "outputId": "404f44c5-ece0-497c-e34a-840ba2729fe0"
      },
      "outputs": [
        {
          "name": "stdout",
          "output_type": "stream",
          "text": [
            "[1, 2, 3, 4]\n",
            "[1, 2, 3, [4, 5, 6]]\n",
            "[1, 2, 3, 4, 5, 6]\n",
            "[1, 2, 10, 3]\n",
            "4\n",
            "0\n",
            "[1, 2, 3]\n",
            "[3, 2, 1]\n",
            "[1, 2, 3]\n",
            "[2, 1, 3]\n",
            "[1, 1, 2, 3] 3\n",
            "1235 1 2391\n",
            "range(0, 10)\n"
          ]
        }
      ],
      "source": [
        "li = [1,2,3]\n",
        "li.append(4)\n",
        "\n",
        "print(li)\n",
        "\n",
        "#요소로 리스트가\n",
        "li = [ 1, 2, 3 ]\n",
        "li.append([4,5,6])\n",
        "print(li)\n",
        "\n",
        "#리스트에 요소를 넣는다.\n",
        "li = [ 1, 2, 3 ]\n",
        "li.extend([4,5,6])\n",
        "print(li)\n",
        "\n",
        "#특정 인덱스에 요소를 넣는다.\n",
        "li = [ 1, 2, 3 ]\n",
        "li.insert(2,10)\n",
        "print(li)\n",
        "\n",
        "#리스트에서 일치하는 요소의 수를 카운트\n",
        "li = [ 1, 2, 3,1,2,3,4,1,23,4,56,1,2]\n",
        "print(li.count(1))\n",
        "\n",
        "#리스트에서 특정값에 해당하는 요소를 찾지만 찾지 못하면 에러가 터진다.\n",
        "#앞에서 부터 탐색\n",
        "li = [ 1, 2, 3, 2, 1]\n",
        "print(li.index(1))\n",
        "\n",
        "#정렬\n",
        "li = [ 2, 1, 3 ]\n",
        "li.sort()\n",
        "print(li)\n",
        "li.sort(reverse=True)\n",
        "print(li)\n",
        "\n",
        "#뒤집기\n",
        "li = [ 3, 2 ,1]\n",
        "li.reverse()\n",
        "print(li)\n",
        "\n",
        "#삭제 단 중복 요소가 여러개라도 첫번재 요소만(왼쪽부터 오른족으로)\n",
        "li = [ 3, 2 ,1, 3]\n",
        "li.remove(3)\n",
        "print(li)\n",
        "\n",
        "#스택 POP\n",
        "li = [1,1,2,3,3]\n",
        "popData = li.pop()\n",
        "print(li,popData)\n",
        "\n",
        "\n",
        "#최대값, 최소값, 합계\n",
        "li = [1,2,3,4,5,6,7,8,9,1111,1235]\n",
        "print(max(li), min(li), sum(li))\n",
        "\n",
        "# range(10)은 객체\n",
        "# list(range(10))는 리스트\n",
        "print(range(10))\n",
        "print(list(range(10)))\n"
      ]
    },
    {
      "cell_type": "code",
      "execution_count": 158,
      "metadata": {
        "colab": {
          "base_uri": "https://localhost:8080/"
        },
        "id": "OYLcPOdoTLPF",
        "outputId": "de17f1c1-6a3e-4215-b8b2-af5621e826ba"
      },
      "outputs": [
        {
          "name": "stdout",
          "output_type": "stream",
          "text": [
            "4\n",
            "1\n",
            "(1, 2, 3, 4, 1, 2, 3, 4, 1, 2, 3, 4)\n",
            "(1, 2, 3, 4, 1, 2, 3)\n",
            "1 4 10\n",
            "(3,)\n"
          ]
        }
      ],
      "source": [
        "#튜플\n",
        "t = ()\n",
        "t = (1,)\n",
        "t2 = (1, 2, 3)\n",
        "#튜플은 소괄호 생략가능\n",
        "t = 1, 2, 3, 4\n",
        "#튜플은 변경 불가\n",
        "#t[0] = 2\n",
        "print(len(t))\n",
        "\n",
        "print(t.count(1))\n",
        "\n",
        "print(t * 3)\n",
        "\n",
        "print(t + t2)\n",
        "\n",
        "print(min(t), max(t), sum(t))\n",
        "\n",
        "print(t[2:3])\n"
      ]
    },
    {
      "cell_type": "code",
      "execution_count": 172,
      "metadata": {
        "colab": {
          "base_uri": "https://localhost:8080/"
        },
        "id": "4q_fsgaYZXj-",
        "outputId": "3dd01d0f-d345-4dfa-d6ae-1d3f766c2ce6"
      },
      "outputs": [
        {
          "name": "stdout",
          "output_type": "stream",
          "text": [
            "{1, 2, 3}\n",
            "{1, 2, 3}\n",
            "{'e', 'h', 'o', 'l'}\n",
            "{3, 4, 5}\n",
            "{1, 2, 3, 4, 5}\n",
            "{1, 2}\n",
            "True\n",
            "True\n",
            "False\n",
            "False\n",
            "False\n",
            "{1, 2, 3, 4}\n",
            "{1, 2, 3, 4, 5, 6}\n",
            "{2, 3}\n",
            "{2, 3}\n",
            "{2, 3}\n",
            "1\n",
            "1 3 6\n"
          ]
        }
      ],
      "source": [
        "#집합.\n",
        "s = {1,2,3}\n",
        "print(s)\n",
        "\n",
        "#중복 불가\n",
        "s = {1,2,3,1,2,3}\n",
        "print(s)\n",
        "\n",
        "s = set(\"hello\")\n",
        "print(s)\n",
        "\n",
        "\n",
        "s1 = set([1,2,3,4,5])\n",
        "s2 = set([3,4,5])\n",
        "\n",
        "#교집합\n",
        "print(s1 & s2)\n",
        "\n",
        "#합집합\n",
        "print(s1 | s2)\n",
        "\n",
        "#차집합\n",
        "print(s1 - s2)\n",
        "\n",
        "#부분집합 -> s2의 모든 요소가 s1에 있는가?\n",
        "print(s1 >= s2)\n",
        "print(s1.issuperset(s2))\n",
        "#부분집합 -> s1의 모든 요소가 s2에 있는가?\n",
        "print(s1 <= s2)\n",
        "print(s2.issuperset(s1))\n",
        "\n",
        "#공집합 -> s1과 s2가 겹치는 것이 없는가?\n",
        "print(s1.isdisjoint(s2))\n",
        "\n",
        "s1 = set([1,2,3])\n",
        "s1.add(4)\n",
        "print(s1)\n",
        "\n",
        "s1 = set([1,2,3])\n",
        "s1.update([4,5,6])\n",
        "print(s1)\n",
        "\n",
        "s1 = set([1,2,3])\n",
        "#1이라느 요소 삭제\n",
        "s1.remove(1)\n",
        "#없는거 삭제시 에러 발생\n",
        "#s1.remove(4)\n",
        "print(s1)\n",
        "\n",
        "s1 = set([1,2,3])\n",
        "#1요소 삭제\n",
        "s1.discard(1)\n",
        "#4라는 없는 요소 삭제시 에러가 발생하지 않음.\n",
        "s1.discard(4)\n",
        "print(s1)\n",
        "\n",
        "s1 = set([1,2,3])\n",
        "num = s1.pop()\n",
        "print(s1)\n",
        "print(num)\n",
        "\n",
        "\n",
        "\n",
        "s1 = set([1,2,3])\n",
        "print(min(s1), max(s1), sum(s1))"
      ]
    },
    {
      "cell_type": "code",
      "execution_count": 180,
      "metadata": {
        "colab": {
          "base_uri": "https://localhost:8080/"
        },
        "id": "2K0_rr8Jasmx",
        "outputId": "49e3c639-d7f7-4825-bcf3-e3a0b240bb4a"
      },
      "outputs": [
        {
          "name": "stdout",
          "output_type": "stream",
          "text": [
            "철수\n",
            "123.123\n",
            "{'name': '철수', '몸무게': 123, '키': 123.123, '나이': 20}\n",
            "{'몸무게': 123, '키': 123.123, '나이': 20}\n",
            "dict_keys(['몸무게', '키', '나이'])\n",
            "dict_values([123, 123.123, 20])\n",
            "dict_items([('몸무게', 123), ('키', 123.123), ('나이', 20)])\n",
            "{}\n",
            "3\n",
            "1 3 6\n"
          ]
        }
      ],
      "source": [
        "dic = {\n",
        "    \"name\" : \"철수\",\n",
        "    \"몸무게\" : 123,\n",
        "    \"키\" : 123.123\n",
        "}\n",
        "print(dic['name'])\n",
        "print(dic.get('키'))\n",
        "\n",
        "#추가\n",
        "dic['나이'] = 20\n",
        "print(dic)\n",
        "\n",
        "del dic['name']\n",
        "print(dic)\n",
        "\n",
        "#모든 키 출력\n",
        "print(dic.keys())\n",
        "\n",
        "#모든 값 출력\n",
        "print(dic.values())\n",
        "\n",
        "#모든 사전 요소를 튜플 리스트로 반환\n",
        "print(dic.items())\n",
        "\n",
        "#모든 요소 삭제\n",
        "dic.clear()\n",
        "print(dic)\n",
        "\n",
        "dic = {\n",
        "    \"name\" : \"철수\",\n",
        "    \"몸무게\" : 123,\n",
        "    \"키\" : 123.123\n",
        "}\n",
        "\n",
        "#모든 요소의 수\n",
        "print(len(dic))\n",
        "\n",
        "#사전 복사\n",
        "#얕은 복사\n",
        "dic2 = dic\n",
        "#깊은 복사\n",
        "dic2 = dict(dic)\n",
        "dic2 = dic.copy()\n",
        "\n",
        "dic = { 1 : \"철수\", 2 : \"철희\", 3 : \"민희\"}\n",
        "#키값에 대한 연산\n",
        "print( min(dic), max(dic), sum(dic) )\n"
      ]
    },
    {
      "cell_type": "code",
      "execution_count": 181,
      "metadata": {
        "colab": {
          "base_uri": "https://localhost:8080/"
        },
        "id": "7nfdGJJYgMBH",
        "outputId": "174e158e-8e53-4083-c720-5adfeec6361c"
      },
      "outputs": [
        {
          "name": "stdout",
          "output_type": "stream",
          "text": [
            "15\n"
          ]
        }
      ],
      "source": [
        "def ArgsSum(*args):\n",
        "  s = 0\n",
        "  for i in args:\n",
        "    s += i\n",
        "  return s\n",
        "\n",
        "total = ArgsSum(1,2,3,4,5)\n",
        "print(total)"
      ]
    },
    {
      "cell_type": "code",
      "execution_count": 199,
      "metadata": {
        "id": "7vzXqC2ZhdqI"
      },
      "outputs": [],
      "source": [
        "#덮어 씌우기\n",
        "fp = open('file.txt', 'w')\n",
        "fp.write(\"hello \\n\");\n",
        "fp.write('world \\n');\n",
        "fp.close()"
      ]
    },
    {
      "cell_type": "code",
      "execution_count": 201,
      "metadata": {
        "id": "-BQYBzFHiOsg"
      },
      "outputs": [],
      "source": [
        "#이어 쓰기\n",
        "fp = open('file.txt', 'a')\n",
        "fp.write(\"hello \\n\");\n",
        "fp.close()"
      ]
    },
    {
      "cell_type": "code",
      "execution_count": 202,
      "metadata": {
        "colab": {
          "base_uri": "https://localhost:8080/"
        },
        "id": "JmVp40ptigmY",
        "outputId": "c1f52ce5-382a-4194-a9c9-d4006699116f"
      },
      "outputs": [
        {
          "name": "stdout",
          "output_type": "stream",
          "text": [
            "hello \n",
            "\n",
            "world \n",
            "\n",
            "hello \n",
            "\n"
          ]
        }
      ],
      "source": [
        "#한줄씩 쓰기\n",
        "fp = open('file.txt', 'r')\n",
        "\n",
        "while True:\n",
        "  line = fp.readline()\n",
        "  if not line:\n",
        "    break\n",
        "  print(line)\n",
        "fp.close()"
      ]
    },
    {
      "cell_type": "code",
      "execution_count": 203,
      "metadata": {
        "colab": {
          "base_uri": "https://localhost:8080/"
        },
        "id": "ZaYiIWuni_uI",
        "outputId": "0a8a6b91-6221-45a4-e4cb-010c7fa7c34e"
      },
      "outputs": [
        {
          "name": "stdout",
          "output_type": "stream",
          "text": [
            "['hello \\n', 'world \\n', 'hello \\n']\n",
            "hello \n",
            "world \n",
            "hello \n",
            "\n"
          ]
        }
      ],
      "source": [
        "#한번에 모두 읽기\n",
        "fp = open('file.txt', 'r')\n",
        "lines = fp.readlines()\n",
        "print(lines)\n",
        "fp.close()\n",
        "\n",
        "fp = open('file.txt', 'r')\n",
        "lines = fp.read()\n",
        "print(lines)\n",
        "fp.close()\n",
        "\n"
      ]
    },
    {
      "cell_type": "code",
      "execution_count": 204,
      "metadata": {
        "id": "ofprVql8jnnC"
      },
      "outputs": [],
      "source": [
        "with open('file.txt','a') as f:\n",
        "  f.write(\"with is god!!\")\n",
        "#파일 확인하기"
      ]
    }
  ],
  "metadata": {
    "colab": {
      "authorship_tag": "ABX9TyN93Yuh0UgKUrDVAia/PIY8",
      "include_colab_link": true,
      "provenance": []
    },
    "kernelspec": {
      "display_name": "Python 3",
      "name": "python3"
    },
    "language_info": {
      "codemirror_mode": {
        "name": "ipython",
        "version": 3
      },
      "file_extension": ".py",
      "mimetype": "text/x-python",
      "name": "python",
      "nbconvert_exporter": "python",
      "pygments_lexer": "ipython3",
      "version": "3.9.13"
    }
  },
  "nbformat": 4,
  "nbformat_minor": 0
}
